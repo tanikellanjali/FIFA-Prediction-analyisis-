{
 "cells": [
  {
   "cell_type": "markdown",
   "id": "5feedc01",
   "metadata": {},
   "source": [
    "# FIFA VALUE OF PLAYER PREDICTION "
   ]
  },
  {
   "cell_type": "markdown",
   "id": "aec3f727",
   "metadata": {},
   "source": [
    "18 May 2022"
   ]
  },
  {
   "cell_type": "markdown",
   "id": "cf3e0d69",
   "metadata": {},
   "source": [
    "                                                                                    Team Members \n",
    "                                                                                     * Siddhant Gupta (50441839)\n",
    "                                                                                     * Kishore Kumar (50442203)\n",
    "                                                                                     * Vineeth ReddyTati (50369160)\n",
    "                                                                                     * Anjali T (50441491)   "
   ]
  },
  {
   "cell_type": "markdown",
   "id": "243a0904",
   "metadata": {},
   "source": [
    "Our project considered one year data of fifa players , fifa 2018  . We intended to predict the value of the player based on features provided  . To establish this we used two models . Namely \n",
    "- linear regression \n",
    "- k fold method \n",
    "- SVC \n",
    "- Random Forest \n",
    "- Descision Tree \n",
    "We then plotted the predicted values correspoinding to the actual value to understand the accuracy of our models . \n"
   ]
  },
  {
   "cell_type": "markdown",
   "id": "80e5ed13",
   "metadata": {},
   "source": [
    "We followed the below listed steps to create our model\n",
    "- loading the data using pandas \n",
    "- understanding the data and columns \n",
    "- normalizing the data into understandable data bases \n",
    "- visualising the data \n",
    "- understanding the dependencies for value\n",
    "- pre processing data , removing na's , clearing less useful features \n",
    "- dividing the table into training and testing data set to understand the accuracy of our system \n",
    "- constructing the models \n",
    "- visualising the models "
   ]
  },
  {
   "cell_type": "code",
   "execution_count": null,
   "id": "c9beb8c1",
   "metadata": {},
   "outputs": [],
   "source": [
    "### loading all necesary libraries \n",
    "import pandas as pd\n",
    "import sqlite3\n",
    "from sqlite3 import Error\n",
    "import seaborn as sns\n",
    "import numpy as np\n",
    "import matplotlib as plt \n",
    "%matplotlib inline\n",
    "from matplotlib.pylab import rcParams\n",
    "import matplotlib.pyplot as plt\n",
    "import sklearn\n",
    "from sklearn import datasets, linear_model\n",
    "from sklearn.model_selection import train_test_split\n",
    "from sklearn.datasets import fetch_openml\n",
    "from sklearn.datasets import make_regression\n",
    "from sklearn import preprocessing\n",
    "from sklearn.impute import SimpleImputer\n",
    "from sklearn.tree import DecisionTreeClassifier\n",
    "from sklearn.linear_model import LinearRegression\n",
    "from sklearn import metrics\n",
    "from sklearn.metrics import r2_score\n",
    "from numpy import mean\n",
    "from numpy import std\n",
    "from sklearn.datasets import make_blobs\n",
    "from sklearn.model_selection import KFold\n",
    "from sklearn.neighbors import KNeighborsClassifier\n",
    "from sklearn.metrics import accuracy_score\n",
    "from sklearn.model_selection import cross_val_score, cross_val_predict\n",
    "from IPython.core.interactiveshell import InteractiveShell\n",
    "InteractiveShell.ast_node_interactivity = \"all\""
   ]
  },
  {
   "cell_type": "markdown",
   "id": "2565bd07",
   "metadata": {},
   "source": [
    "##  1) Creating data base and tables from text file "
   ]
  },
  {
   "cell_type": "code",
   "execution_count": null,
   "id": "8086a4a8",
   "metadata": {},
   "outputs": [],
   "source": [
    "def create_connection(db_file, delete_db=False):\n",
    "    import os\n",
    "    if delete_db and os.path.exists(db_file):\n",
    "        os.remove(db_file)\n",
    "\n",
    "    conn = None\n",
    "    try:\n",
    "        conn = sqlite3.connect(db_file)\n",
    "        conn.execute(\"PRAGMA foreign_keys = 1\")\n",
    "    except Error as e:\n",
    "        print(e)\n",
    "\n",
    "    return conn\n",
    "\n",
    "\n",
    "def create_table(conn, create_table_sql, drop_table_name=None):\n",
    "    \n",
    "    if drop_table_name: # You can optionally pass drop_table_name to drop the table. \n",
    "        try:\n",
    "            c = conn.cursor()\n",
    "            c.execute(\"\"\"DROP TABLE IF EXISTS %s\"\"\" % (drop_table_name))\n",
    "        except Error as e:\n",
    "            print(e)\n",
    "    \n",
    "    try:\n",
    "        c = conn.cursor()\n",
    "        c.execute(create_table_sql)\n",
    "    except Error as e:\n",
    "        print(e)\n",
    "        \n",
    "def execute_sql_statement(sql_statement, conn):\n",
    "    cur = conn.cursor()\n",
    "    cur.execute(sql_statement)\n",
    "\n",
    "    rows = cur.fetchall()\n",
    "\n",
    "    return rows\n",
    "\n"
   ]
  },
  {
   "cell_type": "code",
   "execution_count": null,
   "id": "83cce8d7",
   "metadata": {},
   "outputs": [],
   "source": [
    "sofifa_id, age, overall, potential, value_eur, wage_eur, international_reputation = [], [], [], [], [], [], []\n",
    "\n",
    "header = None\n",
    "with open('players_18.txt', encoding = 'utf-8') as file:\n",
    "    for line in file:\n",
    "        if not line.strip():\n",
    "            continue \n",
    "        if not header:\n",
    "            header = line.strip().split('\\t')\n",
    "            continue    \n",
    "        line = line.strip().split('\\t')\n",
    "        sofifa_id.append(line[0])\n",
    "        age.append(line[4])\n",
    "        overall.append(line[10])\n",
    "        potential.append(line[11])\n",
    "        value_eur.append(line[12])\n",
    "        wage_eur.append(line[13])\n",
    "        international_reputation.append(line[16])\n",
    "        \n",
    "df = []\n",
    "for i in range(len(sofifa_id)):\n",
    "    df.append((sofifa_id[i], age[i], overall[i], potential[i], value_eur[i], wage_eur[i], international_reputation[i]))  "
   ]
  },
  {
   "cell_type": "code",
   "execution_count": null,
   "id": "68db775c",
   "metadata": {},
   "outputs": [],
   "source": [
    "database_filename = 'project.db'\n",
    "    \n",
    "conn = sqlite3.connect(database_filename)\n",
    "cur = conn.cursor()\n",
    "cur.execute(\"DROP TABLE IF EXISTS df\")\n",
    "cur.execute(\"CREATE TABLE IF NOT EXISTS df (sofifa_id INTEGER NOT NULL, age INTEGER NOT NULL, overall INTEGER NOT NULL, potential INTEGER NOT NULL, value_eur INTEGER NOT NULL, wage_eur INTEGER NOT NULL, international_reputation INTEGER NOT NULL);\")\n",
    "cur.executemany(\"INSERT INTO df (sofifa_id, age, overall, potential, value_eur, wage_eur, international_reputation) VALUES (?,?,?,?,?,?,?);\", df)\n",
    "conn.commit()"
   ]
  },
  {
   "cell_type": "code",
   "execution_count": null,
   "id": "d4351981",
   "metadata": {},
   "outputs": [],
   "source": [
    "select = 'select * from df'\n",
    "df = pd.read_sql_query(select, conn)\n",
    "display(df)"
   ]
  },
  {
   "cell_type": "code",
   "execution_count": null,
   "id": "8644fe29",
   "metadata": {},
   "outputs": [],
   "source": [
    "sofifa_id, age, overall, potential, value_eur, wage_eur, player_positions, international_reputation, weak_foot, skill_moves, release_clause_eur, contract_valid_until = [], [], [], [], [], [], [], [], [], [], [], []\n",
    "\n",
    "header = None\n",
    "with open('players_18.txt', encoding = 'utf-8') as file :\n",
    "    for line in file:\n",
    "        if not line.strip():\n",
    "            continue\n",
    "        if not header:\n",
    "            header = line.strip().split('\\t')\n",
    "            continue   \n",
    "        line = line.strip().split('\\t')\n",
    "        sofifa_id.append(line[0])\n",
    "        age.append(line[4])\n",
    "        overall.append(line[10])\n",
    "        potential.append(line[11])\n",
    "        value_eur.append(line[12])\n",
    "        wage_eur.append(line[13])\n",
    "        player_positions.append(line[14].strip('\"'))\n",
    "        international_reputation.append(line[16])\n",
    "        weak_foot.append(line[17])\n",
    "        skill_moves.append(line[18])\n",
    "        release_clause_eur.append(line[22])\n",
    "        contract_valid_until.append(line[28])\n",
    "        \n",
    "dt = []\n",
    "for i in range(len(sofifa_id)):\n",
    "    dt.append((sofifa_id[i], age[i], overall[i], potential[i], value_eur[i], wage_eur[i], player_positions[i], international_reputation[i], weak_foot[i], skill_moves[i], release_clause_eur[i], contract_valid_until[i]))"
   ]
  },
  {
   "cell_type": "code",
   "execution_count": null,
   "id": "92c7db27",
   "metadata": {
    "scrolled": true
   },
   "outputs": [],
   "source": [
    "database_filename = 'project.db'\n",
    "    \n",
    "conn = sqlite3.connect(database_filename)\n",
    "cur = conn.cursor()\n",
    "cur.execute(\"DROP TABLE IF EXISTS dt\")\n",
    "cur.execute(\"CREATE TABLE IF NOT EXISTS dt (sofifa_id INTEGER NOT NULL, age INTEGER NOT NULL, overall INTEGER NOT NULL, potential INTEGER NOT NULL, value_eur INTEGER NOT NULL, wage_eur INTEGER NOT NULL, player_positions TEXT NOT NULL, international_reputation INTEGER NOT NULL, weak_foot INTEGER NOT NULL, skill_moves INTEGER NOT NULL, release_clause_eur INTEGER NOT NULL, contract_valid_until INTEGER NOT NULL);\")\n",
    "cur.executemany(\"INSERT INTO dt (sofifa_id, age, overall, potential, value_eur, wage_eur, player_positions, international_reputation, weak_foot, skill_moves, release_clause_eur, contract_valid_until) VALUES (?,?,?,?,?,?,?,?,?,?,?,?);\", dt)\n",
    "conn.commit()"
   ]
  },
  {
   "cell_type": "code",
   "execution_count": null,
   "id": "01f143ba",
   "metadata": {
    "scrolled": true
   },
   "outputs": [],
   "source": [
    "select = 'select * from dt'\n",
    "dt = pd.read_sql_query(select, conn)\n",
    "display(dt)"
   ]
  },
  {
   "cell_type": "code",
   "execution_count": null,
   "id": "a5963cde",
   "metadata": {},
   "outputs": [],
   "source": [
    "sofifa_id = []\n",
    "sn = []\n",
    "ln = []\n",
    "age = []\n",
    "dob = []\n",
    "height = []\n",
    "weight = []\n",
    "country = []\n",
    "club = []\n",
    "overall = []\n",
    "potential = []\n",
    "value_eur = []\n",
    "wage_eur = []\n",
    "player_positions = []\n",
    "preferred_foot = []\n",
    "international_reputation =[]\n",
    "weak_foot=[]\n",
    "skill_moves=[]\n",
    "work_rate=[]\n",
    "release_clause_eur=[]\n",
    "player_tags=[]\n",
    "with open('players_18.txt') as file :\n",
    "    for line in file:\n",
    "        if not line.strip():\n",
    "            continue \n",
    "        line = line.strip().split('\\t')\n",
    "        sofifa_id.append(line[0])\n",
    "        sn.append(line[2])\n",
    "        ln.append(line[3])\n",
    "        age.append(line[4])\n",
    "        dob.append(line[5])\n",
    "        height.append(line[6])\n",
    "        weight.append(line[7])\n",
    "        country.append(line[8])\n",
    "        club.append(line[9])\n",
    "        overall.append(line[10])\n",
    "        potential.append(line[11])\n",
    "        value_eur.append(line[12])\n",
    "        wage_eur.append(line[13])\n",
    "        player_positions.append(line[14])\n",
    "        preferred_foot.append(line[15])\n",
    "        international_reputation.append(line[16])\n",
    "        weak_foot.append(line[17])\n",
    "        skill_moves.append(line[18])\n",
    "        work_rate.append(line[19])\n",
    "        release_clause_eur.append(line[22])\n",
    "        player_tags.append(line[23])"
   ]
  },
  {
   "cell_type": "code",
   "execution_count": null,
   "id": "11e033c5",
   "metadata": {},
   "outputs": [],
   "source": [
    "table1=list(zip(sofifa_id,sn,ln))\n",
    "create_table_sql1 = \"\"\"CREATE TABLE [Player_Details] (\n",
    "            [sofifa_id] Real not null primary key,\n",
    "            [short_name] Text not null,\n",
    "            [long_name] Text not null\n",
    "        );\"\"\"\n",
    "database_filename = 'project.db'  \n",
    "conn = sqlite3.connect(database_filename)\n",
    "create_table(conn, create_table_sql1,'Player_Details')\n",
    "\n",
    "\n",
    "def insert_Player(conn, values):\n",
    "    sql = '''INSERT INTO Player_Details(sofifa_id,short_name,long_name)VALUES(?,?,?)'''\n",
    "    cur = conn.cursor()\n",
    "    cur.execute(sql, values)\n",
    "    return cur.lastrowid\n",
    "\n",
    "with conn:\n",
    "    for r in table1:\n",
    "        insert_Player(conn,(r[0],r[1],r[2]))\n",
    "sel1 = 'select * from Player_Details'\n",
    "table1 = pd.read_sql_query(sel1, conn)\n",
    "display(table1)"
   ]
  },
  {
   "cell_type": "code",
   "execution_count": null,
   "id": "c8f85e79",
   "metadata": {},
   "outputs": [],
   "source": [
    "table2=list(country)\n",
    "create_table_sql2 = \"\"\"CREATE TABLE [Player_Country] (\n",
    "            [Country_id] Integer not null primary key AUTOINCREMENT,\n",
    "            [nationality] Text not null\n",
    "        );\"\"\"\n",
    "database_filename = 'project.db' \n",
    "conn = sqlite3.connect(database_filename)\n",
    "create_table(conn, create_table_sql2,'Player_Country')\n",
    "def insert_country(conn, values):\n",
    "    sql = '''INSERT INTO Player_Country(nationality)VALUES(?)'''\n",
    "    cur = conn.cursor()\n",
    "    cur.execute(sql, values)\n",
    "    return cur.lastrowid\n",
    "\n",
    "with conn:\n",
    "    for new in table2:\n",
    "        insert_country(conn,(new,))\n",
    "sel2 = 'select * from Player_Details'\n",
    "table2 = pd.read_sql_query(sel2, conn)\n",
    "display(table2)"
   ]
  },
  {
   "cell_type": "code",
   "execution_count": null,
   "id": "6874ebb4",
   "metadata": {},
   "outputs": [],
   "source": [
    "table3=list(club)\n",
    "create_table_sql3 = \"\"\"CREATE TABLE [Player_Club] (\n",
    "            [Club_id] Integer not null primary key AUTOINCREMENT,\n",
    "            [club] Text not null\n",
    "        );\"\"\"\n",
    "database_filename = 'project.db'\n",
    "conn = sqlite3.connect(database_filename)\n",
    "create_table(conn, create_table_sql3,'Player_Club')\n",
    "\n",
    "\n",
    "def insert_club(conn, values):\n",
    "    sql = '''INSERT INTO Player_Club(club)VALUES(?)'''\n",
    "    cur = conn.cursor()\n",
    "    cur.execute(sql, values)\n",
    "    return cur.lastrowid\n",
    "\n",
    "with conn:\n",
    "    for new in table3:\n",
    "        insert_club(conn,(new,))\n",
    "sel3 = 'select * from Player_Details'\n",
    "table3 = pd.read_sql_query(sel3, conn)\n",
    "display(table3)"
   ]
  },
  {
   "cell_type": "code",
   "execution_count": null,
   "id": "31946db7",
   "metadata": {},
   "outputs": [],
   "source": [
    "table4=list(zip(sofifa_id,age,height,weight))\n",
    "create_table_sql4 = \"\"\"CREATE TABLE [Player_personality] (\n",
    "            [sofifa_id] Real not null primary key,\n",
    "            [age] integer not null,\n",
    "            [height_cm] integer not null,\n",
    "            [weight_kg] integer not null\n",
    "        );\"\"\"\n",
    "database_filename = 'project.db'  \n",
    "conn = sqlite3.connect(database_filename)\n",
    "create_table(conn, create_table_sql4,'Player_personality')\n",
    "\n",
    "\n",
    "def insert_personality(conn, values):\n",
    "    sql = '''INSERT INTO Player_personality(sofifa_id,age,height_cm,weight_kg)VALUES(?,?,?,?)'''\n",
    "    #step2_create_region_to_regionid_dictionary(normalized_database_filename)\n",
    "    cur = conn.cursor()\n",
    "    cur.execute(sql, values)\n",
    "    return cur.lastrowid\n",
    "\n",
    "with conn:\n",
    "    for r in table4:\n",
    "        insert_personality(conn,((r[0],r[1],r[2],r[3])))\n",
    "sel4 = 'select * from Player_Details'\n",
    "table4 = pd.read_sql_query(sel4, conn)\n",
    "display(table4)"
   ]
  },
  {
   "cell_type": "code",
   "execution_count": null,
   "id": "4304275b",
   "metadata": {},
   "outputs": [],
   "source": [
    "table5=list(zip(sofifa_id,value_eur,wage_eur,player_positions,international_reputation))\n",
    "create_table_sql5 = \"\"\"CREATE TABLE [Player_value] (\n",
    "            [sofifa_id] Real not null primary key,\n",
    "            [value_eur] integer not null,\n",
    "            [wage_eur] integer not null,\n",
    "            [player_positions] Text not null,\n",
    "            [international_reputation] integer not null,\n",
    "            [Club_id] integer,\n",
    "            FOREIGN KEY(Club_id) REFERENCES Player_Club(Club_id)\n",
    "        );\"\"\"\n",
    "database_filename = 'project.db'\n",
    "conn = sqlite3.connect(database_filename)\n",
    "create_table(conn, create_table_sql5,'Player_value')\n",
    "\n",
    "\n",
    "def insert_value(conn, values):\n",
    "    sql = '''INSERT INTO Player_value(sofifa_id,value_eur,wage_eur,player_positions,international_reputation)VALUES(?,?,?,?,?)'''\n",
    "    cur = conn.cursor()\n",
    "    cur.execute(sql, values)\n",
    "    return cur.lastrowid\n",
    "\n",
    "with conn:\n",
    "    for r in table5:\n",
    "        insert_value(conn,((r[0],r[1],r[2],r[3],r[4])))\n",
    "sel5 = 'select * from Player_Details'\n",
    "table5 = pd.read_sql_query(sel5, conn)\n",
    "display(table5)"
   ]
  },
  {
   "cell_type": "markdown",
   "id": "884480f5",
   "metadata": {},
   "source": [
    "## 2) Understanding the data "
   ]
  },
  {
   "cell_type": "code",
   "execution_count": null,
   "id": "4a89e841",
   "metadata": {
    "scrolled": true
   },
   "outputs": [],
   "source": [
    "df.info()"
   ]
  },
  {
   "cell_type": "code",
   "execution_count": null,
   "id": "ed6429d2",
   "metadata": {},
   "outputs": [],
   "source": [
    "df.shape"
   ]
  },
  {
   "cell_type": "code",
   "execution_count": null,
   "id": "5aefe517",
   "metadata": {
    "scrolled": true
   },
   "outputs": [],
   "source": [
    "df.head()"
   ]
  },
  {
   "cell_type": "code",
   "execution_count": null,
   "id": "3aa696c6",
   "metadata": {
    "scrolled": true
   },
   "outputs": [],
   "source": [
    "dt.info()"
   ]
  },
  {
   "cell_type": "code",
   "execution_count": null,
   "id": "240eab46",
   "metadata": {},
   "outputs": [],
   "source": [
    "dt.shape"
   ]
  },
  {
   "cell_type": "code",
   "execution_count": null,
   "id": "73ee6961",
   "metadata": {},
   "outputs": [],
   "source": [
    "dt.head()"
   ]
  },
  {
   "cell_type": "code",
   "execution_count": null,
   "id": "b21d284c",
   "metadata": {},
   "outputs": [],
   "source": [
    "table1.info()"
   ]
  },
  {
   "cell_type": "code",
   "execution_count": null,
   "id": "92ebf24a",
   "metadata": {},
   "outputs": [],
   "source": [
    "table1.shape"
   ]
  },
  {
   "cell_type": "code",
   "execution_count": null,
   "id": "22664528",
   "metadata": {},
   "outputs": [],
   "source": [
    "table1.head()"
   ]
  },
  {
   "cell_type": "code",
   "execution_count": null,
   "id": "8f7ace27",
   "metadata": {},
   "outputs": [],
   "source": [
    "table2.info()"
   ]
  },
  {
   "cell_type": "code",
   "execution_count": null,
   "id": "730ac3f1",
   "metadata": {},
   "outputs": [],
   "source": [
    "table2.shape"
   ]
  },
  {
   "cell_type": "code",
   "execution_count": null,
   "id": "3607f7a2",
   "metadata": {},
   "outputs": [],
   "source": [
    "table2.head()"
   ]
  },
  {
   "cell_type": "code",
   "execution_count": null,
   "id": "600c7645",
   "metadata": {},
   "outputs": [],
   "source": [
    "table3.info()"
   ]
  },
  {
   "cell_type": "code",
   "execution_count": null,
   "id": "2dd1dfa3",
   "metadata": {},
   "outputs": [],
   "source": [
    "table3.shape"
   ]
  },
  {
   "cell_type": "code",
   "execution_count": null,
   "id": "dccc117f",
   "metadata": {},
   "outputs": [],
   "source": [
    "table3.head()"
   ]
  },
  {
   "cell_type": "code",
   "execution_count": null,
   "id": "fc588ace",
   "metadata": {},
   "outputs": [],
   "source": [
    "table4.info()"
   ]
  },
  {
   "cell_type": "code",
   "execution_count": null,
   "id": "198e73fd",
   "metadata": {},
   "outputs": [],
   "source": [
    "table4.shape"
   ]
  },
  {
   "cell_type": "code",
   "execution_count": null,
   "id": "03f1c90a",
   "metadata": {},
   "outputs": [],
   "source": [
    "table4.head()"
   ]
  },
  {
   "cell_type": "code",
   "execution_count": null,
   "id": "46b13565",
   "metadata": {},
   "outputs": [],
   "source": [
    "table5.info()"
   ]
  },
  {
   "cell_type": "code",
   "execution_count": null,
   "id": "6081a8d2",
   "metadata": {},
   "outputs": [],
   "source": [
    "table5.shape"
   ]
  },
  {
   "cell_type": "code",
   "execution_count": null,
   "id": "6ff51b4f",
   "metadata": {},
   "outputs": [],
   "source": [
    "table5.head()"
   ]
  },
  {
   "cell_type": "markdown",
   "id": "529fc9be",
   "metadata": {},
   "source": [
    "##  3) Visualising the data"
   ]
  },
  {
   "cell_type": "markdown",
   "id": "f2b05b6d",
   "metadata": {},
   "source": [
    "### AGE"
   ]
  },
  {
   "cell_type": "code",
   "execution_count": null,
   "id": "65f2f583",
   "metadata": {
    "scrolled": true
   },
   "outputs": [],
   "source": [
    "plt.figure(figsize=(16, 30))\n",
    "sns.displot(data=df, x=\"age\", kind=\"kde\", height = 7)"
   ]
  },
  {
   "cell_type": "markdown",
   "id": "9f1e796f",
   "metadata": {},
   "source": [
    " We understand from the above graph that max players of the age grop of 20 - 28"
   ]
  },
  {
   "cell_type": "markdown",
   "id": "ba8dfb8c",
   "metadata": {},
   "source": [
    "### AGE VS VALUE"
   ]
  },
  {
   "cell_type": "code",
   "execution_count": null,
   "id": "58649fba",
   "metadata": {
    "scrolled": true
   },
   "outputs": [],
   "source": [
    "sns.set(rc = {'figure.figsize':(10,8)})  \n",
    "g = sns.relplot(data=df, x=\"age\", y=\"value_eur\",height = 7)\n",
    "g.ax.axline(xy1=(10, 2), slope=.2, color=\"b\", dashes=(5, 2))"
   ]
  },
  {
   "cell_type": "markdown",
   "id": "ab3c001c",
   "metadata": {},
   "source": [
    "from the above graph  We can that there is a steep decline of value after or around 30 . "
   ]
  },
  {
   "cell_type": "markdown",
   "id": "0b4ead9f",
   "metadata": {},
   "source": [
    "### Overall"
   ]
  },
  {
   "cell_type": "code",
   "execution_count": null,
   "id": "0b9b14e0",
   "metadata": {},
   "outputs": [],
   "source": [
    "sns.displot(data=df, x=\"overall\",   kind=\"kde\",height = 7)"
   ]
  },
  {
   "cell_type": "markdown",
   "id": "0d5e91ee",
   "metadata": {},
   "source": [
    "### Overall VS Value of a Player"
   ]
  },
  {
   "cell_type": "code",
   "execution_count": null,
   "id": "d0533ae4",
   "metadata": {},
   "outputs": [],
   "source": [
    "g = sns.relplot(data=df, x=\"overall\", y=\"value_eur\"  ,height = 7  )\n",
    "g.ax.axline(xy1=(10, 10), slope=.2, color=\"b\", dashes=(5, 2))"
   ]
  },
  {
   "cell_type": "markdown",
   "id": "67eeff14",
   "metadata": {},
   "source": [
    " AS potential increases value increases"
   ]
  },
  {
   "cell_type": "markdown",
   "id": "b770e25d",
   "metadata": {},
   "source": [
    "### Potential "
   ]
  },
  {
   "cell_type": "code",
   "execution_count": null,
   "id": "c4bd4c72",
   "metadata": {},
   "outputs": [],
   "source": [
    "sns.displot(data=df, x=\"potential\",   kind=\"kde\",height = 7)"
   ]
  },
  {
   "cell_type": "markdown",
   "id": "f631b16b",
   "metadata": {},
   "source": [
    "### Potential vs Value"
   ]
  },
  {
   "cell_type": "code",
   "execution_count": null,
   "id": "70dcc80b",
   "metadata": {},
   "outputs": [],
   "source": [
    "g = sns.relplot(data=df, x=\"potential\", y=\"value_eur\" ,height = 7  )\n",
    "g.ax.axline(xy1=(10, 10), slope=.2, color=\"b\", dashes=(5, 2))"
   ]
  },
  {
   "cell_type": "markdown",
   "id": "8a2d96b5",
   "metadata": {},
   "source": [
    " High potential = High Value"
   ]
  },
  {
   "cell_type": "markdown",
   "id": "512756cd",
   "metadata": {},
   "source": [
    "### WAGE"
   ]
  },
  {
   "cell_type": "code",
   "execution_count": null,
   "id": "847d5ffa",
   "metadata": {
    "scrolled": false
   },
   "outputs": [],
   "source": [
    "import matplotlib.pyplot as plt\n",
    "scatter = sns.displot(data=df, x=\"wage_eur\",   kind=\"kde\",height = 7 ,)\n",
    "plt.xlim(0, 200000)\n",
    "plt.show()"
   ]
  },
  {
   "cell_type": "code",
   "execution_count": null,
   "id": "ead4c5d4",
   "metadata": {},
   "outputs": [],
   "source": [
    "ax = sns.relplot(data=df, x=\"wage_eur\", y=\"value_eur\" ,height = 6  ,)\n",
    "g.ax.axline(xy1=(9, 7), slope=.2, color=\"b\", dashes=(5, 2))"
   ]
  },
  {
   "cell_type": "markdown",
   "id": "3e9259d1",
   "metadata": {},
   "source": [
    "Understanding from the graph  Directly praportional to wage."
   ]
  },
  {
   "cell_type": "markdown",
   "id": "aa800b13",
   "metadata": {},
   "source": [
    " ### International_reputation"
   ]
  },
  {
   "cell_type": "code",
   "execution_count": null,
   "id": "fd8b53a3",
   "metadata": {},
   "outputs": [],
   "source": [
    "sns.displot(data=df, x=\"international_reputation\",   kind=\"kde\",height = 7 ,)"
   ]
  },
  {
   "cell_type": "markdown",
   "id": "4d34b77c",
   "metadata": {},
   "source": [
    "### Overall VS Value of a Player VS International_reputation"
   ]
  },
  {
   "cell_type": "code",
   "execution_count": null,
   "id": "6acd24ab",
   "metadata": {},
   "outputs": [],
   "source": [
    "ax = sns.relplot(data=df, x=\"overall\", y=\"value_eur\"  ,hue=\"international_reputation\",height = 7  ,ax=ax)\n",
    "g.ax.axline(xy1=(10, 10), slope=.2, color=\"b\", dashes=(5, 2))"
   ]
  },
  {
   "cell_type": "markdown",
   "id": "de8abf0d",
   "metadata": {
    "scrolled": true
   },
   "source": [
    " Higher International reputation with high overall means higher value of player "
   ]
  },
  {
   "cell_type": "markdown",
   "id": "21483505",
   "metadata": {},
   "source": [
    " ### Player_positions"
   ]
  },
  {
   "cell_type": "code",
   "execution_count": null,
   "id": "b429341b",
   "metadata": {
    "scrolled": false
   },
   "outputs": [],
   "source": [
    "type(dt)"
   ]
  },
  {
   "cell_type": "code",
   "execution_count": null,
   "id": "966878d1",
   "metadata": {},
   "outputs": [],
   "source": [
    "dt['player_positions'].unique()"
   ]
  },
  {
   "cell_type": "markdown",
   "id": "fc5ad051",
   "metadata": {},
   "source": [
    "Filtering only the main positions of players ."
   ]
  },
  {
   "cell_type": "code",
   "execution_count": null,
   "id": "3927beee",
   "metadata": {},
   "outputs": [],
   "source": [
    "for i in range(len(dt.index)): #Taking best position only, not considering multiple positions\n",
    "     dt['player_positions'][i] = dt.player_positions[i].split(',',1)[0]"
   ]
  },
  {
   "cell_type": "code",
   "execution_count": null,
   "id": "a0d0d237",
   "metadata": {},
   "outputs": [],
   "source": [
    "dt['player_positions'].unique()"
   ]
  },
  {
   "cell_type": "markdown",
   "id": "3dda987d",
   "metadata": {},
   "source": [
    "Right and left position won't contribute to the value so converting it into one."
   ]
  },
  {
   "cell_type": "code",
   "execution_count": null,
   "id": "781464f2",
   "metadata": {},
   "outputs": [],
   "source": [
    "for i in range (len(dt.index)):\n",
    "          \n",
    "          if dt['player_positions'][i] == 'LB' or dt['player_positions'][i] == 'RB' or dt['player_positions'][i] == 'LWB' or dt['player_positions'][i] == 'RWB':\n",
    "            dt['player_positions'][i] = 'LB'\n",
    "          \n",
    "          if dt['player_positions'][i] == 'RM' or dt['player_positions'][i] == 'LM':\n",
    "            dt['player_positions'][i] = 'LM'\n",
    "          \n",
    "        \n",
    "          if dt['player_positions'][i] == 'LW' or dt['player_positions'][i] == 'RW':\n",
    "            dt['player_positions'][i] = 'LW'\n",
    "        "
   ]
  },
  {
   "cell_type": "code",
   "execution_count": null,
   "id": "2f47f9a8",
   "metadata": {
    "scrolled": false
   },
   "outputs": [],
   "source": [
    "dt['player_positions'].unique()"
   ]
  },
  {
   "cell_type": "markdown",
   "id": "aedeeac2",
   "metadata": {},
   "source": [
    "Eventually coverting into 'Attacker', 'GK', 'Defender ', 'MID' . "
   ]
  },
  {
   "cell_type": "code",
   "execution_count": null,
   "id": "cdaf1731",
   "metadata": {},
   "outputs": [],
   "source": [
    "for i in range (len(dt.index)):\n",
    "    if dt['player_positions'][i] == 'LW' or dt['player_positions'][i] == 'ST' or dt['player_positions'][i] == 'CAM' or dt['player_positions'][i] == 'CF':\n",
    "        dt['player_positions'][i] = 'Attacker'\n",
    "    if dt['player_positions'][i] == 'CM' or dt['player_positions'][i] == 'LM' or dt['player_positions'][i] == 'CDM':\n",
    "        dt['player_positions'][i] = 'MID'   \n",
    "    if dt['player_positions'][i] == 'CB' or dt['player_positions'][i] == 'LB' :\n",
    "        dt['player_positions'][i] = 'Defender '   "
   ]
  },
  {
   "cell_type": "code",
   "execution_count": null,
   "id": "df769307",
   "metadata": {},
   "outputs": [],
   "source": [
    "dt['player_positions'].unique()"
   ]
  },
  {
   "cell_type": "code",
   "execution_count": null,
   "id": "3a5191b0",
   "metadata": {},
   "outputs": [],
   "source": [
    "plt.bar(dt.player_positions, dt.value_eur, color = (0.5,0.1,0.5,0.6))\n",
    "plt.show()"
   ]
  },
  {
   "cell_type": "markdown",
   "id": "510a9cb0",
   "metadata": {},
   "source": [
    "As we can see Attackers are values higher comapred to other positions ."
   ]
  },
  {
   "cell_type": "code",
   "execution_count": null,
   "id": "1ad4142e",
   "metadata": {},
   "outputs": [],
   "source": [
    "dt['contract_valid_until'] = dt['contract_valid_until'].replace('' ,np.nan)\n",
    "dt['release_clause_eur'] = dt['release_clause_eur'].replace('' ,np.nan)\n",
    "dt['player_positions'] = dt['player_positions'].replace('' ,np.nan)"
   ]
  },
  {
   "cell_type": "markdown",
   "id": "5867785d",
   "metadata": {},
   "source": [
    "### Contract Valid"
   ]
  },
  {
   "cell_type": "code",
   "execution_count": null,
   "id": "0dc4c601",
   "metadata": {},
   "outputs": [],
   "source": [
    "dt.info()"
   ]
  },
  {
   "cell_type": "code",
   "execution_count": null,
   "id": "4e4105a3",
   "metadata": {
    "scrolled": true
   },
   "outputs": [],
   "source": [
    "dt.contract_valid_until.unique()"
   ]
  },
  {
   "cell_type": "code",
   "execution_count": null,
   "id": "c4d7a470",
   "metadata": {},
   "outputs": [],
   "source": [
    "# dt['contract_valid_until'] = dt['contract_valid_until'].replace('' ,'nan')"
   ]
  },
  {
   "cell_type": "code",
   "execution_count": null,
   "id": "dd008887",
   "metadata": {},
   "outputs": [],
   "source": [
    "# for i in range (len(dt.index)):\n",
    "#     if dt['contract_valid_until'][i] == [' ']:\n",
    "#         dt['contract_valid_until'][i].replace(0)\n",
    "# dt.contract_valid_until.unique()"
   ]
  },
  {
   "cell_type": "code",
   "execution_count": null,
   "id": "5328d513",
   "metadata": {},
   "outputs": [],
   "source": [
    "ax = sns.relplot(data=dt, x=\"contract_valid_until\", y=\"value_eur\" ,height = 7  ,)\n",
    "g.ax.axline(xy1=(9, 7), slope=.2, color=\"b\", dashes=(5, 2))"
   ]
  },
  {
   "cell_type": "markdown",
   "id": "1321587b",
   "metadata": {},
   "source": [
    "Contracts with less than 1 year have low value ."
   ]
  },
  {
   "cell_type": "markdown",
   "id": "ce2580b8",
   "metadata": {},
   "source": [
    "### Skill moves "
   ]
  },
  {
   "cell_type": "code",
   "execution_count": null,
   "id": "c47330f5",
   "metadata": {
    "scrolled": true
   },
   "outputs": [],
   "source": [
    "ax = sns.relplot(data=dt, x=\"skill_moves\", y=\"value_eur\" ,height = 7  ,)\n",
    "g.ax.axline(xy1=(9, 7), slope=.2, color=\"b\", dashes=(5, 2))"
   ]
  },
  {
   "cell_type": "markdown",
   "id": "84cdc284",
   "metadata": {},
   "source": [
    "High value players have High skill moves value."
   ]
  },
  {
   "cell_type": "markdown",
   "id": "d5e1f014",
   "metadata": {},
   "source": [
    "## 4) PreProcessing Data "
   ]
  },
  {
   "cell_type": "markdown",
   "id": "964faaad",
   "metadata": {},
   "source": [
    "Replacing na values "
   ]
  },
  {
   "cell_type": "code",
   "execution_count": null,
   "id": "c5a9e672",
   "metadata": {
    "scrolled": true
   },
   "outputs": [],
   "source": [
    "dats = dt.replace(np.nan, 0)"
   ]
  },
  {
   "cell_type": "code",
   "execution_count": null,
   "id": "f8563a59",
   "metadata": {},
   "outputs": [],
   "source": [
    "dats.info()"
   ]
  },
  {
   "cell_type": "code",
   "execution_count": null,
   "id": "a2860df6",
   "metadata": {},
   "outputs": [],
   "source": [
    "dats.dtypes"
   ]
  },
  {
   "cell_type": "markdown",
   "id": "735d4f6e",
   "metadata": {},
   "source": [
    "Converting Player position using one hot encoding method "
   ]
  },
  {
   "cell_type": "code",
   "execution_count": null,
   "id": "77e46c5c",
   "metadata": {},
   "outputs": [],
   "source": [
    "dats = pd.get_dummies(dats, columns = ['player_positions'])"
   ]
  },
  {
   "cell_type": "code",
   "execution_count": null,
   "id": "071056b8",
   "metadata": {},
   "outputs": [],
   "source": [
    "dats.shape"
   ]
  },
  {
   "cell_type": "code",
   "execution_count": null,
   "id": "32fbdca6",
   "metadata": {
    "scrolled": true
   },
   "outputs": [],
   "source": [
    "dats.head()"
   ]
  },
  {
   "cell_type": "markdown",
   "id": "d205f525",
   "metadata": {},
   "source": [
    "## 5) Scaling and dividing data into test and training "
   ]
  },
  {
   "cell_type": "code",
   "execution_count": null,
   "id": "437828b0",
   "metadata": {},
   "outputs": [],
   "source": [
    "y = dats['value_eur']\n",
    "dats.drop('value_eur' , axis=1 , inplace = True)"
   ]
  },
  {
   "cell_type": "code",
   "execution_count": null,
   "id": "c8b4b1e9",
   "metadata": {},
   "outputs": [],
   "source": [
    "X_train, X_test, y_train, y_test = train_test_split(dats, y, test_size=0.2 , random_state=43)"
   ]
  },
  {
   "cell_type": "code",
   "execution_count": null,
   "id": "8acfbca3",
   "metadata": {
    "scrolled": true
   },
   "outputs": [],
   "source": [
    "min_max_scaler = preprocessing.MinMaxScaler()\n",
    "X_train_minmax = min_max_scaler.fit_transform(X_train)\n",
    "X_train_minmax"
   ]
  },
  {
   "cell_type": "code",
   "execution_count": null,
   "id": "7fb63e08",
   "metadata": {
    "scrolled": true
   },
   "outputs": [],
   "source": [
    "X_test_minmax = min_max_scaler.transform(X_test)\n",
    "X_test_minmax"
   ]
  },
  {
   "cell_type": "markdown",
   "id": "94bdb6e7",
   "metadata": {},
   "source": [
    "## 6) Applying Regression models "
   ]
  },
  {
   "cell_type": "markdown",
   "id": "354e8d33",
   "metadata": {},
   "source": [
    "### Linear Regression Model "
   ]
  },
  {
   "cell_type": "code",
   "execution_count": null,
   "id": "100b0458",
   "metadata": {},
   "outputs": [],
   "source": [
    "regressor=LinearRegression()\n",
    "regressor.fit(X_train_minmax,y_train)"
   ]
  },
  {
   "cell_type": "code",
   "execution_count": null,
   "id": "edd26b2f",
   "metadata": {},
   "outputs": [],
   "source": [
    "y_pred=regressor.predict(X_test_minmax)\n",
    "y_pred\n",
    "y_test"
   ]
  },
  {
   "cell_type": "code",
   "execution_count": null,
   "id": "7dda7d69",
   "metadata": {},
   "outputs": [],
   "source": [
    "SQR_linearreg = np.sqrt(metrics.mean_squared_error(y_test, y_pred))\n",
    "R2_linearreg = r2_score(y_test, y_pred)\n",
    "cv_r2_scores_lr = cross_val_score(regressor, dats, y, cv=5,scoring='r2')\n",
    "print(cv_r2_scores_lr)\n",
    "print(\"Mean 5-Fold R Squared: {}\".format(np.mean(cv_r2_scores_lr)))"
   ]
  },
  {
   "cell_type": "code",
   "execution_count": null,
   "id": "fa352b42",
   "metadata": {},
   "outputs": [],
   "source": [
    "plt.figure(figsize=(10,10))\n",
    "plt.scatter(y_test, y_pred, c='crimson')\n",
    "plt.yscale('log')\n",
    "plt.xscale('log')\n",
    "\n",
    "p1 = max(max(y_pred), max(y_test))\n",
    "p2 = min(min(y_pred), min(y_test))\n",
    "plt.plot([p1, p2], [p1, p2], 'b-')\n",
    "plt.title('linear_regression prediction model')\n",
    "plt.xlabel('True Values', fontsize=15)\n",
    "plt.ylabel('Predictions', fontsize=15)\n",
    "plt.axis('equal')\n",
    "plt.show()"
   ]
  },
  {
   "cell_type": "markdown",
   "id": "764ff1ec",
   "metadata": {},
   "source": [
    "### Kflod "
   ]
  },
  {
   "cell_type": "code",
   "execution_count": null,
   "id": "0fb5b67d",
   "metadata": {},
   "outputs": [],
   "source": [
    "model = KNeighborsClassifier()\n",
    "model.fit(X_train_minmax, y_train)"
   ]
  },
  {
   "cell_type": "code",
   "execution_count": null,
   "id": "ff536211",
   "metadata": {},
   "outputs": [],
   "source": [
    "actual_y, predict_y = list(), list()\n",
    "y_predict = model.predict(X_test_minmax)\n",
    "actual_y.extend(y_test)\n",
    "predict_y.extend(y_predict)"
   ]
  },
  {
   "cell_type": "code",
   "execution_count": null,
   "id": "c0bc7e9a",
   "metadata": {},
   "outputs": [],
   "source": [
    "SQR_KF = np.sqrt(metrics.mean_squared_error(actual_y, predict_y))\n",
    "R2_KF = r2_score(actual_y, predict_y)\n",
    "cv_r2_scores_kf = cross_val_score(model, dats, y, cv=5,scoring='r2')\n",
    "print(cv_r2_scores_kf)\n",
    "print(\"Mean 5-Fold R Squared: {}\".format(np.mean(cv_r2_scores_kf)))"
   ]
  },
  {
   "cell_type": "code",
   "execution_count": null,
   "id": "79712cd6",
   "metadata": {},
   "outputs": [],
   "source": [
    "plt.figure(figsize=(10,10))\n",
    "plt.scatter(actual_y, predict_y, c='crimson')\n",
    "plt.yscale('log')\n",
    "plt.xscale('log')\n",
    "\n",
    "p1 = max(max(predict_y), max(actual_y))\n",
    "p2 = min(min(predict_y), min(actual_y))\n",
    "plt.plot([p1, p2], [p1, p2], 'b-')\n",
    "plt.title('kfold prediction model')\n",
    "plt.xlabel('True Values', fontsize=15)\n",
    "plt.ylabel('Predictions', fontsize=15)\n",
    "plt.axis('equal')\n",
    "plt.show()"
   ]
  },
  {
   "cell_type": "markdown",
   "id": "6e830315",
   "metadata": {},
   "source": [
    "### SVC - C-Support Vector Classification."
   ]
  },
  {
   "cell_type": "code",
   "execution_count": null,
   "id": "c7a789e0",
   "metadata": {
    "scrolled": true
   },
   "outputs": [],
   "source": [
    "from sklearn.svm import SVC\n",
    "classifier = SVC(kernel = 'linear', random_state = 0)\n",
    "classifier.fit(X_train_minmax, y_train)\n",
    "Y_pred2 = classifier.predict(X_test_minmax)"
   ]
  },
  {
   "cell_type": "code",
   "execution_count": null,
   "id": "3702f45b",
   "metadata": {
    "scrolled": true
   },
   "outputs": [],
   "source": [
    "SQT_SVC = np.sqrt(metrics.mean_squared_error(y_test, Y_pred2))\n",
    "R2_SVC = r2_score(y_test, Y_pred2)"
   ]
  },
  {
   "cell_type": "code",
   "execution_count": null,
   "id": "6b24842e",
   "metadata": {},
   "outputs": [],
   "source": [
    "plt.figure(figsize=(10,10))\n",
    "plt.scatter(y_test, Y_pred2, c='crimson')\n",
    "plt.yscale('log')\n",
    "plt.xscale('log')\n",
    "\n",
    "p1 = max(max(Y_pred2), max(y_test))\n",
    "p2 = min(min(Y_pred2), min(y_test))\n",
    "plt.plot([p1, p2], [p1, p2], 'b-')\n",
    "plt.title('SVC prediction model')\n",
    "plt.xlabel('True Values', fontsize=15)\n",
    "plt.ylabel('Predictions', fontsize=15)\n",
    "plt.axis('equal')\n",
    "plt.show()"
   ]
  },
  {
   "cell_type": "markdown",
   "id": "2c98702b",
   "metadata": {},
   "source": [
    " ### Random Forest"
   ]
  },
  {
   "cell_type": "code",
   "execution_count": null,
   "id": "91dcb111",
   "metadata": {},
   "outputs": [],
   "source": [
    "from sklearn.ensemble import RandomForestClassifier\n",
    "classifier2 = RandomForestClassifier(n_estimators = 10, criterion = 'entropy', random_state = 0)\n",
    "classifier2.fit(X_train_minmax, y_train)\n",
    "Y_pred3 = classifier2.predict(X_test_minmax)"
   ]
  },
  {
   "cell_type": "code",
   "execution_count": null,
   "id": "7e767706",
   "metadata": {},
   "outputs": [],
   "source": [
    "SQR_RFC = np.sqrt(metrics.mean_squared_error(y_test, Y_pred3))\n",
    "R2_RFC = r2_score(y_test, Y_pred3)\n",
    "cv_r2_scores_rfc = cross_val_score(classifier2, dats, y, cv=5,scoring='r2')\n",
    "print(cv_r2_scores_rfc)\n",
    "print(\"Mean 5-Fold R Squared: {}\".format(np.mean(cv_r2_scores_rfc)))"
   ]
  },
  {
   "cell_type": "code",
   "execution_count": null,
   "id": "146f9fba",
   "metadata": {},
   "outputs": [],
   "source": [
    "plt.figure(figsize=(10,10))\n",
    "plt.scatter(y_test, Y_pred3, c='crimson')\n",
    "plt.yscale('log')\n",
    "plt.xscale('log')\n",
    "\n",
    "p1 = max(max(Y_pred3), max(y_test))\n",
    "p2 = min(min(Y_pred3), min(y_test))\n",
    "plt.plot([p1, p2], [p1, p2], 'b-')\n",
    "plt.title('Random_Forest prediction model')\n",
    "plt.xlabel('True Values', fontsize=15)\n",
    "plt.ylabel('Predictions', fontsize=15)\n",
    "plt.axis('equal')\n",
    "plt.show()"
   ]
  },
  {
   "cell_type": "markdown",
   "id": "ab8b64d8",
   "metadata": {},
   "source": [
    "### Decision Tree "
   ]
  },
  {
   "cell_type": "code",
   "execution_count": null,
   "id": "3496c00b",
   "metadata": {},
   "outputs": [],
   "source": [
    "import sklearn\n",
    "from sklearn.tree import DecisionTreeClassifier"
   ]
  },
  {
   "cell_type": "code",
   "execution_count": null,
   "id": "cccefd58",
   "metadata": {},
   "outputs": [],
   "source": [
    "clf = DecisionTreeClassifier()"
   ]
  },
  {
   "cell_type": "code",
   "execution_count": null,
   "id": "915c0719",
   "metadata": {},
   "outputs": [],
   "source": [
    "clf = clf.fit(X_train_minmax, y_train)\n",
    "y_pred4 = clf.predict(X_test_minmax)"
   ]
  },
  {
   "cell_type": "code",
   "execution_count": null,
   "id": "0ee5d036",
   "metadata": {},
   "outputs": [],
   "source": [
    "SQR_DT = np.sqrt(metrics.mean_squared_error(y_test, y_pred4))\n",
    "R2_DT = r2_score(y_test, y_pred4)\n",
    "cv_r2_scores_DT = cross_val_score(clf, dats, y, cv=5,scoring='r2')\n",
    "print(cv_r2_scores_DT)\n",
    "print(\"Mean 5-Fold R Squared: {}\".format(np.mean(cv_r2_scores_DT)))"
   ]
  },
  {
   "cell_type": "code",
   "execution_count": null,
   "id": "ecdebe2d",
   "metadata": {},
   "outputs": [],
   "source": [
    "plt.figure(figsize=(10,10))\n",
    "plt.scatter(y_test, y_pred4, c='crimson')\n",
    "plt.yscale('log')\n",
    "plt.xscale('log')\n",
    "\n",
    "p1 = max(max(y_pred4), max(y_test))\n",
    "p2 = min(min(y_pred4), min(y_test))\n",
    "plt.plot([p1, p2], [p1, p2], 'b-')\n",
    "plt.title('Decision_Tree prediction model')\n",
    "plt.xlabel('True Values', fontsize=15)\n",
    "plt.ylabel('Predictions', fontsize=15)\n",
    "plt.axis('equal')\n",
    "plt.show()"
   ]
  },
  {
   "cell_type": "markdown",
   "id": "4ca352d0",
   "metadata": {},
   "source": [
    " ## statistics of each model"
   ]
  },
  {
   "cell_type": "code",
   "execution_count": null,
   "id": "ce2d969c",
   "metadata": {
    "scrolled": true
   },
   "outputs": [],
   "source": [
    "header = ['Linear Regression' , 'Kfold' , 'SVC' ,'Random Forest' ,'Desicion Tree']\n",
    "data = [np.log(SQR_linearreg) , np.log(SQR_KF), np.log(SQT_SVC) , np.log(SQR_RFC) ,np.log( SQR_DT)]\n",
    "stat_analysis = pd.DataFrame(data = data , index = header )\n",
    "stat_analysis.rename(columns = {0:'Square_root'}, inplace = True)\n",
    "stat_analysis['R2_Score'] = [R2_linearreg , R2_KF ,R2_SVC , R2_RFC , R2_DT ]\n",
    "stat_analysis"
   ]
  },
  {
   "cell_type": "markdown",
   "id": "e07578bd",
   "metadata": {},
   "source": [
    "# Conclusion"
   ]
  },
  {
   "cell_type": "markdown",
   "id": "e3b00b80",
   "metadata": {},
   "source": [
    "We made five models and compared their r2 scores to understand their efficency . tho all models presented us with good results  Linear regression model and Desicion Tree model handled various features much better comparitivley ."
   ]
  },
  {
   "cell_type": "markdown",
   "id": "9d185679",
   "metadata": {},
   "source": [
    "# Reference "
   ]
  },
  {
   "cell_type": "markdown",
   "id": "c9f119ff",
   "metadata": {},
   "source": [
    "https://mkzia.github.io/eas503-notes/intro.html\n"
   ]
  },
  {
   "cell_type": "markdown",
   "id": "3e6560de",
   "metadata": {},
   "source": [
    "https://www.kaggle.com/datasets/stefanoleone992/fifa-20-complete-player-dataset"
   ]
  },
  {
   "cell_type": "markdown",
   "id": "b8482fcb",
   "metadata": {},
   "source": [
    "\n",
    "https://scikit-learn.org/stable/supervised_learning.html"
   ]
  },
  {
   "cell_type": "markdown",
   "id": "08be46e5",
   "metadata": {},
   "source": [
    "# Acknowledgement "
   ]
  },
  {
   "cell_type": "markdown",
   "id": "5bec9234",
   "metadata": {},
   "source": [
    "We would like to sincerely thank our Prof. Mohamad Zia for the guidance thought this course helping us accomplish this project."
   ]
  }
 ],
 "metadata": {
  "kernelspec": {
   "display_name": "Python 3 (ipykernel)",
   "language": "python",
   "name": "python3"
  },
  "language_info": {
   "codemirror_mode": {
    "name": "ipython",
    "version": 3
   },
   "file_extension": ".py",
   "mimetype": "text/x-python",
   "name": "python",
   "nbconvert_exporter": "python",
   "pygments_lexer": "ipython3",
   "version": "3.9.7"
  }
 },
 "nbformat": 4,
 "nbformat_minor": 5
}
