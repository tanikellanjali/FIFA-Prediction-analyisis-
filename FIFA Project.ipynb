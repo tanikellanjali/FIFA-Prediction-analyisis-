{
 "cells": [
  {
   "cell_type": "markdown",
   "id": "5feedc01",
   "metadata": {},
   "source": [
    "# FIFA - VALUE OF PLAYER PREDICTION "
   ]
  },
  {
   "cell_type": "markdown",
   "id": "aec3f727",
   "metadata": {},
   "source": [
    "18 May 2022"
   ]
  },
  {
   "cell_type": "markdown",
   "id": "cf3e0d69",
   "metadata": {},
   "source": [
    "                                                                                Team Members \n",
    "                                                                                 * Siddhant Gupta (50441839)\n",
    "                                                                                 * Kishore Kumar (50442203)\n",
    "                                                                                 * Vineeth ReddyTati (50369160)\n",
    "                                                                                 * Anjali T (50441491)   "
   ]
  },
  {
   "cell_type": "markdown",
   "id": "d61cdb09",
   "metadata": {},
   "source": [
    "## Problem Tackled \n",
    "Predicting the value of a player with accuracy"
   ]
  },
  {
   "cell_type": "markdown",
   "id": "243a0904",
   "metadata": {},
   "source": [
    "Our project considered one year data of fifa players , fifa 2018  . We intended to predict the value of the player based on features provided  . We used five models and compared the results to find the appropriate model for this problem . \n",
    "\n",
    "- linear regression \n",
    "- KNeighborsClassifier method \n",
    "- SVC \n",
    "- Random Forest \n",
    "- Descision Tree "
   ]
  },
  {
   "cell_type": "markdown",
   "id": "80e5ed13",
   "metadata": {},
   "source": [
    "We followed the below listed steps to create our model\n",
    "- loading the data using pandas \n",
    "- understanding the data and columns \n",
    "- normalizing the data into understandable data bases \n",
    "- visualising the data \n",
    "- understanding the dependencies for value\n",
    "- pre processing data , removing na's , clearing less useful features \n",
    "- dividing the table into training and testing data set to understand the accuracy of our system \n",
    "- constructing the models \n",
    "- visualising the models "
   ]
  },
  {
   "cell_type": "code",
   "execution_count": 1,
   "id": "c9beb8c1",
   "metadata": {},
   "outputs": [],
   "source": [
    "### loading all necesary libraries \n",
    "import pandas as pd\n",
    "\n",
    "import sqlite3\n",
    "from sqlite3 import Error\n",
    "\n",
    "import seaborn as sns\n",
    "\n",
    "import numpy as np\n",
    "from numpy import mean\n",
    "from numpy import std\n",
    "\n",
    "import matplotlib as plt \n",
    "%matplotlib inline\n",
    "from matplotlib.pylab import rcParams\n",
    "import matplotlib.pyplot as plt\n",
    "\n",
    "import sklearn\n",
    "from sklearn import datasets, linear_model\n",
    "from sklearn.model_selection import train_test_split\n",
    "from sklearn.datasets import make_regression\n",
    "from sklearn import preprocessing\n",
    "from sklearn.impute import SimpleImputer\n",
    "from sklearn.tree import DecisionTreeClassifier\n",
    "from sklearn.linear_model import LinearRegression\n",
    "from sklearn import metrics\n",
    "from sklearn.metrics import r2_score\n",
    "from sklearn.datasets import make_blobs\n",
    "from sklearn.model_selection import KFold\n",
    "from sklearn.neighbors import KNeighborsClassifier\n",
    "from sklearn.metrics import accuracy_score\n",
    "from sklearn.model_selection import cross_val_score, cross_val_predict\n"
   ]
  },
  {
   "cell_type": "markdown",
   "id": "2565bd07",
   "metadata": {},
   "source": [
    "##  1) Creating data base and tables from text file "
   ]
  },
  {
   "cell_type": "code",
   "execution_count": 2,
   "id": "8086a4a8",
   "metadata": {},
   "outputs": [],
   "source": [
    "def create_connection(db_file, delete_db=False):\n",
    "    import os\n",
    "    if delete_db and os.path.exists(db_file):\n",
    "        os.remove(db_file)\n",
    "\n",
    "    conn = None\n",
    "    try:\n",
    "        conn = sqlite3.connect(db_file)\n",
    "        conn.execute(\"PRAGMA foreign_keys = 1\")\n",
    "    except Error as e:\n",
    "        print(e)\n",
    "\n",
    "    return conn\n",
    "def create_table(conn, create_table_sql, drop_table_name=None):\n",
    "    \n",
    "    if drop_table_name: # You can optionally pass drop_table_name to drop the table. \n",
    "        try:\n",
    "            c = conn.cursor()\n",
    "            c.execute(\"\"\"DROP TABLE IF EXISTS %s\"\"\" % (drop_table_name))\n",
    "        except Error as e:\n",
    "            print(e)\n",
    "    \n",
    "    try:\n",
    "        c = conn.cursor()\n",
    "        c.execute(create_table_sql)\n",
    "    except Error as e:\n",
    "        print(e)\n",
    "        \n",
    "def execute_sql_statement(sql_statement, conn):\n",
    "    cur = conn.cursor()\n",
    "    cur.execute(sql_statement)\n",
    "\n",
    "    rows = cur.fetchall()\n",
    "\n",
    "    return rows"
   ]
  },
  {
   "cell_type": "code",
   "execution_count": 3,
   "id": "93c69e8c",
   "metadata": {
    "scrolled": false
   },
   "outputs": [
    {
     "name": "stdout",
     "output_type": "stream",
     "text": [
      "Column Names : ['sofifa_id', 'player_url', 'short_name', 'long_name', 'age', 'dob', 'height_cm', 'weight_kg', 'nationality', 'club', 'overall', 'potential', 'value_eur', 'wage_eur', 'player_positions', 'preferred_foot', 'international_reputation', 'weak_foot', 'skill_moves', 'work_rate', 'body_type', 'real_face', 'release_clause_eur', 'player_tags', 'team_position', 'team_jersey_number', 'loaned_from', 'joined', 'contract_valid_until', 'nation_position', 'nation_jersey_number', 'pace', 'shooting', 'passing', 'dribbling', 'defending', 'physic', 'gk_diving', 'gk_handling', 'gk_kicking', 'gk_reflexes', 'gk_speed', 'gk_positioning', 'player_traits', 'attacking_crossing', 'attacking_finishing', 'attacking_heading_accuracy', 'attacking_short_passing', 'attacking_volleys', 'skill_dribbling', 'skill_curve', 'skill_fk_accuracy', 'skill_long_passing', 'skill_ball_control', 'movement_acceleration', 'movement_sprint_speed', 'movement_agility', 'movement_reactions', 'movement_balance', 'power_shot_power', 'power_jumping', 'power_stamina', 'power_strength', 'power_long_shots', 'mentality_aggression', 'mentality_interceptions', 'mentality_positioning', 'mentality_vision', 'mentality_penalties', 'mentality_composure', 'defending_marking', 'defending_standing_tackle', 'defending_sliding_tackle', 'goalkeeping_diving', 'goalkeeping_handling', 'goalkeeping_kicking', 'goalkeeping_positioning', 'goalkeeping_reflexes', 'ls', 'st', 'rs', 'lw', 'lf', 'cf', 'rf', 'rw', 'lam', 'cam', 'ram', 'lm', 'lcm', 'cm', 'rcm', 'rm', 'lwb', 'ldm', 'cdm', 'rdm', 'rwb', 'lb', 'lcb', 'cb', 'rcb', 'rb']\n",
      "Size of the data set : 17593 , 104\n"
     ]
    }
   ],
   "source": [
    "## an overview of the data \n",
    "\n",
    "col1 = []\n",
    "all1 = []\n",
    "with open('players_18.txt', encoding = 'utf-8') as df:\n",
    "    for line in df:\n",
    "        if not line.strip():\n",
    "            continue \n",
    "        all1.append(line.strip().split('\\t'))\n",
    "coll_names = all1[0]\n",
    "number_of_values = len(all1)\n",
    "number_of_features = len(line.split('\\t'))\n",
    "print(f'Column Names : {coll_names}')\n",
    "print(f'Size of the data set : {number_of_values} , {number_of_features}')"
   ]
  },
  {
   "cell_type": "markdown",
   "id": "cf01ce7d",
   "metadata": {},
   "source": [
    "#### data schema for required columns only \n",
    "##### df \n",
    "- [Sofifa_id] Real not null primary Key \n",
    "- [Age] Integer not null \n",
    "- [Overall] real not null  \n",
    "- [Potential] real not null\n",
    "- [Value_eur] real not null\n",
    "- [Wage_eur] real not null \n",
    "- [International_reputation] Integer not null \n",
    "\n",
    "##### dt \n",
    "- [Sofifa_id] Real not null primary key \n",
    "- [Age] Integer not null \n",
    "- [Overall] Real not null\n",
    "- [Potential] real not null\n",
    "- [Value_eur] real not null\n",
    "- [Wage_eur] real not null\n",
    "- [Player_positions] Text \n",
    "- [International_reputation] integers not null\n",
    "- [Weak_foot] text not null\n",
    "- [Skill_moves] text not null \n",
    "- [Release_clause_eur] real not null\n",
    "- [Contract_valid_until] real not null \n",
    "\n",
    "##### Player_Details\n",
    "- [Sofifa_id] Real not null primary key\n",
    "- [Short_name] Text not null\n",
    "- [Long_name] Text not null\n",
    "\n",
    "##### Player_Country\n",
    "- [Country_id] Integer not null primary key\n",
    "- [Nationality] Text not null\n",
    "\n",
    "##### Player_Club\n",
    "- [Club_id] Integer not null primary key\n",
    "- [Club] Text not null\n",
    "\n",
    "##### Player_personality\n",
    "- [Sofifa_id] Real not null primary key\n",
    "- [Age] integer not null\n",
    "- [Height_cm] integer not null\n",
    "- [Weight_kg] integer not null\n",
    "\n",
    "##### Player_value\n",
    "- [Sofifa_id] Real not null primary key\n",
    "- [Value_eur] integer not null\n",
    "- [wage_eur] integer not null\n",
    "- [Player_positions] Text not null\n",
    "- [International_reputation] integer not null\n",
    "- [Club_id] integer not null foreign key to Player_Club table\n",
    "\n"
   ]
  },
  {
   "cell_type": "code",
   "execution_count": 4,
   "id": "7becd71b",
   "metadata": {},
   "outputs": [],
   "source": [
    "sofifa_id = []\n",
    "sn = []\n",
    "ln = []\n",
    "age = []\n",
    "dob = []\n",
    "height = []\n",
    "weight = []\n",
    "country = []\n",
    "club = []\n",
    "overall = []\n",
    "potential = []\n",
    "value_eur = []\n",
    "wage_eur = []\n",
    "player_positions = []\n",
    "preferred_foot = []\n",
    "international_reputation =[]\n",
    "weak_foot=[]\n",
    "skill_moves=[]\n",
    "work_rate=[]\n",
    "release_clause_eur=[]\n",
    "player_tags=[]\n",
    "with open('players_18.txt') as file :\n",
    "    next(file)\n",
    "    for line in file:\n",
    "        if not line.strip():\n",
    "            continue \n",
    "        line = line.strip().split('\\t')\n",
    "        sofifa_id.append(line[0])\n",
    "        sn.append(line[2])\n",
    "        ln.append(line[3])\n",
    "        age.append(line[4])\n",
    "        dob.append(line[5])\n",
    "        height.append(line[6])\n",
    "        weight.append(line[7])\n",
    "        country.append(line[8])\n",
    "        club.append(line[9])\n",
    "        overall.append(line[10])\n",
    "        potential.append(line[11])\n",
    "        value_eur.append(line[12])\n",
    "        wage_eur.append(line[13])\n",
    "        player_positions.append(line[14])\n",
    "        preferred_foot.append(line[15])\n",
    "        international_reputation.append(line[16])\n",
    "        weak_foot.append(line[17])\n",
    "        skill_moves.append(line[18])\n",
    "        work_rate.append(line[19])\n",
    "        release_clause_eur.append(line[22])\n",
    "        player_tags.append(line[23])"
   ]
  },
  {
   "cell_type": "code",
   "execution_count": 5,
   "id": "c5840c40",
   "metadata": {},
   "outputs": [],
   "source": [
    "def table1(database_filename):\n",
    "    table1=list(zip(sofifa_id,sn,ln))\n",
    "    create_table_sql1 = \"\"\"CREATE TABLE [Player_Details] (\n",
    "                [sofifa_id] Real not null primary key,\n",
    "                [short_name] Text not null,\n",
    "                [long_name] Text not null\n",
    "            );\"\"\"\n",
    "    database_filename = 'project.db'  \n",
    "    conn = sqlite3.connect(database_filename)\n",
    "    create_table(conn, create_table_sql1,'Player_Details')\n",
    "    def insert_Player(conn, values):\n",
    "        sql = '''INSERT INTO Player_Details(sofifa_id,short_name,long_name)VALUES(?,?,?)'''\n",
    "        cur = conn.cursor()\n",
    "        cur.execute(sql, values)\n",
    "        return cur.lastrowid\n",
    "\n",
    "    with conn:\n",
    "        for r in table1:\n",
    "            insert_Player(conn,(r[0],r[1],r[2]))\n",
    "    sel1 = 'select * from Player_Details'\n",
    "    table1 = pd.read_sql_query(sel1, conn)\n",
    "    return table1\n",
    "\n"
   ]
  },
  {
   "cell_type": "code",
   "execution_count": 6,
   "id": "15503d12",
   "metadata": {},
   "outputs": [],
   "source": [
    "def table2(database_filename):\n",
    "    table2=list(country)\n",
    "    v = sorted(list(set(table2)))\n",
    "    create_table_sql2 = \"\"\"CREATE TABLE [Player_Country] (\n",
    "                [Country_id] Integer not null primary key AUTOINCREMENT,\n",
    "                [nationality] Text not null\n",
    "            );\"\"\"\n",
    "    database_filename = 'project.db' \n",
    "    conn = sqlite3.connect(database_filename)\n",
    "    create_table(conn, create_table_sql2,'Player_Country')\n",
    "    def insert_country(conn, values):\n",
    "        sql = '''INSERT INTO Player_Country(nationality)VALUES(?)'''\n",
    "        cur = conn.cursor()\n",
    "        cur.execute(sql, values)\n",
    "        return cur.lastrowid\n",
    "\n",
    "    with conn:\n",
    "        for new in v:\n",
    "            insert_country(conn,(new,))\n",
    "    sel2 = 'select * from Player_Country'\n",
    "    table2 = pd.read_sql_query(sel2, conn)\n",
    "    return table2\n",
    "\n"
   ]
  },
  {
   "cell_type": "code",
   "execution_count": 7,
   "id": "25e3101f",
   "metadata": {},
   "outputs": [],
   "source": [
    "def table3(database_filename):\n",
    "    table3=list(club)\n",
    "    u=sorted(list(set(table3)))\n",
    "    create_table_sql3 = \"\"\"CREATE TABLE [Player_Club] (\n",
    "                [Club_id] Integer not null primary key AUTOINCREMENT,\n",
    "                [club] Text not null\n",
    "            );\"\"\"\n",
    "    database_filename = 'project.db'\n",
    "    conn = sqlite3.connect(database_filename)\n",
    "    create_table(conn, create_table_sql3,'Player_Club')\n",
    "\n",
    "\n",
    "    def insert_club(conn, values):\n",
    "        sql = '''INSERT INTO Player_Club(club)VALUES(?)'''\n",
    "        cur = conn.cursor()\n",
    "        cur.execute(sql, values)\n",
    "        return cur.lastrowid\n",
    "\n",
    "    with conn:\n",
    "        for new in u:\n",
    "            insert_club(conn,(new,))\n",
    "    sel3 = 'select * from Player_Club'\n",
    "    table3 = pd.read_sql_query(sel3, conn)\n",
    "    return table3"
   ]
  },
  {
   "cell_type": "code",
   "execution_count": 8,
   "id": "a1ba9e52",
   "metadata": {},
   "outputs": [],
   "source": [
    "def table4(database_filename):\n",
    "    table4=list(zip(sofifa_id,age,height,weight))\n",
    "    create_table_sql4 = \"\"\"CREATE TABLE [Player_personality] (\n",
    "                [sofifa_id] Real not null primary key,\n",
    "                [age] integer not null,\n",
    "                [height_cm] integer not null,\n",
    "                [weight_kg] integer not null\n",
    "            );\"\"\"\n",
    "    database_filename = 'project.db'  \n",
    "    conn = sqlite3.connect(database_filename)\n",
    "    create_table(conn, create_table_sql4,'Player_personality')\n",
    "\n",
    "\n",
    "    def insert_personality(conn, values):\n",
    "        sql = '''INSERT INTO Player_personality(sofifa_id,age,height_cm,weight_kg)VALUES(?,?,?,?)'''\n",
    "        #step2_create_region_to_regionid_dictionary(normalized_database_filename)\n",
    "        cur = conn.cursor()\n",
    "        cur.execute(sql, values)\n",
    "        return cur.lastrowid\n",
    "\n",
    "    with conn:\n",
    "        for r in table4:\n",
    "            insert_personality(conn,((r[0],r[1],r[2],r[3])))\n",
    "    sel4 = 'select * from Player_personality'\n",
    "    table4 = pd.read_sql_query(sel4, conn)\n",
    "    return table4\n",
    "\n"
   ]
  },
  {
   "cell_type": "code",
   "execution_count": 9,
   "id": "ec883634",
   "metadata": {},
   "outputs": [],
   "source": [
    "def table5(database_filename):\n",
    "    table5=[]\n",
    "    def create_club_to_clubid_dictionary(normalized_database_filename):\n",
    "        normalized_database_filename = 'project.db'\n",
    "        conn = create_connection(normalized_database_filename)\n",
    "        sql_statement = \"SELECT * FROM Player_Club;\"\n",
    "\n",
    "        df = execute_sql_statement(sql_statement, conn)  \n",
    "\n",
    "        club_dict = dict()  \n",
    "        for l in df:\n",
    "            club_dict[l[1]] = l[0]\n",
    "        return club_dict\n",
    "    z = create_club_to_clubid_dictionary('project.db')\n",
    "    for idx,r in enumerate(club):\n",
    "        table5.append((sofifa_id[idx],value_eur[idx],wage_eur[idx],player_positions[idx],international_reputation[idx],z[r]))\n",
    "    create_table_sql5 = \"\"\"CREATE TABLE [Player_value] (\n",
    "                [sofifa_id] Real not null primary key,\n",
    "                [value_eur] integer not null,\n",
    "                [wage_eur] integer not null,\n",
    "                [player_positions] Text not null,\n",
    "                [international_reputation] integer not null,\n",
    "                [Club_id] integer,\n",
    "                FOREIGN KEY(Club_id) REFERENCES Player_Club(Club_id)\n",
    "            );\"\"\"\n",
    "    database_filename = 'project.db'\n",
    "    conn = sqlite3.connect(database_filename)\n",
    "    create_table(conn, create_table_sql5,'Player_value')\n",
    "    def insert_value(conn, values):\n",
    "        sql = '''INSERT INTO Player_value(sofifa_id,value_eur,wage_eur,player_positions,international_reputation,club_id)VALUES(?,?,?,?,?,?)'''\n",
    "        cur = conn.cursor()\n",
    "        cur.execute(sql, values)\n",
    "        return cur.lastrowid\n",
    "\n",
    "    with conn:\n",
    "        for r in table5:\n",
    "            insert_value(conn,((r[0],r[1],r[2],r[3],r[4],r[5])))\n",
    "    sel5 = 'select * from Player_value'\n",
    "    table5 = pd.read_sql_query(sel5, conn)\n",
    "    return table5"
   ]
  },
  {
   "cell_type": "code",
   "execution_count": 10,
   "id": "c8d735c3",
   "metadata": {},
   "outputs": [],
   "source": [
    "from IPython.core.interactiveshell import InteractiveShell\n",
    "InteractiveShell.ast_node_interactivity = \"all\"\n",
    "sofifa_id, age, overall, potential, value_eur, wage_eur, international_reputation = [], [], [], [], [], [], []\n",
    "header = None\n",
    "with open('players_18.txt', encoding = 'utf-8') as file:\n",
    "    for line in file:\n",
    "        if not line.strip():\n",
    "            continue \n",
    "        if not header:\n",
    "            header = line.strip().split('\\t')\n",
    "            continue    \n",
    "        line = line.strip().split('\\t')\n",
    "        sofifa_id.append(line[0])\n",
    "        age.append(line[4])\n",
    "        overall.append(line[10])\n",
    "        potential.append(line[11])\n",
    "        value_eur.append(line[12])\n",
    "        wage_eur.append(line[13])\n",
    "        international_reputation.append(line[16])\n",
    "\n",
    "df = []\n",
    "for i in range(len(sofifa_id)):\n",
    "    df.append((sofifa_id[i], age[i], overall[i], potential[i], value_eur[i], wage_eur[i], international_reputation[i])) \n",
    "\n",
    "database_filename = 'project.db'\n",
    "conn = sqlite3.connect(database_filename)\n",
    "cur = conn.cursor()\n",
    "cur.execute(\"DROP TABLE IF EXISTS df\")\n",
    "cur.execute(\"CREATE TABLE IF NOT EXISTS df (sofifa_id INTEGER NOT NULL, age INTEGER NOT NULL, overall INTEGER NOT NULL, potential INTEGER NOT NULL, value_eur INTEGER NOT NULL, wage_eur INTEGER NOT NULL, international_reputation INTEGER NOT NULL);\")\n",
    "cur.executemany(\"INSERT INTO df (sofifa_id, age, overall, potential, value_eur, wage_eur, international_reputation) VALUES (?,?,?,?,?,?,?);\", df)\n",
    "conn.commit()\n",
    "\n",
    "select = 'select * from df'\n",
    "df = pd.read_sql_query(select, conn)"
   ]
  },
  {
   "cell_type": "code",
   "execution_count": 11,
   "id": "8644fe29",
   "metadata": {},
   "outputs": [
    {
     "data": {
      "text/plain": [
       "<sqlite3.Cursor at 0x7fc6361962d0>"
      ]
     },
     "execution_count": 11,
     "metadata": {},
     "output_type": "execute_result"
    },
    {
     "data": {
      "text/plain": [
       "<sqlite3.Cursor at 0x7fc6361962d0>"
      ]
     },
     "execution_count": 11,
     "metadata": {},
     "output_type": "execute_result"
    },
    {
     "data": {
      "text/plain": [
       "<sqlite3.Cursor at 0x7fc6361962d0>"
      ]
     },
     "execution_count": 11,
     "metadata": {},
     "output_type": "execute_result"
    }
   ],
   "source": [
    "sofifa_id, age, overall, potential, value_eur, wage_eur, player_positions, international_reputation, weak_foot, skill_moves, release_clause_eur, contract_valid_until = [], [], [], [], [], [], [], [], [], [], [], []\n",
    "header = None\n",
    "with open('players_18.txt', encoding = 'utf-8') as file :\n",
    "    for line in file:\n",
    "        if not line.strip():\n",
    "            continue\n",
    "        if not header:\n",
    "            header = line.strip().split('\\t')\n",
    "            continue   \n",
    "        line = line.strip().split('\\t')\n",
    "        sofifa_id.append(line[0])\n",
    "        age.append(line[4])\n",
    "        overall.append(line[10])\n",
    "        potential.append(line[11])\n",
    "        value_eur.append(line[12])\n",
    "        wage_eur.append(line[13])\n",
    "        player_positions.append(line[14].strip('\"'))\n",
    "        international_reputation.append(line[16])\n",
    "        weak_foot.append(line[17])\n",
    "        skill_moves.append(line[18])\n",
    "        release_clause_eur.append(line[22])\n",
    "        contract_valid_until.append(line[28])\n",
    "\n",
    "dt = []\n",
    "for i in range(len(sofifa_id)):\n",
    "    dt.append((sofifa_id[i], age[i], overall[i], potential[i], value_eur[i], wage_eur[i], player_positions[i], international_reputation[i], weak_foot[i], skill_moves[i], release_clause_eur[i], contract_valid_until[i]))\n",
    "\n",
    "database_filename = 'project.db'   \n",
    "conn = sqlite3.connect(database_filename)\n",
    "cur = conn.cursor()\n",
    "cur.execute(\"DROP TABLE IF EXISTS dt\")\n",
    "cur.execute(\"CREATE TABLE IF NOT EXISTS dt (sofifa_id INTEGER NOT NULL, age INTEGER NOT NULL, overall INTEGER NOT NULL, potential INTEGER NOT NULL, value_eur INTEGER NOT NULL, wage_eur INTEGER NOT NULL, player_positions TEXT NOT NULL, international_reputation INTEGER NOT NULL, weak_foot INTEGER NOT NULL, skill_moves INTEGER NOT NULL, release_clause_eur INTEGER NOT NULL, contract_valid_until INTEGER NOT NULL);\")\n",
    "cur.executemany(\"INSERT INTO dt (sofifa_id, age, overall, potential, value_eur, wage_eur, player_positions, international_reputation, weak_foot, skill_moves, release_clause_eur, contract_valid_until) VALUES (?,?,?,?,?,?,?,?,?,?,?,?);\", dt)\n",
    "conn.commit() \n",
    "select = 'select * from dt'\n",
    "dt = pd.read_sql_query(select, conn)\n",
    "       "
   ]
  },
  {
   "cell_type": "code",
   "execution_count": 12,
   "id": "b5d4ffa1",
   "metadata": {},
   "outputs": [],
   "source": [
    "# table1('project.db')"
   ]
  },
  {
   "cell_type": "code",
   "execution_count": 13,
   "id": "715f9e3a",
   "metadata": {},
   "outputs": [],
   "source": [
    "# table2('project.db')"
   ]
  },
  {
   "cell_type": "code",
   "execution_count": 14,
   "id": "9b331743",
   "metadata": {},
   "outputs": [],
   "source": [
    "# table3('project.db')"
   ]
  },
  {
   "cell_type": "code",
   "execution_count": 15,
   "id": "12fab74c",
   "metadata": {},
   "outputs": [],
   "source": [
    "# table4('project.db')"
   ]
  },
  {
   "cell_type": "code",
   "execution_count": 16,
   "id": "45dc2ceb",
   "metadata": {},
   "outputs": [],
   "source": [
    "# table5('project.db')"
   ]
  },
  {
   "cell_type": "code",
   "execution_count": 17,
   "id": "9e3600bb",
   "metadata": {},
   "outputs": [],
   "source": [
    "# df"
   ]
  },
  {
   "cell_type": "code",
   "execution_count": 18,
   "id": "dd91d245",
   "metadata": {},
   "outputs": [],
   "source": [
    "# dt"
   ]
  },
  {
   "cell_type": "markdown",
   "id": "884480f5",
   "metadata": {},
   "source": [
    "## 2) Understanding the data "
   ]
  },
  {
   "cell_type": "code",
   "execution_count": 19,
   "id": "4a89e841",
   "metadata": {
    "scrolled": true
   },
   "outputs": [
    {
     "name": "stdout",
     "output_type": "stream",
     "text": [
      "<class 'pandas.core.frame.DataFrame'>\n",
      "RangeIndex: 17592 entries, 0 to 17591\n",
      "Data columns (total 7 columns):\n",
      " #   Column                    Non-Null Count  Dtype\n",
      "---  ------                    --------------  -----\n",
      " 0   sofifa_id                 17592 non-null  int64\n",
      " 1   age                       17592 non-null  int64\n",
      " 2   overall                   17592 non-null  int64\n",
      " 3   potential                 17592 non-null  int64\n",
      " 4   value_eur                 17592 non-null  int64\n",
      " 5   wage_eur                  17592 non-null  int64\n",
      " 6   international_reputation  17592 non-null  int64\n",
      "dtypes: int64(7)\n",
      "memory usage: 962.2 KB\n"
     ]
    }
   ],
   "source": [
    "df.info()"
   ]
  },
  {
   "cell_type": "code",
   "execution_count": 20,
   "id": "ed6429d2",
   "metadata": {},
   "outputs": [
    {
     "data": {
      "text/plain": [
       "(17592, 7)"
      ]
     },
     "execution_count": 20,
     "metadata": {},
     "output_type": "execute_result"
    }
   ],
   "source": [
    "df.shape"
   ]
  },
  {
   "cell_type": "code",
   "execution_count": 21,
   "id": "5aefe517",
   "metadata": {
    "scrolled": false
   },
   "outputs": [
    {
     "data": {
      "text/html": [
       "<div>\n",
       "<style scoped>\n",
       "    .dataframe tbody tr th:only-of-type {\n",
       "        vertical-align: middle;\n",
       "    }\n",
       "\n",
       "    .dataframe tbody tr th {\n",
       "        vertical-align: top;\n",
       "    }\n",
       "\n",
       "    .dataframe thead th {\n",
       "        text-align: right;\n",
       "    }\n",
       "</style>\n",
       "<table border=\"1\" class=\"dataframe\">\n",
       "  <thead>\n",
       "    <tr style=\"text-align: right;\">\n",
       "      <th></th>\n",
       "      <th>sofifa_id</th>\n",
       "      <th>age</th>\n",
       "      <th>overall</th>\n",
       "      <th>potential</th>\n",
       "      <th>value_eur</th>\n",
       "      <th>wage_eur</th>\n",
       "      <th>international_reputation</th>\n",
       "    </tr>\n",
       "  </thead>\n",
       "  <tbody>\n",
       "    <tr>\n",
       "      <th>0</th>\n",
       "      <td>20801</td>\n",
       "      <td>32</td>\n",
       "      <td>94</td>\n",
       "      <td>94</td>\n",
       "      <td>95500000</td>\n",
       "      <td>565000</td>\n",
       "      <td>5</td>\n",
       "    </tr>\n",
       "    <tr>\n",
       "      <th>1</th>\n",
       "      <td>158023</td>\n",
       "      <td>30</td>\n",
       "      <td>93</td>\n",
       "      <td>93</td>\n",
       "      <td>105000000</td>\n",
       "      <td>565000</td>\n",
       "      <td>5</td>\n",
       "    </tr>\n",
       "    <tr>\n",
       "      <th>2</th>\n",
       "      <td>190871</td>\n",
       "      <td>25</td>\n",
       "      <td>92</td>\n",
       "      <td>94</td>\n",
       "      <td>123000000</td>\n",
       "      <td>280000</td>\n",
       "      <td>5</td>\n",
       "    </tr>\n",
       "    <tr>\n",
       "      <th>3</th>\n",
       "      <td>167495</td>\n",
       "      <td>31</td>\n",
       "      <td>92</td>\n",
       "      <td>92</td>\n",
       "      <td>61000000</td>\n",
       "      <td>230000</td>\n",
       "      <td>5</td>\n",
       "    </tr>\n",
       "    <tr>\n",
       "      <th>4</th>\n",
       "      <td>176580</td>\n",
       "      <td>30</td>\n",
       "      <td>92</td>\n",
       "      <td>92</td>\n",
       "      <td>97000000</td>\n",
       "      <td>510000</td>\n",
       "      <td>5</td>\n",
       "    </tr>\n",
       "  </tbody>\n",
       "</table>\n",
       "</div>"
      ],
      "text/plain": [
       "   sofifa_id  age  overall  potential  value_eur  wage_eur  \\\n",
       "0      20801   32       94         94   95500000    565000   \n",
       "1     158023   30       93         93  105000000    565000   \n",
       "2     190871   25       92         94  123000000    280000   \n",
       "3     167495   31       92         92   61000000    230000   \n",
       "4     176580   30       92         92   97000000    510000   \n",
       "\n",
       "   international_reputation  \n",
       "0                         5  \n",
       "1                         5  \n",
       "2                         5  \n",
       "3                         5  \n",
       "4                         5  "
      ]
     },
     "execution_count": 21,
     "metadata": {},
     "output_type": "execute_result"
    }
   ],
   "source": [
    "df.head()"
   ]
  },
  {
   "cell_type": "code",
   "execution_count": 22,
   "id": "3aa696c6",
   "metadata": {
    "scrolled": true
   },
   "outputs": [
    {
     "name": "stdout",
     "output_type": "stream",
     "text": [
      "<class 'pandas.core.frame.DataFrame'>\n",
      "RangeIndex: 17592 entries, 0 to 17591\n",
      "Data columns (total 12 columns):\n",
      " #   Column                    Non-Null Count  Dtype \n",
      "---  ------                    --------------  ----- \n",
      " 0   sofifa_id                 17592 non-null  int64 \n",
      " 1   age                       17592 non-null  int64 \n",
      " 2   overall                   17592 non-null  int64 \n",
      " 3   potential                 17592 non-null  int64 \n",
      " 4   value_eur                 17592 non-null  int64 \n",
      " 5   wage_eur                  17592 non-null  int64 \n",
      " 6   player_positions          17592 non-null  object\n",
      " 7   international_reputation  17592 non-null  int64 \n",
      " 8   weak_foot                 17592 non-null  int64 \n",
      " 9   skill_moves               17592 non-null  int64 \n",
      " 10  release_clause_eur        17592 non-null  object\n",
      " 11  contract_valid_until      17592 non-null  object\n",
      "dtypes: int64(9), object(3)\n",
      "memory usage: 1.6+ MB\n"
     ]
    }
   ],
   "source": [
    "dt.info()"
   ]
  },
  {
   "cell_type": "code",
   "execution_count": 23,
   "id": "240eab46",
   "metadata": {},
   "outputs": [
    {
     "data": {
      "text/plain": [
       "(17592, 12)"
      ]
     },
     "execution_count": 23,
     "metadata": {},
     "output_type": "execute_result"
    }
   ],
   "source": [
    "dt.shape"
   ]
  },
  {
   "cell_type": "code",
   "execution_count": 24,
   "id": "73ee6961",
   "metadata": {},
   "outputs": [
    {
     "data": {
      "text/html": [
       "<div>\n",
       "<style scoped>\n",
       "    .dataframe tbody tr th:only-of-type {\n",
       "        vertical-align: middle;\n",
       "    }\n",
       "\n",
       "    .dataframe tbody tr th {\n",
       "        vertical-align: top;\n",
       "    }\n",
       "\n",
       "    .dataframe thead th {\n",
       "        text-align: right;\n",
       "    }\n",
       "</style>\n",
       "<table border=\"1\" class=\"dataframe\">\n",
       "  <thead>\n",
       "    <tr style=\"text-align: right;\">\n",
       "      <th></th>\n",
       "      <th>sofifa_id</th>\n",
       "      <th>age</th>\n",
       "      <th>overall</th>\n",
       "      <th>potential</th>\n",
       "      <th>value_eur</th>\n",
       "      <th>wage_eur</th>\n",
       "      <th>player_positions</th>\n",
       "      <th>international_reputation</th>\n",
       "      <th>weak_foot</th>\n",
       "      <th>skill_moves</th>\n",
       "      <th>release_clause_eur</th>\n",
       "      <th>contract_valid_until</th>\n",
       "    </tr>\n",
       "  </thead>\n",
       "  <tbody>\n",
       "    <tr>\n",
       "      <th>0</th>\n",
       "      <td>20801</td>\n",
       "      <td>32</td>\n",
       "      <td>94</td>\n",
       "      <td>94</td>\n",
       "      <td>95500000</td>\n",
       "      <td>565000</td>\n",
       "      <td>LW, ST</td>\n",
       "      <td>5</td>\n",
       "      <td>4</td>\n",
       "      <td>5</td>\n",
       "      <td>195800000</td>\n",
       "      <td>2021</td>\n",
       "    </tr>\n",
       "    <tr>\n",
       "      <th>1</th>\n",
       "      <td>158023</td>\n",
       "      <td>30</td>\n",
       "      <td>93</td>\n",
       "      <td>93</td>\n",
       "      <td>105000000</td>\n",
       "      <td>565000</td>\n",
       "      <td>RW</td>\n",
       "      <td>5</td>\n",
       "      <td>4</td>\n",
       "      <td>4</td>\n",
       "      <td>215300000</td>\n",
       "      <td>2018</td>\n",
       "    </tr>\n",
       "    <tr>\n",
       "      <th>2</th>\n",
       "      <td>190871</td>\n",
       "      <td>25</td>\n",
       "      <td>92</td>\n",
       "      <td>94</td>\n",
       "      <td>123000000</td>\n",
       "      <td>280000</td>\n",
       "      <td>LW</td>\n",
       "      <td>5</td>\n",
       "      <td>5</td>\n",
       "      <td>5</td>\n",
       "      <td>236800000</td>\n",
       "      <td>2022</td>\n",
       "    </tr>\n",
       "    <tr>\n",
       "      <th>3</th>\n",
       "      <td>167495</td>\n",
       "      <td>31</td>\n",
       "      <td>92</td>\n",
       "      <td>92</td>\n",
       "      <td>61000000</td>\n",
       "      <td>230000</td>\n",
       "      <td>GK</td>\n",
       "      <td>5</td>\n",
       "      <td>4</td>\n",
       "      <td>1</td>\n",
       "      <td>100700000</td>\n",
       "      <td>2021</td>\n",
       "    </tr>\n",
       "    <tr>\n",
       "      <th>4</th>\n",
       "      <td>176580</td>\n",
       "      <td>30</td>\n",
       "      <td>92</td>\n",
       "      <td>92</td>\n",
       "      <td>97000000</td>\n",
       "      <td>510000</td>\n",
       "      <td>ST</td>\n",
       "      <td>5</td>\n",
       "      <td>4</td>\n",
       "      <td>4</td>\n",
       "      <td>198900000</td>\n",
       "      <td>2021</td>\n",
       "    </tr>\n",
       "  </tbody>\n",
       "</table>\n",
       "</div>"
      ],
      "text/plain": [
       "   sofifa_id  age  overall  potential  value_eur  wage_eur player_positions  \\\n",
       "0      20801   32       94         94   95500000    565000           LW, ST   \n",
       "1     158023   30       93         93  105000000    565000               RW   \n",
       "2     190871   25       92         94  123000000    280000               LW   \n",
       "3     167495   31       92         92   61000000    230000               GK   \n",
       "4     176580   30       92         92   97000000    510000               ST   \n",
       "\n",
       "   international_reputation  weak_foot  skill_moves release_clause_eur  \\\n",
       "0                         5          4            5          195800000   \n",
       "1                         5          4            4          215300000   \n",
       "2                         5          5            5          236800000   \n",
       "3                         5          4            1          100700000   \n",
       "4                         5          4            4          198900000   \n",
       "\n",
       "  contract_valid_until  \n",
       "0                 2021  \n",
       "1                 2018  \n",
       "2                 2022  \n",
       "3                 2021  \n",
       "4                 2021  "
      ]
     },
     "execution_count": 24,
     "metadata": {},
     "output_type": "execute_result"
    }
   ],
   "source": [
    "dt.head()"
   ]
  },
  {
   "cell_type": "code",
   "execution_count": 25,
   "id": "b21d284c",
   "metadata": {},
   "outputs": [
    {
     "name": "stdout",
     "output_type": "stream",
     "text": [
      "<class 'pandas.core.frame.DataFrame'>\n",
      "RangeIndex: 17592 entries, 0 to 17591\n",
      "Data columns (total 3 columns):\n",
      " #   Column      Non-Null Count  Dtype  \n",
      "---  ------      --------------  -----  \n",
      " 0   sofifa_id   17592 non-null  float64\n",
      " 1   short_name  17592 non-null  object \n",
      " 2   long_name   17592 non-null  object \n",
      "dtypes: float64(1), object(2)\n",
      "memory usage: 412.4+ KB\n"
     ]
    }
   ],
   "source": [
    "table1('project.db').info()"
   ]
  },
  {
   "cell_type": "code",
   "execution_count": 26,
   "id": "92ebf24a",
   "metadata": {},
   "outputs": [
    {
     "data": {
      "text/plain": [
       "(17592, 3)"
      ]
     },
     "execution_count": 26,
     "metadata": {},
     "output_type": "execute_result"
    }
   ],
   "source": [
    "table1('project.db').shape"
   ]
  },
  {
   "cell_type": "code",
   "execution_count": 27,
   "id": "22664528",
   "metadata": {},
   "outputs": [
    {
     "data": {
      "text/html": [
       "<div>\n",
       "<style scoped>\n",
       "    .dataframe tbody tr th:only-of-type {\n",
       "        vertical-align: middle;\n",
       "    }\n",
       "\n",
       "    .dataframe tbody tr th {\n",
       "        vertical-align: top;\n",
       "    }\n",
       "\n",
       "    .dataframe thead th {\n",
       "        text-align: right;\n",
       "    }\n",
       "</style>\n",
       "<table border=\"1\" class=\"dataframe\">\n",
       "  <thead>\n",
       "    <tr style=\"text-align: right;\">\n",
       "      <th></th>\n",
       "      <th>sofifa_id</th>\n",
       "      <th>short_name</th>\n",
       "      <th>long_name</th>\n",
       "    </tr>\n",
       "  </thead>\n",
       "  <tbody>\n",
       "    <tr>\n",
       "      <th>0</th>\n",
       "      <td>20801.0</td>\n",
       "      <td>Cristiano Ronaldo</td>\n",
       "      <td>Cristiano Ronaldo dos Santos Aveiro</td>\n",
       "    </tr>\n",
       "    <tr>\n",
       "      <th>1</th>\n",
       "      <td>158023.0</td>\n",
       "      <td>L. Messi</td>\n",
       "      <td>Lionel Andrés Messi Cuccittini</td>\n",
       "    </tr>\n",
       "    <tr>\n",
       "      <th>2</th>\n",
       "      <td>190871.0</td>\n",
       "      <td>Neymar</td>\n",
       "      <td>Neymar da Silva Santos Junior</td>\n",
       "    </tr>\n",
       "    <tr>\n",
       "      <th>3</th>\n",
       "      <td>167495.0</td>\n",
       "      <td>M. Neuer</td>\n",
       "      <td>Manuel Neuer</td>\n",
       "    </tr>\n",
       "    <tr>\n",
       "      <th>4</th>\n",
       "      <td>176580.0</td>\n",
       "      <td>L. Suárez</td>\n",
       "      <td>Luis Alberto Suárez Díaz</td>\n",
       "    </tr>\n",
       "  </tbody>\n",
       "</table>\n",
       "</div>"
      ],
      "text/plain": [
       "   sofifa_id         short_name                            long_name\n",
       "0    20801.0  Cristiano Ronaldo  Cristiano Ronaldo dos Santos Aveiro\n",
       "1   158023.0           L. Messi       Lionel Andrés Messi Cuccittini\n",
       "2   190871.0             Neymar        Neymar da Silva Santos Junior\n",
       "3   167495.0           M. Neuer                         Manuel Neuer\n",
       "4   176580.0          L. Suárez             Luis Alberto Suárez Díaz"
      ]
     },
     "execution_count": 27,
     "metadata": {},
     "output_type": "execute_result"
    }
   ],
   "source": [
    "table1('project.db').head()"
   ]
  },
  {
   "cell_type": "code",
   "execution_count": 28,
   "id": "8f7ace27",
   "metadata": {},
   "outputs": [
    {
     "name": "stdout",
     "output_type": "stream",
     "text": [
      "<class 'pandas.core.frame.DataFrame'>\n",
      "RangeIndex: 164 entries, 0 to 163\n",
      "Data columns (total 2 columns):\n",
      " #   Column       Non-Null Count  Dtype \n",
      "---  ------       --------------  ----- \n",
      " 0   Country_id   164 non-null    int64 \n",
      " 1   nationality  164 non-null    object\n",
      "dtypes: int64(1), object(1)\n",
      "memory usage: 2.7+ KB\n"
     ]
    }
   ],
   "source": [
    "table2('project.db').info()"
   ]
  },
  {
   "cell_type": "code",
   "execution_count": 29,
   "id": "730ac3f1",
   "metadata": {},
   "outputs": [
    {
     "data": {
      "text/plain": [
       "(164, 2)"
      ]
     },
     "execution_count": 29,
     "metadata": {},
     "output_type": "execute_result"
    }
   ],
   "source": [
    "table2('project.db').shape"
   ]
  },
  {
   "cell_type": "code",
   "execution_count": 30,
   "id": "3607f7a2",
   "metadata": {},
   "outputs": [
    {
     "data": {
      "text/html": [
       "<div>\n",
       "<style scoped>\n",
       "    .dataframe tbody tr th:only-of-type {\n",
       "        vertical-align: middle;\n",
       "    }\n",
       "\n",
       "    .dataframe tbody tr th {\n",
       "        vertical-align: top;\n",
       "    }\n",
       "\n",
       "    .dataframe thead th {\n",
       "        text-align: right;\n",
       "    }\n",
       "</style>\n",
       "<table border=\"1\" class=\"dataframe\">\n",
       "  <thead>\n",
       "    <tr style=\"text-align: right;\">\n",
       "      <th></th>\n",
       "      <th>Country_id</th>\n",
       "      <th>nationality</th>\n",
       "    </tr>\n",
       "  </thead>\n",
       "  <tbody>\n",
       "    <tr>\n",
       "      <th>0</th>\n",
       "      <td>1</td>\n",
       "      <td>Afghanistan</td>\n",
       "    </tr>\n",
       "    <tr>\n",
       "      <th>1</th>\n",
       "      <td>2</td>\n",
       "      <td>Albania</td>\n",
       "    </tr>\n",
       "    <tr>\n",
       "      <th>2</th>\n",
       "      <td>3</td>\n",
       "      <td>Algeria</td>\n",
       "    </tr>\n",
       "    <tr>\n",
       "      <th>3</th>\n",
       "      <td>4</td>\n",
       "      <td>Angola</td>\n",
       "    </tr>\n",
       "    <tr>\n",
       "      <th>4</th>\n",
       "      <td>5</td>\n",
       "      <td>Antigua &amp; Barbuda</td>\n",
       "    </tr>\n",
       "  </tbody>\n",
       "</table>\n",
       "</div>"
      ],
      "text/plain": [
       "   Country_id        nationality\n",
       "0           1        Afghanistan\n",
       "1           2            Albania\n",
       "2           3            Algeria\n",
       "3           4             Angola\n",
       "4           5  Antigua & Barbuda"
      ]
     },
     "execution_count": 30,
     "metadata": {},
     "output_type": "execute_result"
    }
   ],
   "source": [
    "table2('project.db').head()"
   ]
  },
  {
   "cell_type": "code",
   "execution_count": 31,
   "id": "600c7645",
   "metadata": {},
   "outputs": [
    {
     "name": "stdout",
     "output_type": "stream",
     "text": [
      "<class 'pandas.core.frame.DataFrame'>\n",
      "RangeIndex: 677 entries, 0 to 676\n",
      "Data columns (total 2 columns):\n",
      " #   Column   Non-Null Count  Dtype \n",
      "---  ------   --------------  ----- \n",
      " 0   Club_id  677 non-null    int64 \n",
      " 1   club     677 non-null    object\n",
      "dtypes: int64(1), object(1)\n",
      "memory usage: 10.7+ KB\n"
     ]
    }
   ],
   "source": [
    "table3('project.db').info()"
   ]
  },
  {
   "cell_type": "code",
   "execution_count": 32,
   "id": "2dd1dfa3",
   "metadata": {},
   "outputs": [
    {
     "data": {
      "text/plain": [
       "(677, 2)"
      ]
     },
     "execution_count": 32,
     "metadata": {},
     "output_type": "execute_result"
    }
   ],
   "source": [
    "table3('project.db').shape"
   ]
  },
  {
   "cell_type": "code",
   "execution_count": 33,
   "id": "dccc117f",
   "metadata": {},
   "outputs": [
    {
     "data": {
      "text/html": [
       "<div>\n",
       "<style scoped>\n",
       "    .dataframe tbody tr th:only-of-type {\n",
       "        vertical-align: middle;\n",
       "    }\n",
       "\n",
       "    .dataframe tbody tr th {\n",
       "        vertical-align: top;\n",
       "    }\n",
       "\n",
       "    .dataframe thead th {\n",
       "        text-align: right;\n",
       "    }\n",
       "</style>\n",
       "<table border=\"1\" class=\"dataframe\">\n",
       "  <thead>\n",
       "    <tr style=\"text-align: right;\">\n",
       "      <th></th>\n",
       "      <th>Club_id</th>\n",
       "      <th>club</th>\n",
       "    </tr>\n",
       "  </thead>\n",
       "  <tbody>\n",
       "    <tr>\n",
       "      <th>0</th>\n",
       "      <td>1</td>\n",
       "      <td>SSV Jahn Regensburg</td>\n",
       "    </tr>\n",
       "    <tr>\n",
       "      <th>1</th>\n",
       "      <td>2</td>\n",
       "      <td>1. FC Heidenheim 1846</td>\n",
       "    </tr>\n",
       "    <tr>\n",
       "      <th>2</th>\n",
       "      <td>3</td>\n",
       "      <td>1. FC Kaiserslautern</td>\n",
       "    </tr>\n",
       "    <tr>\n",
       "      <th>3</th>\n",
       "      <td>4</td>\n",
       "      <td>1. FC Köln</td>\n",
       "    </tr>\n",
       "    <tr>\n",
       "      <th>4</th>\n",
       "      <td>5</td>\n",
       "      <td>1. FC Magdeburg</td>\n",
       "    </tr>\n",
       "  </tbody>\n",
       "</table>\n",
       "</div>"
      ],
      "text/plain": [
       "   Club_id                   club\n",
       "0        1    SSV Jahn Regensburg\n",
       "1        2  1. FC Heidenheim 1846\n",
       "2        3   1. FC Kaiserslautern\n",
       "3        4             1. FC Köln\n",
       "4        5        1. FC Magdeburg"
      ]
     },
     "execution_count": 33,
     "metadata": {},
     "output_type": "execute_result"
    }
   ],
   "source": [
    "table3('project.db').head()"
   ]
  },
  {
   "cell_type": "code",
   "execution_count": 34,
   "id": "fc588ace",
   "metadata": {},
   "outputs": [
    {
     "name": "stdout",
     "output_type": "stream",
     "text": [
      "<class 'pandas.core.frame.DataFrame'>\n",
      "RangeIndex: 17592 entries, 0 to 17591\n",
      "Data columns (total 4 columns):\n",
      " #   Column     Non-Null Count  Dtype  \n",
      "---  ------     --------------  -----  \n",
      " 0   sofifa_id  17592 non-null  float64\n",
      " 1   age        17592 non-null  int64  \n",
      " 2   height_cm  17592 non-null  int64  \n",
      " 3   weight_kg  17592 non-null  int64  \n",
      "dtypes: float64(1), int64(3)\n",
      "memory usage: 549.9 KB\n"
     ]
    }
   ],
   "source": [
    "table4('project.db').info()"
   ]
  },
  {
   "cell_type": "code",
   "execution_count": 35,
   "id": "198e73fd",
   "metadata": {},
   "outputs": [
    {
     "data": {
      "text/plain": [
       "(17592, 4)"
      ]
     },
     "execution_count": 35,
     "metadata": {},
     "output_type": "execute_result"
    }
   ],
   "source": [
    "table4('project.db').shape"
   ]
  },
  {
   "cell_type": "code",
   "execution_count": 36,
   "id": "03f1c90a",
   "metadata": {},
   "outputs": [
    {
     "data": {
      "text/html": [
       "<div>\n",
       "<style scoped>\n",
       "    .dataframe tbody tr th:only-of-type {\n",
       "        vertical-align: middle;\n",
       "    }\n",
       "\n",
       "    .dataframe tbody tr th {\n",
       "        vertical-align: top;\n",
       "    }\n",
       "\n",
       "    .dataframe thead th {\n",
       "        text-align: right;\n",
       "    }\n",
       "</style>\n",
       "<table border=\"1\" class=\"dataframe\">\n",
       "  <thead>\n",
       "    <tr style=\"text-align: right;\">\n",
       "      <th></th>\n",
       "      <th>sofifa_id</th>\n",
       "      <th>age</th>\n",
       "      <th>height_cm</th>\n",
       "      <th>weight_kg</th>\n",
       "    </tr>\n",
       "  </thead>\n",
       "  <tbody>\n",
       "    <tr>\n",
       "      <th>0</th>\n",
       "      <td>20801.0</td>\n",
       "      <td>32</td>\n",
       "      <td>185</td>\n",
       "      <td>80</td>\n",
       "    </tr>\n",
       "    <tr>\n",
       "      <th>1</th>\n",
       "      <td>158023.0</td>\n",
       "      <td>30</td>\n",
       "      <td>170</td>\n",
       "      <td>72</td>\n",
       "    </tr>\n",
       "    <tr>\n",
       "      <th>2</th>\n",
       "      <td>190871.0</td>\n",
       "      <td>25</td>\n",
       "      <td>175</td>\n",
       "      <td>68</td>\n",
       "    </tr>\n",
       "    <tr>\n",
       "      <th>3</th>\n",
       "      <td>167495.0</td>\n",
       "      <td>31</td>\n",
       "      <td>193</td>\n",
       "      <td>92</td>\n",
       "    </tr>\n",
       "    <tr>\n",
       "      <th>4</th>\n",
       "      <td>176580.0</td>\n",
       "      <td>30</td>\n",
       "      <td>182</td>\n",
       "      <td>86</td>\n",
       "    </tr>\n",
       "  </tbody>\n",
       "</table>\n",
       "</div>"
      ],
      "text/plain": [
       "   sofifa_id  age  height_cm  weight_kg\n",
       "0    20801.0   32        185         80\n",
       "1   158023.0   30        170         72\n",
       "2   190871.0   25        175         68\n",
       "3   167495.0   31        193         92\n",
       "4   176580.0   30        182         86"
      ]
     },
     "execution_count": 36,
     "metadata": {},
     "output_type": "execute_result"
    }
   ],
   "source": [
    "table4('project.db').head()"
   ]
  },
  {
   "cell_type": "code",
   "execution_count": 37,
   "id": "46b13565",
   "metadata": {},
   "outputs": [
    {
     "name": "stdout",
     "output_type": "stream",
     "text": [
      "<class 'pandas.core.frame.DataFrame'>\n",
      "RangeIndex: 17592 entries, 0 to 17591\n",
      "Data columns (total 6 columns):\n",
      " #   Column                    Non-Null Count  Dtype  \n",
      "---  ------                    --------------  -----  \n",
      " 0   sofifa_id                 17592 non-null  float64\n",
      " 1   value_eur                 17592 non-null  int64  \n",
      " 2   wage_eur                  17592 non-null  int64  \n",
      " 3   player_positions          17592 non-null  object \n",
      " 4   international_reputation  17592 non-null  int64  \n",
      " 5   Club_id                   17592 non-null  int64  \n",
      "dtypes: float64(1), int64(4), object(1)\n",
      "memory usage: 824.8+ KB\n"
     ]
    }
   ],
   "source": [
    "table5('project.db').info()"
   ]
  },
  {
   "cell_type": "code",
   "execution_count": 38,
   "id": "6081a8d2",
   "metadata": {},
   "outputs": [
    {
     "data": {
      "text/plain": [
       "(17592, 6)"
      ]
     },
     "execution_count": 38,
     "metadata": {},
     "output_type": "execute_result"
    }
   ],
   "source": [
    "table5('project.db').shape"
   ]
  },
  {
   "cell_type": "code",
   "execution_count": 39,
   "id": "6ff51b4f",
   "metadata": {},
   "outputs": [
    {
     "data": {
      "text/html": [
       "<div>\n",
       "<style scoped>\n",
       "    .dataframe tbody tr th:only-of-type {\n",
       "        vertical-align: middle;\n",
       "    }\n",
       "\n",
       "    .dataframe tbody tr th {\n",
       "        vertical-align: top;\n",
       "    }\n",
       "\n",
       "    .dataframe thead th {\n",
       "        text-align: right;\n",
       "    }\n",
       "</style>\n",
       "<table border=\"1\" class=\"dataframe\">\n",
       "  <thead>\n",
       "    <tr style=\"text-align: right;\">\n",
       "      <th></th>\n",
       "      <th>sofifa_id</th>\n",
       "      <th>value_eur</th>\n",
       "      <th>wage_eur</th>\n",
       "      <th>player_positions</th>\n",
       "      <th>international_reputation</th>\n",
       "      <th>Club_id</th>\n",
       "    </tr>\n",
       "  </thead>\n",
       "  <tbody>\n",
       "    <tr>\n",
       "      <th>0</th>\n",
       "      <td>20801.0</td>\n",
       "      <td>95500000</td>\n",
       "      <td>565000</td>\n",
       "      <td>LW, ST</td>\n",
       "      <td>5</td>\n",
       "      <td>493</td>\n",
       "    </tr>\n",
       "    <tr>\n",
       "      <th>1</th>\n",
       "      <td>158023.0</td>\n",
       "      <td>105000000</td>\n",
       "      <td>565000</td>\n",
       "      <td>RW</td>\n",
       "      <td>5</td>\n",
       "      <td>227</td>\n",
       "    </tr>\n",
       "    <tr>\n",
       "      <th>2</th>\n",
       "      <td>190871.0</td>\n",
       "      <td>123000000</td>\n",
       "      <td>280000</td>\n",
       "      <td>LW</td>\n",
       "      <td>5</td>\n",
       "      <td>455</td>\n",
       "    </tr>\n",
       "    <tr>\n",
       "      <th>3</th>\n",
       "      <td>167495.0</td>\n",
       "      <td>61000000</td>\n",
       "      <td>230000</td>\n",
       "      <td>GK</td>\n",
       "      <td>5</td>\n",
       "      <td>230</td>\n",
       "    </tr>\n",
       "    <tr>\n",
       "      <th>4</th>\n",
       "      <td>176580.0</td>\n",
       "      <td>97000000</td>\n",
       "      <td>510000</td>\n",
       "      <td>ST</td>\n",
       "      <td>5</td>\n",
       "      <td>227</td>\n",
       "    </tr>\n",
       "  </tbody>\n",
       "</table>\n",
       "</div>"
      ],
      "text/plain": [
       "   sofifa_id  value_eur  wage_eur player_positions  international_reputation  \\\n",
       "0    20801.0   95500000    565000           LW, ST                         5   \n",
       "1   158023.0  105000000    565000               RW                         5   \n",
       "2   190871.0  123000000    280000               LW                         5   \n",
       "3   167495.0   61000000    230000               GK                         5   \n",
       "4   176580.0   97000000    510000               ST                         5   \n",
       "\n",
       "   Club_id  \n",
       "0      493  \n",
       "1      227  \n",
       "2      455  \n",
       "3      230  \n",
       "4      227  "
      ]
     },
     "execution_count": 39,
     "metadata": {},
     "output_type": "execute_result"
    }
   ],
   "source": [
    "table5('project.db').head()"
   ]
  },
  {
   "cell_type": "markdown",
   "id": "529fc9be",
   "metadata": {},
   "source": [
    "##  3) Visualising the data"
   ]
  },
  {
   "cell_type": "markdown",
   "id": "f2b05b6d",
   "metadata": {},
   "source": [
    "### AGE"
   ]
  },
  {
   "cell_type": "code",
   "execution_count": 40,
   "id": "8c3e7f5e",
   "metadata": {},
   "outputs": [
    {
     "data": {
      "text/plain": [
       "<Figure size 1152x2160 with 0 Axes>"
      ]
     },
     "execution_count": 40,
     "metadata": {},
     "output_type": "execute_result"
    },
    {
     "data": {
      "text/plain": [
       "<Figure size 1152x2160 with 0 Axes>"
      ]
     },
     "metadata": {},
     "output_type": "display_data"
    },
    {
     "data": {
      "image/png": "[encoded data removed]",
      "text/plain": [
       "<Figure size 504x504 with 1 Axes>"
      ]
     },
     "metadata": {
      "needs_background": "light"
     },
     "output_type": "display_data"
    }
   ],
   "source": [
    "plt.figure(figsize=(16, 30))\n",
    "g = sns.displot(data=table4('project.db'), x=\"age\", kind=\"kde\", height = 7)"
   ]
  },
  {
   "cell_type": "markdown",
   "id": "9f1e796f",
   "metadata": {},
   "source": [
    " We understand from the above graph that max players of the age grop of 20 - 28"
   ]
  },
  {
   "cell_type": "markdown",
   "id": "ba8dfb8c",
   "metadata": {},
   "source": [
    "### AGE VS VALUE"
   ]
  },
  {
   "cell_type": "code",
   "execution_count": 41,
   "id": "58649fba",
   "metadata": {
    "scrolled": false
   },
   "outputs": [
    {
     "data": {
      "text/plain": [
       "<matplotlib.lines._AxLine at 0x7fc641ff5d60>"
      ]
     },
     "execution_count": 41,
     "metadata": {},
     "output_type": "execute_result"
    },
    {
     "data": {
      "image/png": "[encoded data removed]",
      "text/plain": [
       "<Figure size 504x504 with 1 Axes>"
      ]
     },
     "metadata": {},
     "output_type": "display_data"
    }
   ],
   "source": [
    "sns.set(rc = {'figure.figsize':(10,8)})  \n",
    "g = sns.relplot(data=df, x=\"age\", y=\"value_eur\",height = 7)\n",
    "g.ax.axline(xy1=(10, 2), slope=.2, color=\"b\", dashes=(5, 2))"
   ]
  },
  {
   "cell_type": "markdown",
   "id": "ab3c001c",
   "metadata": {},
   "source": [
    "from the above graph we can see there is a steep decline of value after or around age 30 . "
   ]
  },
  {
   "cell_type": "markdown",
   "id": "0b4ead9f",
   "metadata": {},
   "source": [
    "### Overall"
   ]
  },
  {
   "cell_type": "code",
   "execution_count": 42,
   "id": "0b9b14e0",
   "metadata": {},
   "outputs": [
    {
     "data": {
      "text/plain": [
       "<seaborn.axisgrid.FacetGrid at 0x7fc64169f610>"
      ]
     },
     "execution_count": 42,
     "metadata": {},
     "output_type": "execute_result"
    },
    {
     "data": {
      "image/png": "[encoded data removed]",
      "text/plain": [
       "<Figure size 504x504 with 1 Axes>"
      ]
     },
     "metadata": {},
     "output_type": "display_data"
    }
   ],
   "source": [
    "sns.displot(data=df, x=\"overall\",   kind=\"kde\",height = 7)"
   ]
  },
  {
   "cell_type": "markdown",
   "id": "0d5e91ee",
   "metadata": {},
   "source": [
    "### Overall VS Value of a Player"
   ]
  },
  {
   "cell_type": "code",
   "execution_count": 43,
   "id": "d0533ae4",
   "metadata": {},
   "outputs": [
    {
     "data": {
      "text/plain": [
       "<matplotlib.lines._AxLine at 0x7fc662fac130>"
      ]
     },
     "execution_count": 43,
     "metadata": {},
     "output_type": "execute_result"
    },
    {
     "data": {
      "image/png": "[encoded data removed]",
      "text/plain": [
       "<Figure size 504x504 with 1 Axes>"
      ]
     },
     "metadata": {},
     "output_type": "display_data"
    }
   ],
   "source": [
    "g = sns.relplot(data=df, x=\"overall\", y=\"value_eur\"  ,height = 7  )\n",
    "g.ax.axline(xy1=(10, 10), slope=.2, color=\"b\", dashes=(5, 2))"
   ]
  },
  {
   "cell_type": "markdown",
   "id": "67eeff14",
   "metadata": {},
   "source": [
    " As overall rating increases value increases"
   ]
  },
  {
   "cell_type": "markdown",
   "id": "b770e25d",
   "metadata": {},
   "source": [
    "### Potential "
   ]
  },
  {
   "cell_type": "code",
   "execution_count": 44,
   "id": "c4bd4c72",
   "metadata": {},
   "outputs": [
    {
     "data": {
      "text/plain": [
       "<seaborn.axisgrid.FacetGrid at 0x7fc6522ed8e0>"
      ]
     },
     "execution_count": 44,
     "metadata": {},
     "output_type": "execute_result"
    },
    {
     "data": {
      "image/png": "[encoded data removed]",
      "text/plain": [
       "<Figure size 504x504 with 1 Axes>"
      ]
     },
     "metadata": {},
     "output_type": "display_data"
    }
   ],
   "source": [
    "sns.displot(data=df, x=\"potential\",   kind=\"kde\",height = 7)"
   ]
  },
  {
   "cell_type": "markdown",
   "id": "f631b16b",
   "metadata": {},
   "source": [
    "### Potential vs Value"
   ]
  },
  {
   "cell_type": "code",
   "execution_count": 45,
   "id": "70dcc80b",
   "metadata": {},
   "outputs": [
    {
     "data": {
      "text/plain": [
       "<matplotlib.lines._AxLine at 0x7fc642008f70>"
      ]
     },
     "execution_count": 45,
     "metadata": {},
     "output_type": "execute_result"
    },
    {
     "data": {
      "image/png": "[encoded data removed]",
      "text/plain": [
       "<Figure size 504x504 with 1 Axes>"
      ]
     },
     "metadata": {},
     "output_type": "display_data"
    }
   ],
   "source": [
    "g = sns.relplot(data=df, x=\"potential\", y=\"value_eur\" ,height = 7  )\n",
    "g.ax.axline(xy1=(10, 10), slope=.2, color=\"b\", dashes=(5, 2))"
   ]
  },
  {
   "cell_type": "markdown",
   "id": "8a2d96b5",
   "metadata": {},
   "source": [
    " High potential = High Value"
   ]
  },
  {
   "cell_type": "markdown",
   "id": "512756cd",
   "metadata": {},
   "source": [
    "### WAGE"
   ]
  },
  {
   "cell_type": "code",
   "execution_count": 46,
   "id": "847d5ffa",
   "metadata": {
    "scrolled": false
   },
   "outputs": [
    {
     "data": {
      "text/plain": [
       "(0.0, 200000.0)"
      ]
     },
     "execution_count": 46,
     "metadata": {},
     "output_type": "execute_result"
    },
    {
     "data": {
      "image/png": "[encoded data removed]",
      "text/plain": [
       "<Figure size 504x504 with 1 Axes>"
      ]
     },
     "metadata": {},
     "output_type": "display_data"
    }
   ],
   "source": [
    "import matplotlib.pyplot as plt\n",
    "scatter = sns.displot(data=df, x=\"wage_eur\",   kind=\"kde\",height = 7 ,)\n",
    "plt.xlim(0, 200000)\n",
    "plt.show()"
   ]
  },
  {
   "cell_type": "code",
   "execution_count": 47,
   "id": "ead4c5d4",
   "metadata": {},
   "outputs": [
    {
     "data": {
      "text/plain": [
       "<matplotlib.lines._AxLine at 0x7fc6632c6040>"
      ]
     },
     "execution_count": 47,
     "metadata": {},
     "output_type": "execute_result"
    },
    {
     "data": {
      "image/png": "[encoded data removed]",
      "text/plain": [
       "<Figure size 432x432 with 1 Axes>"
      ]
     },
     "metadata": {},
     "output_type": "display_data"
    }
   ],
   "source": [
    "ax = sns.relplot(data=df, x=\"wage_eur\", y=\"value_eur\" ,height = 6  ,)\n",
    "g.ax.axline(xy1=(9, 7), slope=.2, color=\"b\", dashes=(5, 2))"
   ]
  },
  {
   "cell_type": "markdown",
   "id": "3e9259d1",
   "metadata": {},
   "source": [
    "Understanding from the graph value_eur directly propotional to wage."
   ]
  },
  {
   "cell_type": "markdown",
   "id": "aa800b13",
   "metadata": {},
   "source": [
    " ### International_reputation"
   ]
  },
  {
   "cell_type": "code",
   "execution_count": 48,
   "id": "fd8b53a3",
   "metadata": {},
   "outputs": [
    {
     "data": {
      "text/plain": [
       "<seaborn.axisgrid.FacetGrid at 0x7fc641e676a0>"
      ]
     },
     "execution_count": 48,
     "metadata": {},
     "output_type": "execute_result"
    },
    {
     "data": {
      "image/png": "[encoded data removed]",
      "text/plain": [
       "<Figure size 504x504 with 1 Axes>"
      ]
     },
     "metadata": {},
     "output_type": "display_data"
    }
   ],
   "source": [
    "sns.displot(data=df, x=\"international_reputation\",   kind=\"kde\",height = 7 ,)"
   ]
  },
  {
   "cell_type": "markdown",
   "id": "4d34b77c",
   "metadata": {},
   "source": [
    "### Overall VS Value of a Player VS International_reputation"
   ]
  },
  {
   "cell_type": "code",
   "execution_count": 49,
   "id": "6acd24ab",
   "metadata": {},
   "outputs": [
    {
     "name": "stderr",
     "output_type": "stream",
     "text": [
      "/Users/anjalitanikella/opt/anaconda3/lib/python3.9/site-packages/seaborn/relational.py:943: UserWarning: relplot is a figure-level function and does not accept the `ax` parameter. You may wish to try scatterplot\n",
      "  warnings.warn(msg, UserWarning)\n"
     ]
    },
    {
     "data": {
      "text/plain": [
       "<matplotlib.lines._AxLine at 0x7fc642963130>"
      ]
     },
     "execution_count": 49,
     "metadata": {},
     "output_type": "execute_result"
    },
    {
     "data": {
      "image/png": "[encoded data removed]",
      "text/plain": [
       "<Figure size 637.925x504 with 1 Axes>"
      ]
     },
     "metadata": {},
     "output_type": "display_data"
    }
   ],
   "source": [
    "ax = sns.relplot(data=df, x=\"overall\", y=\"value_eur\"  ,hue=\"international_reputation\",height = 7  ,ax=ax)\n",
    "g.ax.axline(xy1=(10, 10), slope=.2, color=\"b\", dashes=(5, 2))"
   ]
  },
  {
   "cell_type": "markdown",
   "id": "de8abf0d",
   "metadata": {
    "scrolled": true
   },
   "source": [
    " Higher International reputation with high overall means higher value of player "
   ]
  },
  {
   "cell_type": "markdown",
   "id": "21483505",
   "metadata": {},
   "source": [
    " ### Player_positions"
   ]
  },
  {
   "cell_type": "code",
   "execution_count": 50,
   "id": "b429341b",
   "metadata": {
    "scrolled": false
   },
   "outputs": [
    {
     "data": {
      "text/plain": [
       "pandas.core.frame.DataFrame"
      ]
     },
     "execution_count": 50,
     "metadata": {},
     "output_type": "execute_result"
    }
   ],
   "source": [
    "type(dt)"
   ]
  },
  {
   "cell_type": "markdown",
   "id": "00db5130",
   "metadata": {},
   "source": [
    "Available player positions - \n",
    "- Left wing(LW) \n",
    "- Goal keeper(GK) \n",
    "- striker(ST) \n",
    "- center back(CB) \n",
    "- center midfielder (CM)\n",
    "- central attacking midfielder(CAM)\n",
    "- left midfielder(LM)\n",
    "- central defensive midfielder(CDM)\n",
    "- left back(LB)\n",
    "- center forward(CF)\n",
    "- left wing back(LWB)\n",
    "- Right Wing(RW) \n",
    "- Right midfielder(RM)\n",
    "- Right Back(RB)\n",
    "- Right wing back(RWB)"
   ]
  },
  {
   "cell_type": "code",
   "execution_count": 51,
   "id": "966878d1",
   "metadata": {},
   "outputs": [
    {
     "data": {
      "text/plain": [
       "array(['LW, ST', 'RW', 'LW', 'GK', 'ST', 'CB', 'CM, CDM', 'CAM, CM, RM',\n",
       "       'LM, ST, LW, RM', 'CAM, ST', 'ST, RW, LW', 'CM, CAM, CDM',\n",
       "       'RM, RW', 'CAM, RW', 'CAM, RM, LM', 'CDM, CM', 'CAM, CM, LM', 'CM',\n",
       "       'LB', 'CM, CAM, RM, LM', 'LW, CAM', 'LB, LM', 'LB, CB, CM',\n",
       "       'LM, LW', 'CM, CDM, CAM', 'CF, LW, ST', 'CB, CDM', 'CM, CAM',\n",
       "       'LM, ST, LW', 'CF, RW, CAM, ST', 'LM, RM', 'CDM', 'CB, RB, LB',\n",
       "       'RW, LW', 'RM, RW, LM', 'CAM, RM, LM, LW', 'RM', 'CAM, CF, LM',\n",
       "       'CM, RM, LM', 'LW, CAM, LM', 'RB', 'CAM, RM', 'RW, RM, CAM',\n",
       "       'LM, CAM', 'RW, LW, CAM', 'LM', 'ST, CF, CAM', 'CAM',\n",
       "       'CDM, CB, CM', 'CAM, LM', 'RB, RWB', 'RM, LM', 'LW, RW, CAM, LM',\n",
       "       'CAM, CM, CF', 'RB, CB', 'ST, CF', 'CAM, CM', 'ST, LM', 'CF, ST',\n",
       "       'CM, LW', 'CAM, CF', 'CM, LW, RW', 'ST, RW', 'LW, RW, LM',\n",
       "       'CM, RM', 'LM, ST', 'LW, RW', 'CM, LW, CAM', 'RM, CF, LM',\n",
       "       'RW, RM, LM', 'CB, RB', 'LM, RM, ST', 'RW, RM', 'RM, ST, LM',\n",
       "       'RB, RW, CM', 'LB, LWB', 'CM, CDM, RM', 'CB, LB', 'RB, RM',\n",
       "       'CDM, CM, RB', 'CM, RW, LW', 'LM, CM, RM', 'RW, ST', 'CF, ST, CAM',\n",
       "       'LM, RM, LW', 'CF, CAM', 'CDM, CM, CAM', 'CDM, CB', 'CM, LM, CAM',\n",
       "       'RB, CM, CB, CDM', 'RW, ST, LW', 'CAM, RM, CM, RW', 'RB, CDM, CM',\n",
       "       'CM, RM, RW', 'RW, LW, RM', 'LM, LWB, LB, CM', 'LB, CB',\n",
       "       'LWB, LM, LB', 'RWB, RM', 'CB, LB, RB', 'ST, LW', 'ST, CAM',\n",
       "       'CM, CDM, RB, RM', 'LW, CF', 'CAM, LW', 'ST, RM, LM',\n",
       "       'LM, RM, CAM', 'CM, LM, RM', 'RW, CAM, LW', 'RB, LB, RM',\n",
       "       'RM, LM, RWB', 'CF, LM, RM', 'RM, LM, CM', 'ST, RM', 'LB, RB',\n",
       "       'CM, CDM, CF', 'ST, RM, RWB', 'LM, CAM, CM', 'CDM, LB',\n",
       "       'CDM, CM, CB', 'LB, CM', 'ST, RM, CAM', 'RM, LM, ST',\n",
       "       'CM, CAM, CDM, LM', 'RM, CAM, RW', 'ST, LM, CAM', 'LW, LM, CF',\n",
       "       'CAM, LM, RM', 'LM, LW, RW', 'ST, CAM, RM, RW', 'ST, RW, RM',\n",
       "       'RB, RW, RM', 'CAM, CF, LW', 'RB, LB', 'LW, LM', 'LW, RW, CAM',\n",
       "       'CAM, ST, CM', 'CAM, LW, RW', 'CAM, RM, CM', 'ST, LM, RM',\n",
       "       'RB, RWB, RM', 'RWB, RM, LM', 'CM, CAM, RW', 'LM, RM, CAM, CM',\n",
       "       'LM, CM', 'CF, CAM, ST', 'CM, CAM, LM', 'RM, ST, CAM', 'LM, RB',\n",
       "       'RM, RWB, CAM', 'RM, RW, LW, LM', 'CM, LM, CDM, CAM',\n",
       "       'CM, RM, CAM', 'CAM, CF, CM', 'ST, LW, RW', 'CDM, CAM, CM',\n",
       "       'LW, LM, RW', 'LW, CAM, RW', 'RM, CAM', 'RWB, RB', 'CAM, RM, ST',\n",
       "       'LB, CB, LWB', 'CB, RB, CDM', 'RB, LB, CB', 'CAM, CM, CDM',\n",
       "       'RW, CAM', 'RW, LW, CAM, LM', 'RM, LW, LM, RW', 'LM, CAM, RM',\n",
       "       'RM, CAM, ST, LM', 'CAM, CF, ST, LM', 'RM, ST', 'CAM, CM, LM, CDM',\n",
       "       'CM, LM', 'CM, CF', 'CF, RM, LM', 'LB, LM, CM', 'RW, CM, LW',\n",
       "       'CM, LB, LM', 'RB, CDM, CM, LB', 'LW, CM', 'RM, LM, RW',\n",
       "       'RM, CAM, CF', 'RM, LM, CAM', 'CB, CM, CDM', 'LM, LW, RM, RW',\n",
       "       'RM, RB', 'LM, CM, LW', 'LM, CM, CAM', 'CAM, CM, CDM, LM',\n",
       "       'CDM, CM, LM', 'LB, LWB, LM', 'ST, CAM, LM', 'CDM, CM, RM',\n",
       "       'CAM, LW, LM', 'CF, ST, LW, RW', 'RM, RWB, RW', 'CM, CAM, RM',\n",
       "       'LW, RW, RM', 'CAM, CDM, CM', 'RM, LM, CAM, CM', 'CB, CDM, RB',\n",
       "       'CDM, CM, CB, RB', 'LB, RB, RM', 'RM, LM, RW, LW',\n",
       "       'ST, CF, CAM, LM', 'RB, RM, CM', 'CAM, CM, ST', 'LM, ST, CAM, CF',\n",
       "       'LM, CAM, LB, CM', 'LW, ST, CAM, RW', 'LM, ST, RM', 'CM, CDM, LM',\n",
       "       'CF, RM, ST', 'LW, RM', 'RW, ST, LW, RM', 'LM, LB', 'CAM, ST, RW',\n",
       "       'LM, LW, RM', 'CAM, RW, LW', 'ST, CM, RM', 'LWB, LB', 'RM, CF',\n",
       "       'RM, RWB', 'ST, CAM, LW', 'RM, CAM, LM', 'CM, RM, CDM',\n",
       "       'ST, LW, LM', 'CAM, RM, CF', 'CM, RW, CAM, RM', 'LM, ST, CF',\n",
       "       'LM, RM, CM', 'CAM, ST, RM', 'CAM, CDM, LM', 'LM, RM, CAM, LW',\n",
       "       'CDM, CB, RB, RWB', 'RB, CM', 'ST, LM, RW', 'CDM, CAM',\n",
       "       'CM, CAM, CF', 'ST, LM, RW, LW', 'RM, LM, CAM, ST', 'RW, RM, ST',\n",
       "       'CAM, CM, LW', 'LM, LW, ST, CAM', 'LW, LM, CAM', 'RW, ST, LW, CF',\n",
       "       'CAM, ST, CM, CDM', 'LW, RB, LB, LWB', 'CAM, LM, RM, RW',\n",
       "       'CDM, CAM, RM, ST', 'CAM, CDM', 'RM, LM, CM, CAM', 'LW, ST, RW',\n",
       "       'ST, LM, CF', 'LB, RB, CB', 'LWB, LM', 'CAM, CM, LM, RM', 'RM, CM',\n",
       "       'CM, CDM, CB', 'RW, RM, CAM, LM', 'LM, CAM, LW, RW', 'RM, LM, LW',\n",
       "       'RM, CM, CAM, LM', 'CDM, CB, CAM', 'RM, LB', 'RW, CAM, LW, CM',\n",
       "       'RB, LM, LB', 'CB, LM, LB', 'LB, LW', 'LB, LM, CAM', 'CB, CDM, LB',\n",
       "       'CAM, CF, ST', 'RWB, RM, CF', 'RB, CDM, CB', 'CDM, RB, RM',\n",
       "       'LB, CB, RB', 'RB, CDM', 'CDM, RB, CM', 'LM, LW, ST', 'RM, LW',\n",
       "       'LM, CAM, RM, CM', 'ST, CAM, CF', 'RB, CB, CDM', 'RM, LM, ST, CAM',\n",
       "       'RW, CAM, LM', 'LM, CF', 'CAM, ST, LM', 'CF, ST, LM',\n",
       "       'LM, RM, CM, CAM', 'CM, CDM, LM, RM', 'CAM, LM, CM', 'CM, CDM, RB',\n",
       "       'LM, CAM, ST', 'CAM, CM, RM, LM', 'CAM, LM, LW', 'LM, LW, CAM, CF',\n",
       "       'ST, LM, LW', 'CAM, LM, ST', 'CM, CF, LM, RM', 'CF, CAM, RW, LW',\n",
       "       'LB, LM, LWB', 'CM, CAM, ST', 'LM, RM, CAM, ST', 'ST, LW, RW, LM',\n",
       "       'LB, CDM', 'CB, CM', 'RW, CF, ST', 'RM, CF, CAM, RW',\n",
       "       'RW, LW, CAM, RM', 'LM, RB, LB', 'CB, RWB, RB, CM', 'CM, LM, CDM',\n",
       "       'RM, ST, RW', 'CM, RB', 'RW, RB', 'RB, LB, RWB', 'LB, RB, LM, CM',\n",
       "       'CAM, CF, CM, LM', 'CM, RW, LM, LW', 'ST, CF, RW', 'RW, LM, CAM',\n",
       "       'CAM, RM, RB', 'LM, CF, RM, CAM', 'LM, CAM, RM, ST', 'LW, ST, LM',\n",
       "       'LM, ST, CAM', 'CAM, CF, RM, LM', 'LW, CF, RW', 'RWB, LWB, LM',\n",
       "       'CAM, ST, LM, RM', 'CAM, RM, LM, CM', 'LM, RW', 'CB, LB, LM',\n",
       "       'CM, RW', 'RB, CB, RWB', 'CM, ST, LM', 'LWB, LB, LM',\n",
       "       'ST, LM, RM, RB', 'RWB, RB, RM', 'RB, RM, RWB', 'ST, RM, LM, CF',\n",
       "       'CDM, CB, RB', 'CB, RB, RWB', 'CM, CB, CDM', 'LB, LWB, CB',\n",
       "       'CF, LM', 'CAM, RW, ST', 'LM, ST, CDM', 'CM, CDM, RW', 'LB, RM',\n",
       "       'CB, LWB', 'RB, CM, LB', 'RW, CAM, ST', 'LB, CAM, LM',\n",
       "       'RM, CM, LW, RW', 'RM, CAM, CM', 'LM, CAM, LW', 'LW, RW, LM, RM',\n",
       "       'LM, CAM, CM, RM', 'CM, LM, CAM, CDM', 'RB, RM, LB', 'LW, RM, RW',\n",
       "       'LB, LWB, LM, LW', 'RW, LW, LM', 'LW, ST, CAM', 'LM, LB, CM',\n",
       "       'CM, LB, LW, LM', 'RM, CDM', 'RW, RB, RM', 'CAM, ST, CF',\n",
       "       'ST, CAM, RM', 'RM, CM, CDM, CAM', 'RW, LM', 'RM, RW, LW',\n",
       "       'ST, CF, LW', 'RB, CB, LB', 'LB, LM, LWB, CM', 'LW, LM, CAM, RM',\n",
       "       'LM, ST, RM, CAM', 'CF, RW, LW', 'CM, CDM, LB', 'RW, RM, LW, ST',\n",
       "       'LM, RM, ST, CAM', 'RB, RM, LM', 'CAM, RW, CM', 'RM, LM, RB',\n",
       "       'CM, RB, RM', 'RW, CF', 'RM, RB, CM', 'RM, LM, ST, RB',\n",
       "       'RB, CDM, LB', 'CAM, LW, LM, CM', 'CAM, LM, RM, ST', 'LWB, LB, CB',\n",
       "       'LW, RW, ST', 'LWB, RM, CM, RWB', 'ST, LM, RM, CAM',\n",
       "       'CAM, CM, CF, CDM', 'RM, CF, LW', 'CM, CAM, LW', 'RB, CB, CM',\n",
       "       'RM, LB, LM', 'CB, CDM, CM', 'RB, CB, LB, RWB', 'CF, ST, LM, CAM',\n",
       "       'LM, CM, LB', 'RM, CM, LM', 'LM, LW, CAM', 'RW, CAM, RM',\n",
       "       'CAM, LW, RW, CM', 'RW, RM, LW', 'RM, CAM, RW, LW',\n",
       "       'RM, ST, CAM, LM', 'CDM, RB', 'LM, RM, CF', 'CAM, CM, LB',\n",
       "       'CDM, CM, LM, RM', 'RM, RW, CAM', 'CF', 'RW, ST, CAM',\n",
       "       'LM, LB, LW', 'RW, CAM, CM, LW', 'RB, LB, CDM', 'CAM, CM, RM, LB',\n",
       "       'RWB, RB, LB', 'RM, LM, CM, CDM', 'RW, RM, ST, LW', 'LW, RM, ST',\n",
       "       'RW, CAM, CF', 'CB, ST', 'CM, CB, CAM', 'LB, CDM, LM',\n",
       "       'LM, CAM, CF', 'RM, CF, CAM', 'CAM, ST, CM, CF', 'LW, LB, CAM',\n",
       "       'CM, RM, RB', 'LM, LB, RM', 'LW, LM, CM', 'CM, LB, CDM',\n",
       "       'LB, LWB, LM, CB', 'LWB, RWB', 'LW, RW, CM', 'RW, LW, ST',\n",
       "       'CM, RB, CAM, CDM', 'RWB, LB, RM', 'LM, CAM, CM, CDM', 'CAM, RB',\n",
       "       'RW, LM, CAM, ST', 'RM, RW, CAM, LW', 'LM, RM, CF, ST',\n",
       "       'CM, LM, CAM, RM', 'CAM, LW, CM, ST', 'RW, ST, CF, RM',\n",
       "       'LB, LWB, RB', 'RB, RWB, LB', 'CAM, LW, ST', 'CF, RM, ST, LM',\n",
       "       'CAM, RM, LM, RW', 'RM, CM, CAM', 'LWB, LB, LW',\n",
       "       'LM, RM, CAM, RWB', 'ST, RW, CF', 'LM, RW, RM', 'LB, CM, RW, LW',\n",
       "       'RW, RM, CF', 'CAM, RM, ST, LM', 'CAM, ST, RB', 'LM, CM, CAM, ST',\n",
       "       'LB, LM, CDM', 'CB, LB, CDM', 'LWB, LM, RM', 'LM, LWB, LB',\n",
       "       'RM, CAM, LM, CM', 'CM, RM, CDM, LM', 'RW, RM, RWB', 'RM, CAM, ST',\n",
       "       'RB, LB, CM', 'CM, LM, LB, CAM', 'CAM, CDM, CM, RM', 'RM, LM, LB',\n",
       "       'CDM, RB, CB', 'CAM, LM, CM, ST', 'LW, LM, LB', 'ST, RM, LM, CAM',\n",
       "       'RM, RB, LM', 'LM, CAM, CDM, CM', 'ST, LW, CAM', 'LM, CAM, RWB',\n",
       "       'LB, CAM', 'ST, CM', 'CAM, CM, RW', 'CM, CB', 'CM, CAM, RWB',\n",
       "       'LW, LM, ST', 'LM, LW, LB', 'LM, RM, LW, ST', 'ST, CAM, RW',\n",
       "       'LM, CAM, RM, RB', 'RW, ST, RM', 'ST, RW, RM, CAM',\n",
       "       'CDM, RB, CB, CM', 'CB, RWB, LWB', 'LM, LW, CM', 'RWB, RM, RB',\n",
       "       'LB, CB, LM', 'RB, RWB, CB', 'LM, RM, CM, ST', 'LB, RM, LM',\n",
       "       'CAM, LM, CDM', 'CAM, RM, CF, LM', 'CDM, LM, CAM, CM',\n",
       "       'CDM, RM, CM', 'CAM, LW, RW, CF', 'LM, LWB', 'RM, CDM, RB',\n",
       "       'CM, LB', 'CAM, CF, LM, RM', 'LW, LB', 'RM, CM, ST', 'LB, LM, RM',\n",
       "       'RM, LM, CM, LWB', 'CDM, CM, RM, LM', 'CDM, CM, LB', 'ST, RB',\n",
       "       'RM, ST, LW, LM', 'RM, ST, RW, LW', 'RW, RM, LM, CAM',\n",
       "       'LW, RW, CAM, ST', 'CDM, RB, LB', 'ST, RW, CAM', 'LWB, RB',\n",
       "       'CM, RM, CDM, RW', 'LM, CAM, LW, RM', 'RB, RW', 'ST, CM, CAM',\n",
       "       'CAM, RM, LM, ST', 'CM, CAM, RB', 'CM, CDM, LM, CAM',\n",
       "       'LWB, CAM, CM', 'LB, CDM, CM', 'CM, CDM, CAM, LM', 'CM, RWB, LM',\n",
       "       'RM, LM, CF', 'LWB', 'RM, CAM, CM, LM', 'RM, RW, LM, ST',\n",
       "       'CAM, CF, RM', 'CM, RM, LM, CDM', 'CM, ST, CAM',\n",
       "       'LWB, LB, RWB, RB', 'RB, CM, RWB', 'RM, RW, RB', 'LM, RM, LWB',\n",
       "       'LM, LWB, LB, RM', 'CAM, CF, RW, LW', 'CM, RW, CAM', 'LM, RM, LB',\n",
       "       'LW, LM, RM', 'LW, RW, ST, CAM', 'RM, CAM, RW, RWB',\n",
       "       'CAM, RB, LM, CM', 'RM, CF, LM, ST', 'RM, LM, CDM', 'RW, CM, ST',\n",
       "       'RM, CM, CDM', 'CAM, ST, RM, LM', 'LB, CAM, LW',\n",
       "       'LM, CAM, CDM, RM', 'CM, RB, CDM', 'LB, RB, RM, LM',\n",
       "       'CDM, CAM, LM', 'CB, RWB', 'CM, CDM, CAM, RM', 'ST, CF, RM',\n",
       "       'RWB, LWB, LM, RM', 'RM, LB, RB', 'ST, LM, CAM, RM', 'RM, RW, ST',\n",
       "       'RWB', 'ST, RM, RW', 'RW, CM, LM', 'ST, CAM, RW, LM',\n",
       "       'LB, CB, CDM', 'RB, CDM, CM, CB', 'CAM, RW, LM, ST',\n",
       "       'LM, CAM, CM, LWB', 'CB, RB, RM, CM', 'ST, RW, LW, LM',\n",
       "       'CF, CM, CAM', 'RW, CAM, LW, ST', 'RB, LB, RWB, RM',\n",
       "       'CF, LW, ST, CAM', 'CM, LM, RM, CAM', 'LW, CAM, RW, CM',\n",
       "       'ST, RW, CF, RM', 'ST, CAM, CM', 'CAM, RW, ST, LW', 'CDM, RWB',\n",
       "       'LM, ST, LB', 'ST, CF, RW, LW', 'RWB, RB, CB', 'CM, RWB',\n",
       "       'CDM, CM, RB, RM', 'RB, RM, CAM', 'RM, RWB, RB', 'RW, RM, CM',\n",
       "       'RB, CM, RM', 'ST, CF, LM', 'CAM, ST, CDM', 'CDM, RM',\n",
       "       'LB, RB, LM', 'RB, LB, RWB, LWB', 'CB, CAM', 'RB, RWB, CDM',\n",
       "       'CM, RB, CDM, CAM', 'LM, LW, RW, RM', 'CAM, LM, CF', 'LW, CAM, ST',\n",
       "       'RM, RB, LM, CAM', 'RWB, RM, CM', 'RB, RWB, RM, RW', 'LM, RM, CDM',\n",
       "       'LM, CM, CDM', 'RB, LB, RM, LM', 'CAM, CDM, CM, CB', 'CF, RW, CAM',\n",
       "       'CAM, RM, CM, LM', 'LW, CF, CAM, CM', 'RM, LM, ST, CM',\n",
       "       'RM, RWB, ST', 'CM, RM, LM, CAM', 'CB, RM, CDM', 'CM, LM, ST',\n",
       "       'CAM, RM, CM, ST', 'RWB, RW, LW', 'CDM, LM, LB', 'CAM, CM, CF, ST',\n",
       "       'LM, RM, LB, CAM', 'LM, ST, CAM, RM', 'CDM, CB, LB',\n",
       "       'RM, RB, CDM, CM', 'RW, RM, CF, ST', 'LM, CAM, CDM', 'RW, LW, CF',\n",
       "       'RB, CB, RM, RW', 'CAM, LM, CM, RM', 'CDM, LM', 'RM, RB, RW',\n",
       "       'CM, CDM, RM, LM', 'RW, LW, CAM, ST', 'CDM, CM, LM, CAM',\n",
       "       'CDM, RM, CAM, LM', 'RW, LW, RM, LM', 'CAM, RM, CM, RB',\n",
       "       'RWB, RB, RM, CM', 'LM, ST, CF, RM', 'ST, CF, LM, RW',\n",
       "       'CM, LWB, RB, CDM', 'CM, CB, RB', 'CDM, LM, CM, CAM',\n",
       "       'RB, LB, RM, CDM', 'RM, RW, LM, CAM', 'CDM, CM, RB, CB',\n",
       "       'CB, CDM, LB, RB', 'ST, RW, LM', 'RB, CB, RM', 'RW, LM, ST',\n",
       "       'CM, RM, LM, ST', 'CDM, CAM, RM', 'RB, LB, RM, CM', 'LB, LM, LW',\n",
       "       'ST, CAM, LM, RM', 'RW, ST, CAM, RM', 'LB, LM, ST',\n",
       "       'CM, CAM, CDM, RM', 'CDM, CB, LM', 'CF, RM', 'RB, RM, LB, LM',\n",
       "       'LM, RM, LWB, RWB', 'CB, RB, CM', 'CM, RM, CAM, CDM', 'ST, RM, RB',\n",
       "       'RWB, RB, CDM, CM', 'RB, LB, ST', 'CDM, RM, LM, CAM',\n",
       "       'CDM, LB, RB', 'CM, LM, LB', 'LM, LW, LB, CM', 'RB, LB, CDM, CB',\n",
       "       'LW, LM, CAM, ST', 'CM, ST', 'RB, CM, CDM', 'ST, RM, LW',\n",
       "       'RB, RM, CDM', 'RB, CDM, CB, LB', 'ST, LM, RM, RW', 'ST, RM, CF',\n",
       "       'RB, CM, RM, LM', 'RW, CF, LW, ST', 'LM, RM, ST, CM', 'CF, ST, RW',\n",
       "       'LM, CM, RW', 'CB, RM', 'RM, LW, CM', 'LWB, CDM', 'LM, RM, CB',\n",
       "       'ST, LM, LWB', 'CM, LM, CDM, RM', 'CM, CB, LM', 'ST, LM, RM, CM',\n",
       "       'LB, LM, RB, RM', 'CB, RWB, CDM', 'LW, CF, CAM', 'LW, LM, CAM, RW',\n",
       "       'RB, LM', 'LB, LM, RM, RB', 'CM, LM, LW, RW', 'LM, CDM',\n",
       "       'CM, RB, LB', 'LM, ST, CAM, CM', 'LB, LM, CB, LWB', 'LM, RB, RM',\n",
       "       'CM, LM, RM, RB', 'ST, CB', 'LB, CM, LM', 'LW, RW, ST, LM',\n",
       "       'CAM, LW, RM', 'LM, ST, LB, LWB', 'CDM, CB, CM, RB',\n",
       "       'LM, RM, CM, CB', 'CAM, CF, ST, RW', 'CAM, LW, CF', 'CAM, LWB',\n",
       "       'LW, CAM, CM', 'LW, RW, CF', 'RM, CM, CF', 'LM, RM, RB',\n",
       "       'LWB, LW, RWB', 'LB, RM, CM', 'RM, RB, LB', 'ST, LM, LB',\n",
       "       'CF, CAM, LW', 'ST, LW, RM', 'CDM, CB, CM, LB', 'LB, LW, LM',\n",
       "       'CB, LB, ST', 'LB, RW', 'RB, LWB', 'LW, CM, RW', 'RB, RM, CB',\n",
       "       'CM, RM, LW', 'RB, RWB, LWB', 'LM, CB', 'CB, LB, LWB',\n",
       "       'ST, RM, RW, LW', 'RW, LW, ST, LM', 'CB, CM, LM', 'CF, RW',\n",
       "       'RWB, RB, LB, LWB', 'RWB, CDM', 'ST, RW, RB', 'ST, RM, LB',\n",
       "       'RB, CAM, CM', 'LW, LB, RW', 'ST, RW, LW, CAM', 'RB, RM, ST',\n",
       "       'CM, ST, RW', 'RB, CAM', 'RM, LM, LW, RW', 'ST, RM, CAM, LW',\n",
       "       'LM, RM, ST, RB', 'ST, CF, CAM, RW', 'LB, CDM, CM, LM',\n",
       "       'CAM, ST, CM, RM', 'LM, RM, CM, LW', 'LB, ST', 'CF, LWB, RW',\n",
       "       'CM, CAM, LM, CDM', 'CDM, LB, CB', 'CM, LM, CDM, LB',\n",
       "       'CDM, RM, LM', 'CAM, LB', 'RB, CDM, CB, RM', 'ST, CDM',\n",
       "       'CDM, CAM, LM, RM', 'RW, CF, LW', 'LM, LW, LB, CAM', 'LB, CDM, RB',\n",
       "       'CM, CF, CAM', 'CDM, CM, CB, CAM', 'CM, LM, RM, ST',\n",
       "       'RW, CAM, ST, LW', 'RB, LM, RM', 'RW, RB, LB'], dtype=object)"
      ]
     },
     "execution_count": 51,
     "metadata": {},
     "output_type": "execute_result"
    }
   ],
   "source": [
    "dt['player_positions'].unique()"
   ]
  },
  {
   "cell_type": "markdown",
   "id": "fc5ad051",
   "metadata": {},
   "source": [
    "Filtering only the main positions of players ."
   ]
  },
  {
   "cell_type": "code",
   "execution_count": 52,
   "id": "3927beee",
   "metadata": {
    "scrolled": true
   },
   "outputs": [
    {
     "name": "stderr",
     "output_type": "stream",
     "text": [
      "/var/folders/nt/76p0d40x0rv0pj8lyhkrpr5r0000gn/T/ipykernel_79204/1916931881.py:2: SettingWithCopyWarning: \n",
      "A value is trying to be set on a copy of a slice from a DataFrame\n",
      "\n",
      "See the caveats in the documentation: https://pandas.pydata.org/pandas-docs/stable/user_guide/indexing.html#returning-a-view-versus-a-copy\n",
      "  dt['player_positions'][i] = dt.player_positions[i].split(',',1)[0]\n"
     ]
    }
   ],
   "source": [
    "for i in range(len(dt.index)): #Taking best position only, not considering multiple positions\n",
    "     dt['player_positions'][i] = dt.player_positions[i].split(',',1)[0]"
   ]
  },
  {
   "cell_type": "code",
   "execution_count": 53,
   "id": "a0d0d237",
   "metadata": {},
   "outputs": [
    {
     "data": {
      "text/plain": [
       "array(['LW', 'RW', 'GK', 'ST', 'CB', 'CM', 'CAM', 'LM', 'RM', 'CDM', 'LB',\n",
       "       'CF', 'RB', 'LWB', 'RWB'], dtype=object)"
      ]
     },
     "execution_count": 53,
     "metadata": {},
     "output_type": "execute_result"
    }
   ],
   "source": [
    "dt['player_positions'].unique()"
   ]
  },
  {
   "cell_type": "markdown",
   "id": "3dda987d",
   "metadata": {},
   "source": [
    "Right and left position won't contribute to the value so converting it into one."
   ]
  },
  {
   "cell_type": "code",
   "execution_count": 54,
   "id": "781464f2",
   "metadata": {
    "scrolled": true
   },
   "outputs": [
    {
     "name": "stderr",
     "output_type": "stream",
     "text": [
      "/var/folders/nt/76p0d40x0rv0pj8lyhkrpr5r0000gn/T/ipykernel_79204/887874012.py:11: SettingWithCopyWarning: \n",
      "A value is trying to be set on a copy of a slice from a DataFrame\n",
      "\n",
      "See the caveats in the documentation: https://pandas.pydata.org/pandas-docs/stable/user_guide/indexing.html#returning-a-view-versus-a-copy\n",
      "  dt['player_positions'][i] = 'LW'\n",
      "/var/folders/nt/76p0d40x0rv0pj8lyhkrpr5r0000gn/T/ipykernel_79204/887874012.py:7: SettingWithCopyWarning: \n",
      "A value is trying to be set on a copy of a slice from a DataFrame\n",
      "\n",
      "See the caveats in the documentation: https://pandas.pydata.org/pandas-docs/stable/user_guide/indexing.html#returning-a-view-versus-a-copy\n",
      "  dt['player_positions'][i] = 'LM'\n",
      "/var/folders/nt/76p0d40x0rv0pj8lyhkrpr5r0000gn/T/ipykernel_79204/887874012.py:4: SettingWithCopyWarning: \n",
      "A value is trying to be set on a copy of a slice from a DataFrame\n",
      "\n",
      "See the caveats in the documentation: https://pandas.pydata.org/pandas-docs/stable/user_guide/indexing.html#returning-a-view-versus-a-copy\n",
      "  dt['player_positions'][i] = 'LB'\n"
     ]
    }
   ],
   "source": [
    "for i in range (len(dt.index)):\n",
    "          \n",
    "          if dt['player_positions'][i] == 'LB' or dt['player_positions'][i] == 'RB' or dt['player_positions'][i] == 'LWB' or dt['player_positions'][i] == 'RWB':\n",
    "            dt['player_positions'][i] = 'LB'\n",
    "          \n",
    "          if dt['player_positions'][i] == 'RM' or dt['player_positions'][i] == 'LM':\n",
    "            dt['player_positions'][i] = 'LM'\n",
    "          \n",
    "        \n",
    "          if dt['player_positions'][i] == 'LW' or dt['player_positions'][i] == 'RW':\n",
    "            dt['player_positions'][i] = 'LW'\n",
    "        "
   ]
  },
  {
   "cell_type": "code",
   "execution_count": 55,
   "id": "2f47f9a8",
   "metadata": {
    "scrolled": false
   },
   "outputs": [
    {
     "data": {
      "text/plain": [
       "array(['LW', 'GK', 'ST', 'CB', 'CM', 'CAM', 'LM', 'CDM', 'LB', 'CF'],\n",
       "      dtype=object)"
      ]
     },
     "execution_count": 55,
     "metadata": {},
     "output_type": "execute_result"
    }
   ],
   "source": [
    "dt['player_positions'].unique()"
   ]
  },
  {
   "cell_type": "markdown",
   "id": "aedeeac2",
   "metadata": {},
   "source": [
    "Eventually coverting into 'Attacker', 'GK', 'Defender ', 'MID' . "
   ]
  },
  {
   "cell_type": "code",
   "execution_count": 56,
   "id": "cdaf1731",
   "metadata": {},
   "outputs": [
    {
     "name": "stderr",
     "output_type": "stream",
     "text": [
      "/var/folders/nt/76p0d40x0rv0pj8lyhkrpr5r0000gn/T/ipykernel_79204/1719299461.py:3: SettingWithCopyWarning: \n",
      "A value is trying to be set on a copy of a slice from a DataFrame\n",
      "\n",
      "See the caveats in the documentation: https://pandas.pydata.org/pandas-docs/stable/user_guide/indexing.html#returning-a-view-versus-a-copy\n",
      "  dt['player_positions'][i] = 'Attacker'\n",
      "/var/folders/nt/76p0d40x0rv0pj8lyhkrpr5r0000gn/T/ipykernel_79204/1719299461.py:7: SettingWithCopyWarning: \n",
      "A value is trying to be set on a copy of a slice from a DataFrame\n",
      "\n",
      "See the caveats in the documentation: https://pandas.pydata.org/pandas-docs/stable/user_guide/indexing.html#returning-a-view-versus-a-copy\n",
      "  dt['player_positions'][i] = 'Defender '\n",
      "/var/folders/nt/76p0d40x0rv0pj8lyhkrpr5r0000gn/T/ipykernel_79204/1719299461.py:5: SettingWithCopyWarning: \n",
      "A value is trying to be set on a copy of a slice from a DataFrame\n",
      "\n",
      "See the caveats in the documentation: https://pandas.pydata.org/pandas-docs/stable/user_guide/indexing.html#returning-a-view-versus-a-copy\n",
      "  dt['player_positions'][i] = 'MID'\n"
     ]
    }
   ],
   "source": [
    "for i in range (len(dt.index)):\n",
    "    if dt['player_positions'][i] == 'LW' or dt['player_positions'][i] == 'ST' or dt['player_positions'][i] == 'CAM' or dt['player_positions'][i] == 'CF':\n",
    "        dt['player_positions'][i] = 'Attacker'\n",
    "    if dt['player_positions'][i] == 'CM' or dt['player_positions'][i] == 'LM' or dt['player_positions'][i] == 'CDM':\n",
    "        dt['player_positions'][i] = 'MID'   \n",
    "    if dt['player_positions'][i] == 'CB' or dt['player_positions'][i] == 'LB' :\n",
    "        dt['player_positions'][i] = 'Defender '   "
   ]
  },
  {
   "cell_type": "code",
   "execution_count": 57,
   "id": "df769307",
   "metadata": {
    "scrolled": true
   },
   "outputs": [
    {
     "data": {
      "text/plain": [
       "array(['Attacker', 'GK', 'Defender ', 'MID'], dtype=object)"
      ]
     },
     "execution_count": 57,
     "metadata": {},
     "output_type": "execute_result"
    }
   ],
   "source": [
    "dt['player_positions'].unique()"
   ]
  },
  {
   "cell_type": "code",
   "execution_count": 58,
   "id": "3a5191b0",
   "metadata": {},
   "outputs": [
    {
     "data": {
      "text/plain": [
       "<BarContainer object of 17592 artists>"
      ]
     },
     "execution_count": 58,
     "metadata": {},
     "output_type": "execute_result"
    },
    {
     "data": {
      "image/png": "[encoded data removed]",
      "text/plain": [
       "<Figure size 720x576 with 1 Axes>"
      ]
     },
     "metadata": {},
     "output_type": "display_data"
    }
   ],
   "source": [
    "plt.bar(dt.player_positions, dt.value_eur, color = (0.5,0.1,0.5,0.6))\n",
    "plt.show()"
   ]
  },
  {
   "cell_type": "markdown",
   "id": "510a9cb0",
   "metadata": {},
   "source": [
    "As we can see Attackers are values higher comapred to other positions ."
   ]
  },
  {
   "cell_type": "code",
   "execution_count": 59,
   "id": "1ad4142e",
   "metadata": {},
   "outputs": [],
   "source": [
    "dt['contract_valid_until'] = dt['contract_valid_until'].replace('' ,np.nan)\n",
    "dt['release_clause_eur'] = dt['release_clause_eur'].replace('' ,np.nan)\n",
    "dt['player_positions'] = dt['player_positions'].replace('' ,np.nan)"
   ]
  },
  {
   "cell_type": "markdown",
   "id": "5867785d",
   "metadata": {},
   "source": [
    "### Contract Valid"
   ]
  },
  {
   "cell_type": "code",
   "execution_count": 60,
   "id": "0dc4c601",
   "metadata": {},
   "outputs": [
    {
     "name": "stdout",
     "output_type": "stream",
     "text": [
      "<class 'pandas.core.frame.DataFrame'>\n",
      "RangeIndex: 17592 entries, 0 to 17591\n",
      "Data columns (total 12 columns):\n",
      " #   Column                    Non-Null Count  Dtype  \n",
      "---  ------                    --------------  -----  \n",
      " 0   sofifa_id                 17592 non-null  int64  \n",
      " 1   age                       17592 non-null  int64  \n",
      " 2   overall                   17592 non-null  int64  \n",
      " 3   potential                 17592 non-null  int64  \n",
      " 4   value_eur                 17592 non-null  int64  \n",
      " 5   wage_eur                  17592 non-null  int64  \n",
      " 6   player_positions          17592 non-null  object \n",
      " 7   international_reputation  17592 non-null  int64  \n",
      " 8   weak_foot                 17592 non-null  int64  \n",
      " 9   skill_moves               17592 non-null  int64  \n",
      " 10  release_clause_eur        16114 non-null  float64\n",
      " 11  contract_valid_until      17356 non-null  float64\n",
      "dtypes: float64(2), int64(9), object(1)\n",
      "memory usage: 1.6+ MB\n"
     ]
    }
   ],
   "source": [
    "dt.info()"
   ]
  },
  {
   "cell_type": "code",
   "execution_count": 61,
   "id": "4e4105a3",
   "metadata": {
    "scrolled": true
   },
   "outputs": [
    {
     "data": {
      "text/plain": [
       "array([2021., 2018., 2022., 2019., 2020.,   nan, 2017., 2026., 2023.])"
      ]
     },
     "execution_count": 61,
     "metadata": {},
     "output_type": "execute_result"
    }
   ],
   "source": [
    "dt.contract_valid_until.unique()"
   ]
  },
  {
   "cell_type": "code",
   "execution_count": 62,
   "id": "5328d513",
   "metadata": {},
   "outputs": [
    {
     "data": {
      "text/plain": [
       "<matplotlib.lines._AxLine at 0x7fc6642c8f70>"
      ]
     },
     "execution_count": 62,
     "metadata": {},
     "output_type": "execute_result"
    },
    {
     "data": {
      "image/png": "[encoded data removed]",
      "text/plain": [
       "<Figure size 504x504 with 1 Axes>"
      ]
     },
     "metadata": {},
     "output_type": "display_data"
    }
   ],
   "source": [
    "ax = sns.relplot(data=dt, x=\"contract_valid_until\", y=\"value_eur\" ,height = 7  ,)\n",
    "g.ax.axline(xy1=(9, 7), slope=.2, color=\"b\", dashes=(5, 2))"
   ]
  },
  {
   "cell_type": "markdown",
   "id": "1321587b",
   "metadata": {},
   "source": [
    "Contracts with less than 1 year have low value ."
   ]
  },
  {
   "cell_type": "markdown",
   "id": "ce2580b8",
   "metadata": {},
   "source": [
    "### Skill moves "
   ]
  },
  {
   "cell_type": "code",
   "execution_count": 63,
   "id": "c47330f5",
   "metadata": {
    "scrolled": false
   },
   "outputs": [
    {
     "data": {
      "text/plain": [
       "<matplotlib.lines._AxLine at 0x7fc6642cdd60>"
      ]
     },
     "execution_count": 63,
     "metadata": {},
     "output_type": "execute_result"
    },
    {
     "data": {
      "image/png": "[encoded data removed]",
      "text/plain": [
       "<Figure size 504x504 with 1 Axes>"
      ]
     },
     "metadata": {},
     "output_type": "display_data"
    }
   ],
   "source": [
    "ax = sns.relplot(data=dt, x=\"skill_moves\", y=\"value_eur\" ,height = 7  ,)\n",
    "g.ax.axline(xy1=(9, 7), slope=.2, color=\"b\", dashes=(5, 2))"
   ]
  },
  {
   "cell_type": "markdown",
   "id": "84cdc284",
   "metadata": {},
   "source": [
    "High value players have High skill moves value."
   ]
  },
  {
   "cell_type": "markdown",
   "id": "d5e1f014",
   "metadata": {},
   "source": [
    "## 4) PreProcessing Data "
   ]
  },
  {
   "cell_type": "markdown",
   "id": "964faaad",
   "metadata": {},
   "source": [
    "Replacing na values "
   ]
  },
  {
   "cell_type": "code",
   "execution_count": 64,
   "id": "c5a9e672",
   "metadata": {
    "scrolled": true
   },
   "outputs": [],
   "source": [
    "dats = dt.replace(np.nan, 0)"
   ]
  },
  {
   "cell_type": "code",
   "execution_count": 65,
   "id": "f8563a59",
   "metadata": {},
   "outputs": [
    {
     "name": "stdout",
     "output_type": "stream",
     "text": [
      "<class 'pandas.core.frame.DataFrame'>\n",
      "RangeIndex: 17592 entries, 0 to 17591\n",
      "Data columns (total 12 columns):\n",
      " #   Column                    Non-Null Count  Dtype  \n",
      "---  ------                    --------------  -----  \n",
      " 0   sofifa_id                 17592 non-null  int64  \n",
      " 1   age                       17592 non-null  int64  \n",
      " 2   overall                   17592 non-null  int64  \n",
      " 3   potential                 17592 non-null  int64  \n",
      " 4   value_eur                 17592 non-null  int64  \n",
      " 5   wage_eur                  17592 non-null  int64  \n",
      " 6   player_positions          17592 non-null  object \n",
      " 7   international_reputation  17592 non-null  int64  \n",
      " 8   weak_foot                 17592 non-null  int64  \n",
      " 9   skill_moves               17592 non-null  int64  \n",
      " 10  release_clause_eur        17592 non-null  float64\n",
      " 11  contract_valid_until      17592 non-null  float64\n",
      "dtypes: float64(2), int64(9), object(1)\n",
      "memory usage: 1.6+ MB\n"
     ]
    }
   ],
   "source": [
    "dats.info()"
   ]
  },
  {
   "cell_type": "code",
   "execution_count": 66,
   "id": "a2860df6",
   "metadata": {},
   "outputs": [
    {
     "data": {
      "text/plain": [
       "sofifa_id                     int64\n",
       "age                           int64\n",
       "overall                       int64\n",
       "potential                     int64\n",
       "value_eur                     int64\n",
       "wage_eur                      int64\n",
       "player_positions             object\n",
       "international_reputation      int64\n",
       "weak_foot                     int64\n",
       "skill_moves                   int64\n",
       "release_clause_eur          float64\n",
       "contract_valid_until        float64\n",
       "dtype: object"
      ]
     },
     "execution_count": 66,
     "metadata": {},
     "output_type": "execute_result"
    }
   ],
   "source": [
    "dats.dtypes"
   ]
  },
  {
   "cell_type": "markdown",
   "id": "735d4f6e",
   "metadata": {},
   "source": [
    "Converting Player position using one hot encoding method "
   ]
  },
  {
   "cell_type": "code",
   "execution_count": 67,
   "id": "77e46c5c",
   "metadata": {},
   "outputs": [],
   "source": [
    "dats = pd.get_dummies(dats, columns = ['player_positions'])"
   ]
  },
  {
   "cell_type": "code",
   "execution_count": 68,
   "id": "071056b8",
   "metadata": {},
   "outputs": [
    {
     "data": {
      "text/plain": [
       "(17592, 15)"
      ]
     },
     "execution_count": 68,
     "metadata": {},
     "output_type": "execute_result"
    }
   ],
   "source": [
    "dats.shape"
   ]
  },
  {
   "cell_type": "code",
   "execution_count": 69,
   "id": "32fbdca6",
   "metadata": {
    "scrolled": true
   },
   "outputs": [
    {
     "data": {
      "text/html": [
       "<div>\n",
       "<style scoped>\n",
       "    .dataframe tbody tr th:only-of-type {\n",
       "        vertical-align: middle;\n",
       "    }\n",
       "\n",
       "    .dataframe tbody tr th {\n",
       "        vertical-align: top;\n",
       "    }\n",
       "\n",
       "    .dataframe thead th {\n",
       "        text-align: right;\n",
       "    }\n",
       "</style>\n",
       "<table border=\"1\" class=\"dataframe\">\n",
       "  <thead>\n",
       "    <tr style=\"text-align: right;\">\n",
       "      <th></th>\n",
       "      <th>sofifa_id</th>\n",
       "      <th>age</th>\n",
       "      <th>overall</th>\n",
       "      <th>potential</th>\n",
       "      <th>value_eur</th>\n",
       "      <th>wage_eur</th>\n",
       "      <th>international_reputation</th>\n",
       "      <th>weak_foot</th>\n",
       "      <th>skill_moves</th>\n",
       "      <th>release_clause_eur</th>\n",
       "      <th>contract_valid_until</th>\n",
       "      <th>player_positions_Attacker</th>\n",
       "      <th>player_positions_Defender</th>\n",
       "      <th>player_positions_GK</th>\n",
       "      <th>player_positions_MID</th>\n",
       "    </tr>\n",
       "  </thead>\n",
       "  <tbody>\n",
       "    <tr>\n",
       "      <th>0</th>\n",
       "      <td>20801</td>\n",
       "      <td>32</td>\n",
       "      <td>94</td>\n",
       "      <td>94</td>\n",
       "      <td>95500000</td>\n",
       "      <td>565000</td>\n",
       "      <td>5</td>\n",
       "      <td>4</td>\n",
       "      <td>5</td>\n",
       "      <td>195800000.0</td>\n",
       "      <td>2021.0</td>\n",
       "      <td>1</td>\n",
       "      <td>0</td>\n",
       "      <td>0</td>\n",
       "      <td>0</td>\n",
       "    </tr>\n",
       "    <tr>\n",
       "      <th>1</th>\n",
       "      <td>158023</td>\n",
       "      <td>30</td>\n",
       "      <td>93</td>\n",
       "      <td>93</td>\n",
       "      <td>105000000</td>\n",
       "      <td>565000</td>\n",
       "      <td>5</td>\n",
       "      <td>4</td>\n",
       "      <td>4</td>\n",
       "      <td>215300000.0</td>\n",
       "      <td>2018.0</td>\n",
       "      <td>1</td>\n",
       "      <td>0</td>\n",
       "      <td>0</td>\n",
       "      <td>0</td>\n",
       "    </tr>\n",
       "    <tr>\n",
       "      <th>2</th>\n",
       "      <td>190871</td>\n",
       "      <td>25</td>\n",
       "      <td>92</td>\n",
       "      <td>94</td>\n",
       "      <td>123000000</td>\n",
       "      <td>280000</td>\n",
       "      <td>5</td>\n",
       "      <td>5</td>\n",
       "      <td>5</td>\n",
       "      <td>236800000.0</td>\n",
       "      <td>2022.0</td>\n",
       "      <td>1</td>\n",
       "      <td>0</td>\n",
       "      <td>0</td>\n",
       "      <td>0</td>\n",
       "    </tr>\n",
       "    <tr>\n",
       "      <th>3</th>\n",
       "      <td>167495</td>\n",
       "      <td>31</td>\n",
       "      <td>92</td>\n",
       "      <td>92</td>\n",
       "      <td>61000000</td>\n",
       "      <td>230000</td>\n",
       "      <td>5</td>\n",
       "      <td>4</td>\n",
       "      <td>1</td>\n",
       "      <td>100700000.0</td>\n",
       "      <td>2021.0</td>\n",
       "      <td>0</td>\n",
       "      <td>0</td>\n",
       "      <td>1</td>\n",
       "      <td>0</td>\n",
       "    </tr>\n",
       "    <tr>\n",
       "      <th>4</th>\n",
       "      <td>176580</td>\n",
       "      <td>30</td>\n",
       "      <td>92</td>\n",
       "      <td>92</td>\n",
       "      <td>97000000</td>\n",
       "      <td>510000</td>\n",
       "      <td>5</td>\n",
       "      <td>4</td>\n",
       "      <td>4</td>\n",
       "      <td>198900000.0</td>\n",
       "      <td>2021.0</td>\n",
       "      <td>1</td>\n",
       "      <td>0</td>\n",
       "      <td>0</td>\n",
       "      <td>0</td>\n",
       "    </tr>\n",
       "  </tbody>\n",
       "</table>\n",
       "</div>"
      ],
      "text/plain": [
       "   sofifa_id  age  overall  potential  value_eur  wage_eur  \\\n",
       "0      20801   32       94         94   95500000    565000   \n",
       "1     158023   30       93         93  105000000    565000   \n",
       "2     190871   25       92         94  123000000    280000   \n",
       "3     167495   31       92         92   61000000    230000   \n",
       "4     176580   30       92         92   97000000    510000   \n",
       "\n",
       "   international_reputation  weak_foot  skill_moves  release_clause_eur  \\\n",
       "0                         5          4            5         195800000.0   \n",
       "1                         5          4            4         215300000.0   \n",
       "2                         5          5            5         236800000.0   \n",
       "3                         5          4            1         100700000.0   \n",
       "4                         5          4            4         198900000.0   \n",
       "\n",
       "   contract_valid_until  player_positions_Attacker  \\\n",
       "0                2021.0                          1   \n",
       "1                2018.0                          1   \n",
       "2                2022.0                          1   \n",
       "3                2021.0                          0   \n",
       "4                2021.0                          1   \n",
       "\n",
       "   player_positions_Defender   player_positions_GK  player_positions_MID  \n",
       "0                           0                    0                     0  \n",
       "1                           0                    0                     0  \n",
       "2                           0                    0                     0  \n",
       "3                           0                    1                     0  \n",
       "4                           0                    0                     0  "
      ]
     },
     "execution_count": 69,
     "metadata": {},
     "output_type": "execute_result"
    }
   ],
   "source": [
    "dats.head()"
   ]
  },
  {
   "cell_type": "markdown",
   "id": "d205f525",
   "metadata": {},
   "source": [
    "## 5) Scaling and dividing data into test and training "
   ]
  },
  {
   "cell_type": "code",
   "execution_count": 70,
   "id": "437828b0",
   "metadata": {},
   "outputs": [],
   "source": [
    "y = dats['value_eur']\n",
    "dats.drop('value_eur' , axis=1 , inplace = True)"
   ]
  },
  {
   "cell_type": "code",
   "execution_count": 71,
   "id": "c8b4b1e9",
   "metadata": {},
   "outputs": [],
   "source": [
    "X_train, X_test, y_train, y_test = train_test_split(dats, y, test_size=0.2 , random_state=43)"
   ]
  },
  {
   "cell_type": "code",
   "execution_count": 72,
   "id": "8acfbca3",
   "metadata": {
    "scrolled": true
   },
   "outputs": [
    {
     "data": {
      "text/plain": [
       "array([[0.95953961, 0.06451613, 0.16666667, ..., 1.        , 0.        ,\n",
       "        0.        ],\n",
       "       [0.96847631, 0.25806452, 0.45833333, ..., 1.        , 0.        ,\n",
       "        0.        ],\n",
       "       [0.96656012, 0.09677419, 0.16666667, ..., 0.        , 0.        ,\n",
       "        1.        ],\n",
       "       ...,\n",
       "       [0.59774047, 0.74193548, 0.5       , ..., 0.        , 1.        ,\n",
       "        0.        ],\n",
       "       [0.96696747, 0.29032258, 0.4375    , ..., 1.        , 0.        ,\n",
       "        0.        ],\n",
       "       [0.98679031, 0.09677419, 0.29166667, ..., 0.        , 0.        ,\n",
       "        0.        ]])"
      ]
     },
     "execution_count": 72,
     "metadata": {},
     "output_type": "execute_result"
    }
   ],
   "source": [
    "min_max_scaler = preprocessing.MinMaxScaler()\n",
    "X_train_minmax = min_max_scaler.fit_transform(X_train)\n",
    "X_train_minmax"
   ]
  },
  {
   "cell_type": "code",
   "execution_count": 73,
   "id": "7fb63e08",
   "metadata": {
    "scrolled": true
   },
   "outputs": [
    {
     "data": {
      "text/plain": [
       "array([[0.87500675, 0.16129032, 0.60416667, ..., 0.        , 1.        ,\n",
       "        0.        ],\n",
       "       [0.91766183, 0.12903226, 0.625     , ..., 0.        , 0.        ,\n",
       "        1.        ],\n",
       "       [0.96121888, 0.12903226, 0.35416667, ..., 0.        , 0.        ,\n",
       "        1.        ],\n",
       "       ...,\n",
       "       [0.97557164, 0.19354839, 0.375     , ..., 0.        , 0.        ,\n",
       "        0.        ],\n",
       "       [0.82761731, 0.38709677, 0.45833333, ..., 0.        , 0.        ,\n",
       "        0.        ],\n",
       "       [0.652325  , 0.4516129 , 0.52083333, ..., 0.        , 0.        ,\n",
       "        1.        ]])"
      ]
     },
     "execution_count": 73,
     "metadata": {},
     "output_type": "execute_result"
    }
   ],
   "source": [
    "X_test_minmax = min_max_scaler.transform(X_test)\n",
    "X_test_minmax"
   ]
  },
  {
   "cell_type": "markdown",
   "id": "94bdb6e7",
   "metadata": {},
   "source": [
    "## 6) Applying Regression models "
   ]
  },
  {
   "cell_type": "markdown",
   "id": "354e8d33",
   "metadata": {},
   "source": [
    "### Linear Regression Model "
   ]
  },
  {
   "cell_type": "code",
   "execution_count": 74,
   "id": "100b0458",
   "metadata": {},
   "outputs": [
    {
     "data": {
      "text/html": [
       "<style>#sk-container-id-1 {color: black;background-color: white;}#sk-container-id-1 pre{padding: 0;}#sk-container-id-1 div.sk-toggleable {background-color: white;}#sk-container-id-1 label.sk-toggleable__label {cursor: pointer;display: block;width: 100%;margin-bottom: 0;padding: 0.3em;box-sizing: border-box;text-align: center;}#sk-container-id-1 label.sk-toggleable__label-arrow:before {content: \"▸\";float: left;margin-right: 0.25em;color: #696969;}#sk-container-id-1 label.sk-toggleable__label-arrow:hover:before {color: black;}#sk-container-id-1 div.sk-estimator:hover label.sk-toggleable__label-arrow:before {color: black;}#sk-container-id-1 div.sk-toggleable__content {max-height: 0;max-width: 0;overflow: hidden;text-align: left;background-color: #f0f8ff;}#sk-container-id-1 div.sk-toggleable__content pre {margin: 0.2em;color: black;border-radius: 0.25em;background-color: #f0f8ff;}#sk-container-id-1 input.sk-toggleable__control:checked~div.sk-toggleable__content {max-height: 200px;max-width: 100%;overflow: auto;}#sk-container-id-1 input.sk-toggleable__control:checked~label.sk-toggleable__label-arrow:before {content: \"▾\";}#sk-container-id-1 div.sk-estimator input.sk-toggleable__control:checked~label.sk-toggleable__label {background-color: #d4ebff;}#sk-container-id-1 div.sk-label input.sk-toggleable__control:checked~label.sk-toggleable__label {background-color: #d4ebff;}#sk-container-id-1 input.sk-hidden--visually {border: 0;clip: rect(1px 1px 1px 1px);clip: rect(1px, 1px, 1px, 1px);height: 1px;margin: -1px;overflow: hidden;padding: 0;position: absolute;width: 1px;}#sk-container-id-1 div.sk-estimator {font-family: monospace;background-color: #f0f8ff;border: 1px dotted black;border-radius: 0.25em;box-sizing: border-box;margin-bottom: 0.5em;}#sk-container-id-1 div.sk-estimator:hover {background-color: #d4ebff;}#sk-container-id-1 div.sk-parallel-item::after {content: \"\";width: 100%;border-bottom: 1px solid gray;flex-grow: 1;}#sk-container-id-1 div.sk-label:hover label.sk-toggleable__label {background-color: #d4ebff;}#sk-container-id-1 div.sk-serial::before {content: \"\";position: absolute;border-left: 1px solid gray;box-sizing: border-box;top: 0;bottom: 0;left: 50%;z-index: 0;}#sk-container-id-1 div.sk-serial {display: flex;flex-direction: column;align-items: center;background-color: white;padding-right: 0.2em;padding-left: 0.2em;position: relative;}#sk-container-id-1 div.sk-item {position: relative;z-index: 1;}#sk-container-id-1 div.sk-parallel {display: flex;align-items: stretch;justify-content: center;background-color: white;position: relative;}#sk-container-id-1 div.sk-item::before, #sk-container-id-1 div.sk-parallel-item::before {content: \"\";position: absolute;border-left: 1px solid gray;box-sizing: border-box;top: 0;bottom: 0;left: 50%;z-index: -1;}#sk-container-id-1 div.sk-parallel-item {display: flex;flex-direction: column;z-index: 1;position: relative;background-color: white;}#sk-container-id-1 div.sk-parallel-item:first-child::after {align-self: flex-end;width: 50%;}#sk-container-id-1 div.sk-parallel-item:last-child::after {align-self: flex-start;width: 50%;}#sk-container-id-1 div.sk-parallel-item:only-child::after {width: 0;}#sk-container-id-1 div.sk-dashed-wrapped {border: 1px dashed gray;margin: 0 0.4em 0.5em 0.4em;box-sizing: border-box;padding-bottom: 0.4em;background-color: white;}#sk-container-id-1 div.sk-label label {font-family: monospace;font-weight: bold;display: inline-block;line-height: 1.2em;}#sk-container-id-1 div.sk-label-container {text-align: center;}#sk-container-id-1 div.sk-container {/* jupyter's `normalize.less` sets `[hidden] { display: none; }` but bootstrap.min.css set `[hidden] { display: none !important; }` so we also need the `!important` here to be able to override the default hidden behavior on the sphinx rendered scikit-learn.org. See: https://github.com/scikit-learn/scikit-learn/issues/21755 */display: inline-block !important;position: relative;}#sk-container-id-1 div.sk-text-repr-fallback {display: none;}</style><div id=\"sk-container-id-1\" class=\"sk-top-container\"><div class=\"sk-text-repr-fallback\"><pre>LinearRegression()</pre><b>In a Jupyter environment, please rerun this cell to show the HTML representation or trust the notebook. <br />On GitHub, the HTML representation is unable to render, please try loading this page with nbviewer.org.</b></div><div class=\"sk-container\" hidden><div class=\"sk-item\"><div class=\"sk-estimator sk-toggleable\"><input class=\"sk-toggleable__control sk-hidden--visually\" id=\"sk-estimator-id-1\" type=\"checkbox\" checked><label for=\"sk-estimator-id-1\" class=\"sk-toggleable__label sk-toggleable__label-arrow\">LinearRegression</label><div class=\"sk-toggleable__content\"><pre>LinearRegression()</pre></div></div></div></div></div>"
      ],
      "text/plain": [
       "LinearRegression()"
      ]
     },
     "execution_count": 74,
     "metadata": {},
     "output_type": "execute_result"
    }
   ],
   "source": [
    "regressor=LinearRegression()\n",
    "regressor.fit(X_train_minmax,y_train)"
   ]
  },
  {
   "cell_type": "code",
   "execution_count": 75,
   "id": "edd26b2f",
   "metadata": {},
   "outputs": [],
   "source": [
    "y_pred=regressor.predict(X_test_minmax)"
   ]
  },
  {
   "cell_type": "code",
   "execution_count": 76,
   "id": "7dda7d69",
   "metadata": {},
   "outputs": [
    {
     "name": "stdout",
     "output_type": "stream",
     "text": [
      "[  0.78668246   0.42930958  -1.21244119  -2.6226859  -71.6086473 ]\n",
      "Mean 5-Fold R Squared: -14.84555647165852\n"
     ]
    }
   ],
   "source": [
    "SQR_linearreg = np.sqrt(metrics.mean_squared_error(y_test, y_pred))\n",
    "R2_linearreg = r2_score(y_test, y_pred)\n",
    "cv_r2_scores_lr = cross_val_score(regressor, dats, y, cv=5,scoring='r2')\n",
    "print(cv_r2_scores_lr)\n",
    "print(\"Mean 5-Fold R Squared: {}\".format(np.mean(cv_r2_scores_lr)))"
   ]
  },
  {
   "cell_type": "code",
   "execution_count": 77,
   "id": "fa352b42",
   "metadata": {},
   "outputs": [
    {
     "data": {
      "text/plain": [
       "<Figure size 720x720 with 0 Axes>"
      ]
     },
     "execution_count": 77,
     "metadata": {},
     "output_type": "execute_result"
    },
    {
     "data": {
      "text/plain": [
       "<matplotlib.collections.PathCollection at 0x7fc6114086d0>"
      ]
     },
     "execution_count": 77,
     "metadata": {},
     "output_type": "execute_result"
    },
    {
     "data": {
      "text/plain": [
       "[<matplotlib.lines.Line2D at 0x7fc664aea940>]"
      ]
     },
     "execution_count": 77,
     "metadata": {},
     "output_type": "execute_result"
    },
    {
     "data": {
      "text/plain": [
       "Text(0.5, 1.0, 'linear_regression prediction model')"
      ]
     },
     "execution_count": 77,
     "metadata": {},
     "output_type": "execute_result"
    },
    {
     "data": {
      "text/plain": [
       "Text(0.5, 0, 'True Values')"
      ]
     },
     "execution_count": 77,
     "metadata": {},
     "output_type": "execute_result"
    },
    {
     "data": {
      "text/plain": [
       "Text(0, 0.5, 'Predictions')"
      ]
     },
     "execution_count": 77,
     "metadata": {},
     "output_type": "execute_result"
    },
    {
     "data": {
      "text/plain": [
       "(6244.601721267029, 196970127.94443434, 2446.147775007494, 205959756.4576643)"
      ]
     },
     "execution_count": 77,
     "metadata": {},
     "output_type": "execute_result"
    },
    {
     "data": {
      "image/png": "[encoded data removed]",
      "text/plain": [
       "<Figure size 720x720 with 1 Axes>"
      ]
     },
     "metadata": {},
     "output_type": "display_data"
    }
   ],
   "source": [
    "plt.figure(figsize=(10,10))\n",
    "plt.scatter(y_test, y_pred, c='crimson')\n",
    "plt.yscale('log')\n",
    "plt.xscale('log')\n",
    "\n",
    "p1 = max(max(y_pred), max(y_test))\n",
    "p2 = min(min(y_pred), min(y_test))\n",
    "plt.plot([p1, p2], [p1, p2], 'b-')\n",
    "plt.title('linear_regression prediction model')\n",
    "plt.xlabel('True Values', fontsize=15)\n",
    "plt.ylabel('Predictions', fontsize=15)\n",
    "plt.axis('equal')\n",
    "plt.show()"
   ]
  },
  {
   "cell_type": "markdown",
   "id": "764ff1ec",
   "metadata": {},
   "source": [
    "### KNeighborsClassifier"
   ]
  },
  {
   "cell_type": "code",
   "execution_count": 78,
   "id": "0fb5b67d",
   "metadata": {},
   "outputs": [
    {
     "data": {
      "text/html": [
       "<style>#sk-container-id-2 {color: black;background-color: white;}#sk-container-id-2 pre{padding: 0;}#sk-container-id-2 div.sk-toggleable {background-color: white;}#sk-container-id-2 label.sk-toggleable__label {cursor: pointer;display: block;width: 100%;margin-bottom: 0;padding: 0.3em;box-sizing: border-box;text-align: center;}#sk-container-id-2 label.sk-toggleable__label-arrow:before {content: \"▸\";float: left;margin-right: 0.25em;color: #696969;}#sk-container-id-2 label.sk-toggleable__label-arrow:hover:before {color: black;}#sk-container-id-2 div.sk-estimator:hover label.sk-toggleable__label-arrow:before {color: black;}#sk-container-id-2 div.sk-toggleable__content {max-height: 0;max-width: 0;overflow: hidden;text-align: left;background-color: #f0f8ff;}#sk-container-id-2 div.sk-toggleable__content pre {margin: 0.2em;color: black;border-radius: 0.25em;background-color: #f0f8ff;}#sk-container-id-2 input.sk-toggleable__control:checked~div.sk-toggleable__content {max-height: 200px;max-width: 100%;overflow: auto;}#sk-container-id-2 input.sk-toggleable__control:checked~label.sk-toggleable__label-arrow:before {content: \"▾\";}#sk-container-id-2 div.sk-estimator input.sk-toggleable__control:checked~label.sk-toggleable__label {background-color: #d4ebff;}#sk-container-id-2 div.sk-label input.sk-toggleable__control:checked~label.sk-toggleable__label {background-color: #d4ebff;}#sk-container-id-2 input.sk-hidden--visually {border: 0;clip: rect(1px 1px 1px 1px);clip: rect(1px, 1px, 1px, 1px);height: 1px;margin: -1px;overflow: hidden;padding: 0;position: absolute;width: 1px;}#sk-container-id-2 div.sk-estimator {font-family: monospace;background-color: #f0f8ff;border: 1px dotted black;border-radius: 0.25em;box-sizing: border-box;margin-bottom: 0.5em;}#sk-container-id-2 div.sk-estimator:hover {background-color: #d4ebff;}#sk-container-id-2 div.sk-parallel-item::after {content: \"\";width: 100%;border-bottom: 1px solid gray;flex-grow: 1;}#sk-container-id-2 div.sk-label:hover label.sk-toggleable__label {background-color: #d4ebff;}#sk-container-id-2 div.sk-serial::before {content: \"\";position: absolute;border-left: 1px solid gray;box-sizing: border-box;top: 0;bottom: 0;left: 50%;z-index: 0;}#sk-container-id-2 div.sk-serial {display: flex;flex-direction: column;align-items: center;background-color: white;padding-right: 0.2em;padding-left: 0.2em;position: relative;}#sk-container-id-2 div.sk-item {position: relative;z-index: 1;}#sk-container-id-2 div.sk-parallel {display: flex;align-items: stretch;justify-content: center;background-color: white;position: relative;}#sk-container-id-2 div.sk-item::before, #sk-container-id-2 div.sk-parallel-item::before {content: \"\";position: absolute;border-left: 1px solid gray;box-sizing: border-box;top: 0;bottom: 0;left: 50%;z-index: -1;}#sk-container-id-2 div.sk-parallel-item {display: flex;flex-direction: column;z-index: 1;position: relative;background-color: white;}#sk-container-id-2 div.sk-parallel-item:first-child::after {align-self: flex-end;width: 50%;}#sk-container-id-2 div.sk-parallel-item:last-child::after {align-self: flex-start;width: 50%;}#sk-container-id-2 div.sk-parallel-item:only-child::after {width: 0;}#sk-container-id-2 div.sk-dashed-wrapped {border: 1px dashed gray;margin: 0 0.4em 0.5em 0.4em;box-sizing: border-box;padding-bottom: 0.4em;background-color: white;}#sk-container-id-2 div.sk-label label {font-family: monospace;font-weight: bold;display: inline-block;line-height: 1.2em;}#sk-container-id-2 div.sk-label-container {text-align: center;}#sk-container-id-2 div.sk-container {/* jupyter's `normalize.less` sets `[hidden] { display: none; }` but bootstrap.min.css set `[hidden] { display: none !important; }` so we also need the `!important` here to be able to override the default hidden behavior on the sphinx rendered scikit-learn.org. See: https://github.com/scikit-learn/scikit-learn/issues/21755 */display: inline-block !important;position: relative;}#sk-container-id-2 div.sk-text-repr-fallback {display: none;}</style><div id=\"sk-container-id-2\" class=\"sk-top-container\"><div class=\"sk-text-repr-fallback\"><pre>KNeighborsClassifier()</pre><b>In a Jupyter environment, please rerun this cell to show the HTML representation or trust the notebook. <br />On GitHub, the HTML representation is unable to render, please try loading this page with nbviewer.org.</b></div><div class=\"sk-container\" hidden><div class=\"sk-item\"><div class=\"sk-estimator sk-toggleable\"><input class=\"sk-toggleable__control sk-hidden--visually\" id=\"sk-estimator-id-2\" type=\"checkbox\" checked><label for=\"sk-estimator-id-2\" class=\"sk-toggleable__label sk-toggleable__label-arrow\">KNeighborsClassifier</label><div class=\"sk-toggleable__content\"><pre>KNeighborsClassifier()</pre></div></div></div></div></div>"
      ],
      "text/plain": [
       "KNeighborsClassifier()"
      ]
     },
     "execution_count": 78,
     "metadata": {},
     "output_type": "execute_result"
    }
   ],
   "source": [
    "model = KNeighborsClassifier()\n",
    "model.fit(X_train_minmax, y_train)"
   ]
  },
  {
   "cell_type": "code",
   "execution_count": 79,
   "id": "ff536211",
   "metadata": {},
   "outputs": [],
   "source": [
    "actual_y, predict_y = list(), list()\n",
    "y_predict = model.predict(X_test_minmax)\n",
    "actual_y.extend(y_test)\n",
    "predict_y.extend(y_predict)"
   ]
  },
  {
   "cell_type": "code",
   "execution_count": 80,
   "id": "c0bc7e9a",
   "metadata": {},
   "outputs": [
    {
     "name": "stderr",
     "output_type": "stream",
     "text": [
      "/Users/anjalitanikella/opt/anaconda3/lib/python3.9/site-packages/sklearn/model_selection/_split.py:676: UserWarning: The least populated class in y has only 1 members, which is less than n_splits=5.\n",
      "  warnings.warn(\n"
     ]
    },
    {
     "name": "stdout",
     "output_type": "stream",
     "text": [
      "[0.94930165 0.94221201 0.95210545 0.94080084 0.93106474]\n",
      "Mean 5-Fold R Squared: 0.9430969382149506\n"
     ]
    }
   ],
   "source": [
    "SQR_KF = np.sqrt(metrics.mean_squared_error(actual_y, predict_y))\n",
    "R2_KF = r2_score(actual_y, predict_y)\n",
    "cv_r2_scores_kf = cross_val_score(model, dats, y, cv=5,scoring='r2')\n",
    "print(cv_r2_scores_kf)\n",
    "print(\"Mean 5-Fold R Squared: {}\".format(np.mean(cv_r2_scores_kf)))"
   ]
  },
  {
   "cell_type": "code",
   "execution_count": 81,
   "id": "79712cd6",
   "metadata": {},
   "outputs": [
    {
     "data": {
      "text/plain": [
       "<Figure size 720x720 with 0 Axes>"
      ]
     },
     "execution_count": 81,
     "metadata": {},
     "output_type": "execute_result"
    },
    {
     "data": {
      "text/plain": [
       "<matplotlib.collections.PathCollection at 0x7fc664aeafa0>"
      ]
     },
     "execution_count": 81,
     "metadata": {},
     "output_type": "execute_result"
    },
    {
     "data": {
      "text/plain": [
       "[<matplotlib.lines.Line2D at 0x7fc654a5a850>]"
      ]
     },
     "execution_count": 81,
     "metadata": {},
     "output_type": "execute_result"
    },
    {
     "data": {
      "text/plain": [
       "Text(0.5, 1.0, 'kfold prediction model')"
      ]
     },
     "execution_count": 81,
     "metadata": {},
     "output_type": "execute_result"
    },
    {
     "data": {
      "text/plain": [
       "Text(0.5, 0, 'True Values')"
      ]
     },
     "execution_count": 81,
     "metadata": {},
     "output_type": "execute_result"
    },
    {
     "data": {
      "text/plain": [
       "Text(0, 0.5, 'Predictions')"
      ]
     },
     "execution_count": 81,
     "metadata": {},
     "output_type": "execute_result"
    },
    {
     "data": {
      "text/plain": [
       "(6244.601721267029, 196970127.94443434, 6244.601721267029, 196970127.94443434)"
      ]
     },
     "execution_count": 81,
     "metadata": {},
     "output_type": "execute_result"
    },
    {
     "data": {
      "image/png": "[encoded data removed]",
      "text/plain": [
       "<Figure size 720x720 with 1 Axes>"
      ]
     },
     "metadata": {},
     "output_type": "display_data"
    }
   ],
   "source": [
    "plt.figure(figsize=(10,10))\n",
    "plt.scatter(actual_y, predict_y, c='crimson')\n",
    "plt.yscale('log')\n",
    "plt.xscale('log')\n",
    "\n",
    "p1 = max(max(predict_y), max(actual_y))\n",
    "p2 = min(min(predict_y), min(actual_y))\n",
    "plt.plot([p1, p2], [p1, p2], 'b-')\n",
    "plt.title('kfold prediction model')\n",
    "plt.xlabel('True Values', fontsize=15)\n",
    "plt.ylabel('Predictions', fontsize=15)\n",
    "plt.axis('equal')\n",
    "plt.show()"
   ]
  },
  {
   "cell_type": "markdown",
   "id": "6e830315",
   "metadata": {},
   "source": [
    "### SVC - C-Support Vector Classification."
   ]
  },
  {
   "cell_type": "code",
   "execution_count": 82,
   "id": "c7a789e0",
   "metadata": {
    "scrolled": true
   },
   "outputs": [
    {
     "data": {
      "text/html": [
       "<style>#sk-container-id-3 {color: black;background-color: white;}#sk-container-id-3 pre{padding: 0;}#sk-container-id-3 div.sk-toggleable {background-color: white;}#sk-container-id-3 label.sk-toggleable__label {cursor: pointer;display: block;width: 100%;margin-bottom: 0;padding: 0.3em;box-sizing: border-box;text-align: center;}#sk-container-id-3 label.sk-toggleable__label-arrow:before {content: \"▸\";float: left;margin-right: 0.25em;color: #696969;}#sk-container-id-3 label.sk-toggleable__label-arrow:hover:before {color: black;}#sk-container-id-3 div.sk-estimator:hover label.sk-toggleable__label-arrow:before {color: black;}#sk-container-id-3 div.sk-toggleable__content {max-height: 0;max-width: 0;overflow: hidden;text-align: left;background-color: #f0f8ff;}#sk-container-id-3 div.sk-toggleable__content pre {margin: 0.2em;color: black;border-radius: 0.25em;background-color: #f0f8ff;}#sk-container-id-3 input.sk-toggleable__control:checked~div.sk-toggleable__content {max-height: 200px;max-width: 100%;overflow: auto;}#sk-container-id-3 input.sk-toggleable__control:checked~label.sk-toggleable__label-arrow:before {content: \"▾\";}#sk-container-id-3 div.sk-estimator input.sk-toggleable__control:checked~label.sk-toggleable__label {background-color: #d4ebff;}#sk-container-id-3 div.sk-label input.sk-toggleable__control:checked~label.sk-toggleable__label {background-color: #d4ebff;}#sk-container-id-3 input.sk-hidden--visually {border: 0;clip: rect(1px 1px 1px 1px);clip: rect(1px, 1px, 1px, 1px);height: 1px;margin: -1px;overflow: hidden;padding: 0;position: absolute;width: 1px;}#sk-container-id-3 div.sk-estimator {font-family: monospace;background-color: #f0f8ff;border: 1px dotted black;border-radius: 0.25em;box-sizing: border-box;margin-bottom: 0.5em;}#sk-container-id-3 div.sk-estimator:hover {background-color: #d4ebff;}#sk-container-id-3 div.sk-parallel-item::after {content: \"\";width: 100%;border-bottom: 1px solid gray;flex-grow: 1;}#sk-container-id-3 div.sk-label:hover label.sk-toggleable__label {background-color: #d4ebff;}#sk-container-id-3 div.sk-serial::before {content: \"\";position: absolute;border-left: 1px solid gray;box-sizing: border-box;top: 0;bottom: 0;left: 50%;z-index: 0;}#sk-container-id-3 div.sk-serial {display: flex;flex-direction: column;align-items: center;background-color: white;padding-right: 0.2em;padding-left: 0.2em;position: relative;}#sk-container-id-3 div.sk-item {position: relative;z-index: 1;}#sk-container-id-3 div.sk-parallel {display: flex;align-items: stretch;justify-content: center;background-color: white;position: relative;}#sk-container-id-3 div.sk-item::before, #sk-container-id-3 div.sk-parallel-item::before {content: \"\";position: absolute;border-left: 1px solid gray;box-sizing: border-box;top: 0;bottom: 0;left: 50%;z-index: -1;}#sk-container-id-3 div.sk-parallel-item {display: flex;flex-direction: column;z-index: 1;position: relative;background-color: white;}#sk-container-id-3 div.sk-parallel-item:first-child::after {align-self: flex-end;width: 50%;}#sk-container-id-3 div.sk-parallel-item:last-child::after {align-self: flex-start;width: 50%;}#sk-container-id-3 div.sk-parallel-item:only-child::after {width: 0;}#sk-container-id-3 div.sk-dashed-wrapped {border: 1px dashed gray;margin: 0 0.4em 0.5em 0.4em;box-sizing: border-box;padding-bottom: 0.4em;background-color: white;}#sk-container-id-3 div.sk-label label {font-family: monospace;font-weight: bold;display: inline-block;line-height: 1.2em;}#sk-container-id-3 div.sk-label-container {text-align: center;}#sk-container-id-3 div.sk-container {/* jupyter's `normalize.less` sets `[hidden] { display: none; }` but bootstrap.min.css set `[hidden] { display: none !important; }` so we also need the `!important` here to be able to override the default hidden behavior on the sphinx rendered scikit-learn.org. See: https://github.com/scikit-learn/scikit-learn/issues/21755 */display: inline-block !important;position: relative;}#sk-container-id-3 div.sk-text-repr-fallback {display: none;}</style><div id=\"sk-container-id-3\" class=\"sk-top-container\"><div class=\"sk-text-repr-fallback\"><pre>SVC(kernel=&#x27;linear&#x27;, random_state=0)</pre><b>In a Jupyter environment, please rerun this cell to show the HTML representation or trust the notebook. <br />On GitHub, the HTML representation is unable to render, please try loading this page with nbviewer.org.</b></div><div class=\"sk-container\" hidden><div class=\"sk-item\"><div class=\"sk-estimator sk-toggleable\"><input class=\"sk-toggleable__control sk-hidden--visually\" id=\"sk-estimator-id-3\" type=\"checkbox\" checked><label for=\"sk-estimator-id-3\" class=\"sk-toggleable__label sk-toggleable__label-arrow\">SVC</label><div class=\"sk-toggleable__content\"><pre>SVC(kernel=&#x27;linear&#x27;, random_state=0)</pre></div></div></div></div></div>"
      ],
      "text/plain": [
       "SVC(kernel='linear', random_state=0)"
      ]
     },
     "execution_count": 82,
     "metadata": {},
     "output_type": "execute_result"
    }
   ],
   "source": [
    "from sklearn.svm import SVC\n",
    "classifier = SVC(kernel = 'linear', random_state = 0)\n",
    "classifier.fit(X_train_minmax, y_train)\n",
    "Y_pred2 = classifier.predict(X_test_minmax)"
   ]
  },
  {
   "cell_type": "code",
   "execution_count": 83,
   "id": "3702f45b",
   "metadata": {
    "scrolled": true
   },
   "outputs": [],
   "source": [
    "SQT_SVC = np.sqrt(metrics.mean_squared_error(y_test, Y_pred2))\n",
    "R2_SVC = r2_score(y_test, Y_pred2)"
   ]
  },
  {
   "cell_type": "code",
   "execution_count": 84,
   "id": "6b24842e",
   "metadata": {},
   "outputs": [
    {
     "data": {
      "text/plain": [
       "<Figure size 720x720 with 0 Axes>"
      ]
     },
     "execution_count": 84,
     "metadata": {},
     "output_type": "execute_result"
    },
    {
     "data": {
      "text/plain": [
       "<matplotlib.collections.PathCollection at 0x7fc6367d61c0>"
      ]
     },
     "execution_count": 84,
     "metadata": {},
     "output_type": "execute_result"
    },
    {
     "data": {
      "text/plain": [
       "[<matplotlib.lines.Line2D at 0x7fc646d3efd0>]"
      ]
     },
     "execution_count": 84,
     "metadata": {},
     "output_type": "execute_result"
    },
    {
     "data": {
      "text/plain": [
       "Text(0.5, 1.0, 'SVC prediction model')"
      ]
     },
     "execution_count": 84,
     "metadata": {},
     "output_type": "execute_result"
    },
    {
     "data": {
      "text/plain": [
       "Text(0.5, 0, 'True Values')"
      ]
     },
     "execution_count": 84,
     "metadata": {},
     "output_type": "execute_result"
    },
    {
     "data": {
      "text/plain": [
       "Text(0, 0.5, 'Predictions')"
      ]
     },
     "execution_count": 84,
     "metadata": {},
     "output_type": "execute_result"
    },
    {
     "data": {
      "text/plain": [
       "(6244.601721267029, 196970127.94443434, 6244.601721267029, 196970127.94443434)"
      ]
     },
     "execution_count": 84,
     "metadata": {},
     "output_type": "execute_result"
    },
    {
     "data": {
      "image/png": "[encoded data removed]",
      "text/plain": [
       "<Figure size 720x720 with 1 Axes>"
      ]
     },
     "metadata": {},
     "output_type": "display_data"
    }
   ],
   "source": [
    "plt.figure(figsize=(10,10))\n",
    "plt.scatter(y_test, Y_pred2, c='crimson')\n",
    "plt.yscale('log')\n",
    "plt.xscale('log')\n",
    "\n",
    "p1 = max(max(Y_pred2), max(y_test))\n",
    "p2 = min(min(Y_pred2), min(y_test))\n",
    "\n",
    "plt.plot([p1, p2], [p1, p2], 'b-')\n",
    "plt.title('SVC prediction model')\n",
    "plt.xlabel('True Values', fontsize=15)\n",
    "plt.ylabel('Predictions', fontsize=15)\n",
    "plt.axis('equal')\n",
    "plt.show()"
   ]
  },
  {
   "cell_type": "markdown",
   "id": "2c98702b",
   "metadata": {},
   "source": [
    " ### Random Forest"
   ]
  },
  {
   "cell_type": "code",
   "execution_count": 85,
   "id": "91dcb111",
   "metadata": {},
   "outputs": [
    {
     "data": {
      "text/html": [
       "<style>#sk-container-id-4 {color: black;background-color: white;}#sk-container-id-4 pre{padding: 0;}#sk-container-id-4 div.sk-toggleable {background-color: white;}#sk-container-id-4 label.sk-toggleable__label {cursor: pointer;display: block;width: 100%;margin-bottom: 0;padding: 0.3em;box-sizing: border-box;text-align: center;}#sk-container-id-4 label.sk-toggleable__label-arrow:before {content: \"▸\";float: left;margin-right: 0.25em;color: #696969;}#sk-container-id-4 label.sk-toggleable__label-arrow:hover:before {color: black;}#sk-container-id-4 div.sk-estimator:hover label.sk-toggleable__label-arrow:before {color: black;}#sk-container-id-4 div.sk-toggleable__content {max-height: 0;max-width: 0;overflow: hidden;text-align: left;background-color: #f0f8ff;}#sk-container-id-4 div.sk-toggleable__content pre {margin: 0.2em;color: black;border-radius: 0.25em;background-color: #f0f8ff;}#sk-container-id-4 input.sk-toggleable__control:checked~div.sk-toggleable__content {max-height: 200px;max-width: 100%;overflow: auto;}#sk-container-id-4 input.sk-toggleable__control:checked~label.sk-toggleable__label-arrow:before {content: \"▾\";}#sk-container-id-4 div.sk-estimator input.sk-toggleable__control:checked~label.sk-toggleable__label {background-color: #d4ebff;}#sk-container-id-4 div.sk-label input.sk-toggleable__control:checked~label.sk-toggleable__label {background-color: #d4ebff;}#sk-container-id-4 input.sk-hidden--visually {border: 0;clip: rect(1px 1px 1px 1px);clip: rect(1px, 1px, 1px, 1px);height: 1px;margin: -1px;overflow: hidden;padding: 0;position: absolute;width: 1px;}#sk-container-id-4 div.sk-estimator {font-family: monospace;background-color: #f0f8ff;border: 1px dotted black;border-radius: 0.25em;box-sizing: border-box;margin-bottom: 0.5em;}#sk-container-id-4 div.sk-estimator:hover {background-color: #d4ebff;}#sk-container-id-4 div.sk-parallel-item::after {content: \"\";width: 100%;border-bottom: 1px solid gray;flex-grow: 1;}#sk-container-id-4 div.sk-label:hover label.sk-toggleable__label {background-color: #d4ebff;}#sk-container-id-4 div.sk-serial::before {content: \"\";position: absolute;border-left: 1px solid gray;box-sizing: border-box;top: 0;bottom: 0;left: 50%;z-index: 0;}#sk-container-id-4 div.sk-serial {display: flex;flex-direction: column;align-items: center;background-color: white;padding-right: 0.2em;padding-left: 0.2em;position: relative;}#sk-container-id-4 div.sk-item {position: relative;z-index: 1;}#sk-container-id-4 div.sk-parallel {display: flex;align-items: stretch;justify-content: center;background-color: white;position: relative;}#sk-container-id-4 div.sk-item::before, #sk-container-id-4 div.sk-parallel-item::before {content: \"\";position: absolute;border-left: 1px solid gray;box-sizing: border-box;top: 0;bottom: 0;left: 50%;z-index: -1;}#sk-container-id-4 div.sk-parallel-item {display: flex;flex-direction: column;z-index: 1;position: relative;background-color: white;}#sk-container-id-4 div.sk-parallel-item:first-child::after {align-self: flex-end;width: 50%;}#sk-container-id-4 div.sk-parallel-item:last-child::after {align-self: flex-start;width: 50%;}#sk-container-id-4 div.sk-parallel-item:only-child::after {width: 0;}#sk-container-id-4 div.sk-dashed-wrapped {border: 1px dashed gray;margin: 0 0.4em 0.5em 0.4em;box-sizing: border-box;padding-bottom: 0.4em;background-color: white;}#sk-container-id-4 div.sk-label label {font-family: monospace;font-weight: bold;display: inline-block;line-height: 1.2em;}#sk-container-id-4 div.sk-label-container {text-align: center;}#sk-container-id-4 div.sk-container {/* jupyter's `normalize.less` sets `[hidden] { display: none; }` but bootstrap.min.css set `[hidden] { display: none !important; }` so we also need the `!important` here to be able to override the default hidden behavior on the sphinx rendered scikit-learn.org. See: https://github.com/scikit-learn/scikit-learn/issues/21755 */display: inline-block !important;position: relative;}#sk-container-id-4 div.sk-text-repr-fallback {display: none;}</style><div id=\"sk-container-id-4\" class=\"sk-top-container\"><div class=\"sk-text-repr-fallback\"><pre>RandomForestClassifier(criterion=&#x27;entropy&#x27;, n_estimators=10, random_state=0)</pre><b>In a Jupyter environment, please rerun this cell to show the HTML representation or trust the notebook. <br />On GitHub, the HTML representation is unable to render, please try loading this page with nbviewer.org.</b></div><div class=\"sk-container\" hidden><div class=\"sk-item\"><div class=\"sk-estimator sk-toggleable\"><input class=\"sk-toggleable__control sk-hidden--visually\" id=\"sk-estimator-id-4\" type=\"checkbox\" checked><label for=\"sk-estimator-id-4\" class=\"sk-toggleable__label sk-toggleable__label-arrow\">RandomForestClassifier</label><div class=\"sk-toggleable__content\"><pre>RandomForestClassifier(criterion=&#x27;entropy&#x27;, n_estimators=10, random_state=0)</pre></div></div></div></div></div>"
      ],
      "text/plain": [
       "RandomForestClassifier(criterion='entropy', n_estimators=10, random_state=0)"
      ]
     },
     "execution_count": 85,
     "metadata": {},
     "output_type": "execute_result"
    }
   ],
   "source": [
    "from sklearn.ensemble import RandomForestClassifier\n",
    "classifier2 = RandomForestClassifier(n_estimators = 10, criterion = 'entropy', random_state = 0)\n",
    "classifier2.fit(X_train_minmax, y_train)\n",
    "Y_pred3 = classifier2.predict(X_test_minmax)"
   ]
  },
  {
   "cell_type": "code",
   "execution_count": 86,
   "id": "7e767706",
   "metadata": {},
   "outputs": [
    {
     "name": "stderr",
     "output_type": "stream",
     "text": [
      "/Users/anjalitanikella/opt/anaconda3/lib/python3.9/site-packages/sklearn/model_selection/_split.py:676: UserWarning: The least populated class in y has only 1 members, which is less than n_splits=5.\n",
      "  warnings.warn(\n"
     ]
    },
    {
     "name": "stdout",
     "output_type": "stream",
     "text": [
      "[0.85258005 0.9149457  0.90239729 0.92506505 0.92827553]\n",
      "Mean 5-Fold R Squared: 0.9046527228334188\n"
     ]
    }
   ],
   "source": [
    "SQR_RFC = np.sqrt(metrics.mean_squared_error(y_test, Y_pred3))\n",
    "R2_RFC = r2_score(y_test, Y_pred3)\n",
    "cv_r2_scores_rfc = cross_val_score(classifier2, dats, y, cv=5,scoring='r2')\n",
    "print(cv_r2_scores_rfc)\n",
    "print(\"Mean 5-Fold R Squared: {}\".format(np.mean(cv_r2_scores_rfc)))"
   ]
  },
  {
   "cell_type": "code",
   "execution_count": 87,
   "id": "146f9fba",
   "metadata": {},
   "outputs": [
    {
     "data": {
      "text/plain": [
       "<Figure size 720x720 with 0 Axes>"
      ]
     },
     "execution_count": 87,
     "metadata": {},
     "output_type": "execute_result"
    },
    {
     "data": {
      "text/plain": [
       "<matplotlib.collections.PathCollection at 0x7fc636cfd220>"
      ]
     },
     "execution_count": 87,
     "metadata": {},
     "output_type": "execute_result"
    },
    {
     "data": {
      "text/plain": [
       "[<matplotlib.lines.Line2D at 0x7fc636cfd550>]"
      ]
     },
     "execution_count": 87,
     "metadata": {},
     "output_type": "execute_result"
    },
    {
     "data": {
      "text/plain": [
       "Text(0.5, 1.0, 'Random_Forest prediction model')"
      ]
     },
     "execution_count": 87,
     "metadata": {},
     "output_type": "execute_result"
    },
    {
     "data": {
      "text/plain": [
       "Text(0.5, 0, 'True Values')"
      ]
     },
     "execution_count": 87,
     "metadata": {},
     "output_type": "execute_result"
    },
    {
     "data": {
      "text/plain": [
       "Text(0, 0.5, 'Predictions')"
      ]
     },
     "execution_count": 87,
     "metadata": {},
     "output_type": "execute_result"
    },
    {
     "data": {
      "text/plain": [
       "(6244.601721267029, 196970127.94443434, 6244.601721267029, 196970127.94443434)"
      ]
     },
     "execution_count": 87,
     "metadata": {},
     "output_type": "execute_result"
    },
    {
     "data": {
      "image/png": "[encoded data removed]",
      "text/plain": [
       "<Figure size 720x720 with 1 Axes>"
      ]
     },
     "metadata": {},
     "output_type": "display_data"
    }
   ],
   "source": [
    "plt.figure(figsize=(10,10))\n",
    "plt.scatter(y_test, Y_pred3, c='crimson')\n",
    "plt.yscale('log')\n",
    "plt.xscale('log')\n",
    "\n",
    "p1 = max(max(Y_pred3), max(y_test))\n",
    "p2 = min(min(Y_pred3), min(y_test))\n",
    "\n",
    "plt.plot([p1, p2], [p1, p2], 'b-')\n",
    "plt.title('Random_Forest prediction model')\n",
    "plt.xlabel('True Values', fontsize=15)\n",
    "plt.ylabel('Predictions', fontsize=15)\n",
    "plt.axis('equal')\n",
    "plt.show()"
   ]
  },
  {
   "cell_type": "markdown",
   "id": "ab8b64d8",
   "metadata": {},
   "source": [
    "### Decision Tree "
   ]
  },
  {
   "cell_type": "code",
   "execution_count": 88,
   "id": "3496c00b",
   "metadata": {},
   "outputs": [],
   "source": [
    "import sklearn\n",
    "from sklearn.tree import DecisionTreeClassifier"
   ]
  },
  {
   "cell_type": "code",
   "execution_count": 89,
   "id": "cccefd58",
   "metadata": {},
   "outputs": [],
   "source": [
    "clf = DecisionTreeClassifier()"
   ]
  },
  {
   "cell_type": "code",
   "execution_count": 90,
   "id": "915c0719",
   "metadata": {},
   "outputs": [],
   "source": [
    "clf = clf.fit(X_train_minmax, y_train)\n",
    "y_pred4 = clf.predict(X_test_minmax)"
   ]
  },
  {
   "cell_type": "code",
   "execution_count": 91,
   "id": "0ee5d036",
   "metadata": {},
   "outputs": [
    {
     "name": "stderr",
     "output_type": "stream",
     "text": [
      "/Users/anjalitanikella/opt/anaconda3/lib/python3.9/site-packages/sklearn/model_selection/_split.py:676: UserWarning: The least populated class in y has only 1 members, which is less than n_splits=5.\n",
      "  warnings.warn(\n"
     ]
    },
    {
     "name": "stdout",
     "output_type": "stream",
     "text": [
      "[0.95565673 0.97471542 0.97280196 0.95425019 0.95158706]\n",
      "Mean 5-Fold R Squared: 0.9618022719579067\n"
     ]
    }
   ],
   "source": [
    "SQR_DT = np.sqrt(metrics.mean_squared_error(y_test, y_pred4))\n",
    "R2_DT = r2_score(y_test, y_pred4)\n",
    "cv_r2_scores_DT = cross_val_score(clf, dats, y, cv=5,scoring='r2')\n",
    "print(cv_r2_scores_DT)\n",
    "print(\"Mean 5-Fold R Squared: {}\".format(np.mean(cv_r2_scores_DT)))"
   ]
  },
  {
   "cell_type": "code",
   "execution_count": 92,
   "id": "ecdebe2d",
   "metadata": {},
   "outputs": [
    {
     "data": {
      "text/plain": [
       "<Figure size 720x720 with 0 Axes>"
      ]
     },
     "execution_count": 92,
     "metadata": {},
     "output_type": "execute_result"
    },
    {
     "data": {
      "text/plain": [
       "<matplotlib.collections.PathCollection at 0x7fc611b1bd90>"
      ]
     },
     "execution_count": 92,
     "metadata": {},
     "output_type": "execute_result"
    },
    {
     "data": {
      "text/plain": [
       "[<matplotlib.lines.Line2D at 0x7fc611b400d0>]"
      ]
     },
     "execution_count": 92,
     "metadata": {},
     "output_type": "execute_result"
    },
    {
     "data": {
      "text/plain": [
       "Text(0.5, 1.0, 'Decision_Tree prediction model')"
      ]
     },
     "execution_count": 92,
     "metadata": {},
     "output_type": "execute_result"
    },
    {
     "data": {
      "text/plain": [
       "Text(0.5, 0, 'True Values')"
      ]
     },
     "execution_count": 92,
     "metadata": {},
     "output_type": "execute_result"
    },
    {
     "data": {
      "text/plain": [
       "Text(0, 0.5, 'Predictions')"
      ]
     },
     "execution_count": 92,
     "metadata": {},
     "output_type": "execute_result"
    },
    {
     "data": {
      "text/plain": [
       "(6244.601721267029, 196970127.94443434, 6244.601721267029, 196970127.94443434)"
      ]
     },
     "execution_count": 92,
     "metadata": {},
     "output_type": "execute_result"
    },
    {
     "data": {
      "image/png": "[encoded data removed]",
      "text/plain": [
       "<Figure size 720x720 with 1 Axes>"
      ]
     },
     "metadata": {},
     "output_type": "display_data"
    }
   ],
   "source": [
    "plt.figure(figsize=(10,10))\n",
    "plt.scatter(y_test, y_pred4, c='crimson')\n",
    "plt.yscale('log')\n",
    "plt.xscale('log')\n",
    "\n",
    "p1 = max(max(y_pred4), max(y_test))\n",
    "p2 = min(min(y_pred4), min(y_test))\n",
    "plt.plot([p1, p2], [p1, p2], 'b-')\n",
    "plt.title('Decision_Tree prediction model')\n",
    "plt.xlabel('True Values', fontsize=15)\n",
    "plt.ylabel('Predictions', fontsize=15)\n",
    "plt.axis('equal')\n",
    "plt.show()"
   ]
  },
  {
   "cell_type": "markdown",
   "id": "4ca352d0",
   "metadata": {},
   "source": [
    " ## statistics of each model"
   ]
  },
  {
   "cell_type": "code",
   "execution_count": 93,
   "id": "ce2d969c",
   "metadata": {
    "scrolled": true
   },
   "outputs": [
    {
     "data": {
      "text/html": [
       "<div>\n",
       "<style scoped>\n",
       "    .dataframe tbody tr th:only-of-type {\n",
       "        vertical-align: middle;\n",
       "    }\n",
       "\n",
       "    .dataframe tbody tr th {\n",
       "        vertical-align: top;\n",
       "    }\n",
       "\n",
       "    .dataframe thead th {\n",
       "        text-align: right;\n",
       "    }\n",
       "</style>\n",
       "<table border=\"1\" class=\"dataframe\">\n",
       "  <thead>\n",
       "    <tr style=\"text-align: right;\">\n",
       "      <th></th>\n",
       "      <th>Square_root</th>\n",
       "      <th>R2_Score</th>\n",
       "    </tr>\n",
       "  </thead>\n",
       "  <tbody>\n",
       "    <tr>\n",
       "      <th>Linear Regression</th>\n",
       "      <td>13.804718</td>\n",
       "      <td>0.970989</td>\n",
       "    </tr>\n",
       "    <tr>\n",
       "      <th>KNeighborsClassifier</th>\n",
       "      <td>14.670062</td>\n",
       "      <td>0.836244</td>\n",
       "    </tr>\n",
       "    <tr>\n",
       "      <th>SVC</th>\n",
       "      <td>15.141746</td>\n",
       "      <td>0.579372</td>\n",
       "    </tr>\n",
       "    <tr>\n",
       "      <th>Random Forest</th>\n",
       "      <td>14.355265</td>\n",
       "      <td>0.912749</td>\n",
       "    </tr>\n",
       "    <tr>\n",
       "      <th>Desicion Tree</th>\n",
       "      <td>14.062429</td>\n",
       "      <td>0.951425</td>\n",
       "    </tr>\n",
       "  </tbody>\n",
       "</table>\n",
       "</div>"
      ],
      "text/plain": [
       "                      Square_root  R2_Score\n",
       "Linear Regression       13.804718  0.970989\n",
       "KNeighborsClassifier    14.670062  0.836244\n",
       "SVC                     15.141746  0.579372\n",
       "Random Forest           14.355265  0.912749\n",
       "Desicion Tree           14.062429  0.951425"
      ]
     },
     "execution_count": 93,
     "metadata": {},
     "output_type": "execute_result"
    }
   ],
   "source": [
    "header = ['Linear Regression' , 'KNeighborsClassifier' , 'SVC' ,'Random Forest' ,'Desicion Tree']\n",
    "data = [np.log(SQR_linearreg) , np.log(SQR_KF), np.log(SQT_SVC) , np.log(SQR_RFC) ,np.log( SQR_DT)]\n",
    "stat_analysis = pd.DataFrame(data = data , index = header )\n",
    "stat_analysis.rename(columns = {0:'Square_root'}, inplace = True)\n",
    "stat_analysis['R2_Score'] = [R2_linearreg , R2_KF ,R2_SVC , R2_RFC , R2_DT ]\n",
    "stat_analysis"
   ]
  },
  {
   "cell_type": "markdown",
   "id": "e07578bd",
   "metadata": {},
   "source": [
    "# Conclusion"
   ]
  },
  {
   "cell_type": "markdown",
   "id": "e3b00b80",
   "metadata": {},
   "source": [
    "We made five models and compared their r2 scores to understand their efficency . tho all models presented us with good results  Linear regression model and Desicion Tree model handled various features much better comparitivley ."
   ]
  },
  {
   "cell_type": "markdown",
   "id": "9d185679",
   "metadata": {},
   "source": [
    "# Reference "
   ]
  },
  {
   "cell_type": "markdown",
   "id": "c9f119ff",
   "metadata": {},
   "source": [
    "https://mkzia.github.io/eas503-notes/intro.html\n"
   ]
  },
  {
   "cell_type": "markdown",
   "id": "3e6560de",
   "metadata": {},
   "source": [
    "https://www.kaggle.com/datasets/stefanoleone992/fifa-20-complete-player-dataset"
   ]
  },
  {
   "cell_type": "markdown",
   "id": "b8482fcb",
   "metadata": {},
   "source": [
    "\n",
    "https://scikit-learn.org/stable/supervised_learning.html"
   ]
  },
  {
   "cell_type": "markdown",
   "id": "08be46e5",
   "metadata": {},
   "source": [
    "# Acknowledgement "
   ]
  },
  {
   "cell_type": "markdown",
   "id": "5bec9234",
   "metadata": {},
   "source": [
    "We would like to sincerely thank our Prof. Mohamad Zia for the guidance thought this course helping us accomplish this project."
   ]
  },
  {
   "cell_type": "code",
   "execution_count": null,
   "id": "3e3f32b0",
   "metadata": {},
   "outputs": [],
   "source": []
  }
 ],
 "metadata": {
  "kernelspec": {
   "display_name": "Python 3 (ipykernel)",
   "language": "python",
   "name": "python3"
  },
  "language_info": {
   "codemirror_mode": {
    "name": "ipython",
    "version": 3
   },
   "file_extension": ".py",
   "mimetype": "text/x-python",
   "name": "python",
   "nbconvert_exporter": "python",
   "pygments_lexer": "ipython3",
   "version": "3.9.7"
  }
 },
 "nbformat": 4,
 "nbformat_minor": 5
}
